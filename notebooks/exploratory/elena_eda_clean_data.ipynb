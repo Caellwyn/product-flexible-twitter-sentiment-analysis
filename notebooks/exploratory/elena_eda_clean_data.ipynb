{
 "cells": [
  {
   "cell_type": "markdown",
   "metadata": {},
   "source": [
    "# Elena's EDA notebook"
   ]
  },
  {
   "cell_type": "code",
   "execution_count": 67,
   "metadata": {},
   "outputs": [],
   "source": [
    "import pandas as pd\n",
    "import numpy as np\n",
    "import seaborn as sns\n",
    "import matplotlib.pyplot as plt\n",
    "\n",
    "# Models\n",
    "from sklearn.feature_extraction.text import CountVectorizer, TfidfVectorizer\n",
    "from sklearn.linear_model import LogisticRegression\n",
    "from sklearn.ensemble import RandomForestClassifier, BaggingClassifier, VotingClassifier\n",
    "from sklearn.tree import DecisionTreeClassifier\n",
    "from sklearn.naive_bayes import MultinomialNB\n",
    "\n",
    "# Transformers\n",
    "from sklearn.preprocessing import StandardScaler, OneHotEncoder\n",
    "from sklearn.preprocessing import LabelBinarizer, LabelEncoder\n",
    "\n",
    "# Modeling Evaluation\n",
    "from sklearn.model_selection import train_test_split, cross_val_score, GridSearchCV\n",
    "from sklearn.metrics import roc_curve, auc, recall_score, f1_score\n",
    "from sklearn.metrics import classification_report, accuracy_score\n",
    "\n",
    "# Pipelines\n",
    "from imblearn.pipeline import Pipeline, make_pipeline\n",
    "\n",
    "# SMOTE\n",
    "from imblearn.over_sampling import SMOTE"
   ]
  },
  {
   "cell_type": "code",
   "execution_count": 2,
   "metadata": {},
   "outputs": [],
   "source": [
    "import sys\n",
    "\n",
    "sys.path.append(\"../../src\")\n",
    "\n",
    "from model_evaluation import plot_confusion_matrix"
   ]
  },
  {
   "cell_type": "markdown",
   "metadata": {},
   "source": [
    "# Data Preprocessing "
   ]
  },
  {
   "cell_type": "code",
   "execution_count": 167,
   "metadata": {},
   "outputs": [
    {
     "data": {
      "text/html": [
       "<div>\n",
       "<style scoped>\n",
       "    .dataframe tbody tr th:only-of-type {\n",
       "        vertical-align: middle;\n",
       "    }\n",
       "\n",
       "    .dataframe tbody tr th {\n",
       "        vertical-align: top;\n",
       "    }\n",
       "\n",
       "    .dataframe thead th {\n",
       "        text-align: right;\n",
       "    }\n",
       "</style>\n",
       "<table border=\"1\" class=\"dataframe\">\n",
       "  <thead>\n",
       "    <tr style=\"text-align: right;\">\n",
       "      <th></th>\n",
       "      <th>emotion</th>\n",
       "      <th>txt_cleaned</th>\n",
       "    </tr>\n",
       "  </thead>\n",
       "  <tbody>\n",
       "    <tr>\n",
       "      <th>0</th>\n",
       "      <td>0.0</td>\n",
       "      <td>product_target hr tweet riseaustin dead need u...</td>\n",
       "    </tr>\n",
       "    <tr>\n",
       "      <th>1</th>\n",
       "      <td>2.0</td>\n",
       "      <td>know awesome ipadiphone product_target youll l...</td>\n",
       "    </tr>\n",
       "    <tr>\n",
       "      <th>2</th>\n",
       "      <td>2.0</td>\n",
       "      <td>wait product_target also sale sxsw</td>\n",
       "    </tr>\n",
       "    <tr>\n",
       "      <th>3</th>\n",
       "      <td>0.0</td>\n",
       "      <td>hope year festival isnt crashy year iphone pro...</td>\n",
       "    </tr>\n",
       "    <tr>\n",
       "      <th>4</th>\n",
       "      <td>2.0</td>\n",
       "      <td>great stuff fri sxsw marissa mayer product_tar...</td>\n",
       "    </tr>\n",
       "  </tbody>\n",
       "</table>\n",
       "</div>"
      ],
      "text/plain": [
       "   emotion                                        txt_cleaned\n",
       "0      0.0  product_target hr tweet riseaustin dead need u...\n",
       "1      2.0  know awesome ipadiphone product_target youll l...\n",
       "2      2.0                 wait product_target also sale sxsw\n",
       "3      0.0  hope year festival isnt crashy year iphone pro...\n",
       "4      2.0  great stuff fri sxsw marissa mayer product_tar..."
      ]
     },
     "execution_count": 167,
     "metadata": {},
     "output_type": "execute_result"
    }
   ],
   "source": [
    "clean_df = pd.read_csv('../../data/targeted_combined.csv')\n",
    "clean_df.head()"
   ]
  },
  {
   "cell_type": "code",
   "execution_count": 168,
   "metadata": {},
   "outputs": [
    {
     "data": {
      "text/plain": [
       "2.0    8213\n",
       "0.0    8062\n",
       "1.0    6331\n",
       "Name: emotion, dtype: int64"
      ]
     },
     "execution_count": 168,
     "metadata": {},
     "output_type": "execute_result"
    }
   ],
   "source": [
    "clean_df['emotion'].value_counts()"
   ]
  },
  {
   "cell_type": "code",
   "execution_count": 169,
   "metadata": {},
   "outputs": [
    {
     "data": {
      "text/plain": [
       "emotion        0\n",
       "txt_cleaned    0\n",
       "dtype: int64"
      ]
     },
     "execution_count": 169,
     "metadata": {},
     "output_type": "execute_result"
    }
   ],
   "source": [
    "clean_df.isna().sum()"
   ]
  },
  {
   "cell_type": "code",
   "execution_count": 170,
   "metadata": {},
   "outputs": [],
   "source": [
    "# divides data into feature X and target y \n",
    "\n",
    "X = clean_df['txt_cleaned'].values.astype('U')\n",
    "y = clean_df['emotion']\n",
    "\n",
    "X_train, X_test, y_train, y_test = train_test_split(X, y, random_state = 42, test_size = 0.25)\n",
    "X_t, X_val, y_t, y_val = train_test_split(X_train, y_train, random_state = 42, test_size = 0.25)"
   ]
  },
  {
   "cell_type": "markdown",
   "metadata": {},
   "source": [
    "# FSM: Multinomial Naive Bayes"
   ]
  },
  {
   "cell_type": "markdown",
   "metadata": {},
   "source": [
    "The first simple model was run using Multinomial Naive Bayes classifier with unbalanced original data.\n",
    "Note: the data is not uploaded in this notebook."
   ]
  },
  {
   "cell_type": "code",
   "execution_count": 33,
   "metadata": {},
   "outputs": [
    {
     "data": {
      "text/plain": [
       "0.8622511174319383"
      ]
     },
     "execution_count": 33,
     "metadata": {},
     "output_type": "execute_result"
    }
   ],
   "source": [
    "mnb = MultinomialNB()\n",
    "\n",
    "mnb.fit(X_t_vec, y_t)\n",
    "y_hat = mnb.predict(X_t_vec)\n",
    "accuracy_score(y_t, y_hat)"
   ]
  },
  {
   "cell_type": "code",
   "execution_count": 98,
   "metadata": {},
   "outputs": [
    {
     "data": {
      "text/plain": [
       "0.8355663824604141"
      ]
     },
     "execution_count": 98,
     "metadata": {},
     "output_type": "execute_result"
    }
   ],
   "source": [
    "y_hat2 = mnb.predict(X_val_vec)\n",
    "accuracy_score(y_val, y_hat)"
   ]
  },
  {
   "cell_type": "code",
   "execution_count": 34,
   "metadata": {
    "collapsed": true,
    "jupyter": {
     "outputs_hidden": true
    }
   },
   "outputs": [
    {
     "data": {
      "text/plain": [
       "4732    0.817702\n",
       "dtype: float64"
      ]
     },
     "execution_count": 34,
     "metadata": {},
     "output_type": "execute_result"
    }
   ],
   "source": [
    "X_t_vec.sample(1).max(axis = 1)"
   ]
  },
  {
   "cell_type": "code",
   "execution_count": 99,
   "metadata": {},
   "outputs": [
    {
     "data": {
      "text/plain": [
       "array([[ 14,   0, 116],\n",
       "       [  0,   0,  19],\n",
       "       [  0,   0, 672]])"
      ]
     },
     "execution_count": 99,
     "metadata": {},
     "output_type": "execute_result"
    }
   ],
   "source": [
    "confusion_matrix(y_val, y_hat2)"
   ]
  },
  {
   "cell_type": "code",
   "execution_count": 100,
   "metadata": {},
   "outputs": [
    {
     "data": {
      "text/plain": [
       "<sklearn.metrics._plot.confusion_matrix.ConfusionMatrixDisplay at 0x7fc52999bc70>"
      ]
     },
     "execution_count": 100,
     "metadata": {},
     "output_type": "execute_result"
    },
    {
     "data": {
      "image/png": "[encoded data removed]",
      "text/plain": [
       "<Figure size 432x288 with 2 Axes>"
      ]
     },
     "metadata": {},
     "output_type": "display_data"
    }
   ],
   "source": [
    "plot_confusion_matrix(mnb, X_val_vec, y_val)"
   ]
  },
  {
   "cell_type": "markdown",
   "metadata": {},
   "source": [
    "### First Simple Model Evaluation\n",
    "It reaches a 83% accuracy; however, the data is heavily unbalanced. Need to add more data. "
   ]
  },
  {
   "cell_type": "markdown",
   "metadata": {},
   "source": [
    "# Multinomial Naive Bayes"
   ]
  },
  {
   "cell_type": "markdown",
   "metadata": {},
   "source": [
    "Running the model with new clean data set"
   ]
  },
  {
   "cell_type": "markdown",
   "metadata": {},
   "source": [
    "### TF-IDF Vectorizer"
   ]
  },
  {
   "cell_type": "markdown",
   "metadata": {},
   "source": [
    "You can read more about TF-IDF method on wikipedia: https://en.wikipedia.org/wiki/Tf%E2%80%93idf\n",
    "\n",
    "We will use pipeline for hyperparameter tuning and use grid search to find the best combination.\n",
    "TF-IDF hyperparameters that we will tune are: \n",
    "- n-gram range: (1,1) unigrams (one word), (2,2) bigrams (two adjacent words), (3,3) trigrams (three adjacent words) and their combinations (1,2) and (2,3). \n",
    "- maximum document frequency set to 1%, 5% and 25% that means it will ignore temrs that appear in more than given percentage of the documents.\n",
    "- minimum document frequency set to 1 and 2 that means it will ignore temrs that appear in less than given number of the documents.\n",
    "- normalization method\n",
    "\n",
    "Naive Bayes hyperparameter:\n",
    "- alpha from additive (Laplace/Lidstone) smoothing parameter to closer no smoothing."
   ]
  },
  {
   "cell_type": "code",
   "execution_count": 171,
   "metadata": {},
   "outputs": [
    {
     "data": {
      "text/plain": [
       "Pipeline(steps=[('tfidfvectorizer', TfidfVectorizer()),\n",
       "                ('multinomialnb', MultinomialNB())])"
      ]
     },
     "execution_count": 171,
     "metadata": {},
     "output_type": "execute_result"
    }
   ],
   "source": [
    "pipeline_nb_tf = make_pipeline(TfidfVectorizer(), MultinomialNB())\n",
    "pipeline_nb_tf"
   ]
  },
  {
   "cell_type": "code",
   "execution_count": 172,
   "metadata": {},
   "outputs": [],
   "source": [
    "# Parameters of pipelines can be set using ‘__’ separated parameter names:\n",
    "# Define the parameter grid\n",
    "grid_nb_tf = {\n",
    "    'tfidfvectorizer__min_df': [1, 2],\n",
    "    'tfidfvectorizer__max_df': [0.01, 0.05, 0.25],\n",
    "    'tfidfvectorizer__ngram_range': [(1,1), (1,2), (2,2), (2,3), (3,3)],\n",
    "    'tfidfvectorizer__norm': ('l1', 'l2'),\n",
    "    'multinomialnb__alpha': [1, 0.1, 0.01, 0.001]   \n",
    "}"
   ]
  },
  {
   "cell_type": "code",
   "execution_count": 173,
   "metadata": {},
   "outputs": [],
   "source": [
    "gs_nb_tf = GridSearchCV(pipeline_nb_tf, grid_nb_tf, cv=3)"
   ]
  },
  {
   "cell_type": "code",
   "execution_count": 174,
   "metadata": {},
   "outputs": [
    {
     "data": {
      "text/plain": [
       "GridSearchCV(cv=3,\n",
       "             estimator=Pipeline(steps=[('tfidfvectorizer', TfidfVectorizer()),\n",
       "                                       ('multinomialnb', MultinomialNB())]),\n",
       "             param_grid={'multinomialnb__alpha': [1, 0.1, 0.01, 0.001],\n",
       "                         'tfidfvectorizer__max_df': [0.01, 0.05, 0.25],\n",
       "                         'tfidfvectorizer__min_df': [1, 2],\n",
       "                         'tfidfvectorizer__ngram_range': [(1, 1), (1, 2),\n",
       "                                                          (2, 2), (2, 3),\n",
       "                                                          (3, 3)],\n",
       "                         'tfidfvectorizer__norm': ('l1', 'l2')})"
      ]
     },
     "execution_count": 174,
     "metadata": {},
     "output_type": "execute_result"
    }
   ],
   "source": [
    "gs_nb_tf.fit(X_t, y_t)"
   ]
  },
  {
   "cell_type": "code",
   "execution_count": 175,
   "metadata": {},
   "outputs": [
    {
     "data": {
      "text/plain": [
       "{'multinomialnb__alpha': 0.1,\n",
       " 'tfidfvectorizer__max_df': 0.25,\n",
       " 'tfidfvectorizer__min_df': 1,\n",
       " 'tfidfvectorizer__ngram_range': (1, 2),\n",
       " 'tfidfvectorizer__norm': 'l2'}"
      ]
     },
     "execution_count": 175,
     "metadata": {},
     "output_type": "execute_result"
    }
   ],
   "source": [
    "gs_nb_tf.best_params_"
   ]
  },
  {
   "cell_type": "code",
   "execution_count": 176,
   "metadata": {},
   "outputs": [
    {
     "data": {
      "text/plain": [
       "Pipeline(steps=[('tfidfvectorizer',\n",
       "                 TfidfVectorizer(max_df=0.25, ngram_range=(1, 2))),\n",
       "                ('multinomialnb', MultinomialNB(alpha=0.1))])"
      ]
     },
     "execution_count": 176,
     "metadata": {},
     "output_type": "execute_result"
    }
   ],
   "source": [
    "gs_nb_tf.best_estimator_"
   ]
  },
  {
   "cell_type": "code",
   "execution_count": 177,
   "metadata": {},
   "outputs": [],
   "source": [
    "#gs_nb_tf.fit(X_val, y_val)"
   ]
  },
  {
   "cell_type": "code",
   "execution_count": 178,
   "metadata": {},
   "outputs": [
    {
     "data": {
      "text/plain": [
       "0.6350554376032083"
      ]
     },
     "execution_count": 178,
     "metadata": {},
     "output_type": "execute_result"
    }
   ],
   "source": [
    "y_pred_nb_tf = gs_nb_tf.predict(X_val)\n",
    "accuracy_score(y_val, y_pred_nb_tf)"
   ]
  },
  {
   "cell_type": "code",
   "execution_count": 179,
   "metadata": {},
   "outputs": [
    {
     "data": {
      "image/png": "[encoded data removed]",
      "text/plain": [
       "<Figure size 432x288 with 2 Axes>"
      ]
     },
     "metadata": {},
     "output_type": "display_data"
    }
   ],
   "source": [
    "plot_confusion_matrix(y_val,y_pred_nb_tf)"
   ]
  },
  {
   "cell_type": "code",
   "execution_count": 180,
   "metadata": {},
   "outputs": [
    {
     "data": {
      "text/plain": [
       "GridSearchCV(cv=3,\n",
       "             estimator=Pipeline(steps=[('tfidfvectorizer', TfidfVectorizer()),\n",
       "                                       ('multinomialnb', MultinomialNB())]),\n",
       "             param_grid={'multinomialnb__alpha': [1, 0.1, 0.01, 0.001],\n",
       "                         'tfidfvectorizer__max_df': [0.01, 0.05, 0.25],\n",
       "                         'tfidfvectorizer__min_df': [1, 2],\n",
       "                         'tfidfvectorizer__ngram_range': [(1, 1), (1, 2),\n",
       "                                                          (2, 2), (2, 3),\n",
       "                                                          (3, 3)],\n",
       "                         'tfidfvectorizer__norm': ('l1', 'l2')})"
      ]
     },
     "execution_count": 180,
     "metadata": {},
     "output_type": "execute_result"
    }
   ],
   "source": [
    "gs_nb_tf.fit(X_train, y_train)"
   ]
  },
  {
   "cell_type": "code",
   "execution_count": 181,
   "metadata": {},
   "outputs": [
    {
     "data": {
      "text/plain": [
       "0.6411889596602972"
      ]
     },
     "execution_count": 181,
     "metadata": {},
     "output_type": "execute_result"
    }
   ],
   "source": [
    "y_pred_nb_tf_test = gs_nb_tf.predict(X_test)\n",
    "accuracy_score(y_test, y_pred_nb_tf_test)"
   ]
  },
  {
   "cell_type": "code",
   "execution_count": 182,
   "metadata": {},
   "outputs": [
    {
     "data": {
      "text/plain": [
       "0.6264594019960018"
      ]
     },
     "execution_count": 182,
     "metadata": {},
     "output_type": "execute_result"
    }
   ],
   "source": [
    "gs_nb_tf.best_score_"
   ]
  },
  {
   "cell_type": "code",
   "execution_count": 183,
   "metadata": {},
   "outputs": [
    {
     "data": {
      "text/plain": [
       "0.6411889596602972"
      ]
     },
     "execution_count": 183,
     "metadata": {},
     "output_type": "execute_result"
    }
   ],
   "source": [
    "gs_nb_tf.best_estimator_.score(X_test, y_test)"
   ]
  },
  {
   "cell_type": "code",
   "execution_count": 184,
   "metadata": {
    "collapsed": true,
    "jupyter": {
     "outputs_hidden": true
    }
   },
   "outputs": [
    {
     "data": {
      "text/plain": [
       "{'mean_fit_time': array([0.13005884, 0.12064219, 0.29061373, 0.33225457, 0.26413472,\n",
       "        0.23642937, 0.4290487 , 0.42938463, 0.23524499, 0.23772295,\n",
       "        0.11130301, 0.11185002, 0.25120139, 0.21740635, 0.17375263,\n",
       "        0.18315212, 0.29774801, 0.31146526, 0.181451  , 0.185371  ,\n",
       "        0.1278367 , 0.1232206 , 0.32880966, 0.35116927, 0.24027729,\n",
       "        0.24968028, 0.44193594, 0.42680939, 0.2692097 , 0.29721983,\n",
       "        0.15509208, 0.12789718, 0.2798117 , 0.27448996, 0.19264523,\n",
       "        0.19478019, 0.30511562, 0.28742727, 0.17032846, 0.17027632,\n",
       "        0.13673782, 0.12941138, 0.32021658, 0.33117421, 0.24737708,\n",
       "        0.25902073, 0.46250232, 0.4634347 , 0.27067343, 0.25880814,\n",
       "        0.118457  , 0.11813378, 0.24939553, 0.24876992, 0.18418868,\n",
       "        0.19178828, 0.28687708, 0.27809366, 0.16003505, 0.16540766,\n",
       "        0.12566272, 0.13363616, 0.29906869, 0.29383906, 0.24167196,\n",
       "        0.24749835, 0.43800712, 0.42151475, 0.24759277, 0.23769204,\n",
       "        0.12030117, 0.12801973, 0.24379603, 0.25577132, 0.19620403,\n",
       "        0.21012139, 0.31370974, 0.33479587, 0.18541773, 0.19178391,\n",
       "        0.15094701, 0.13489564, 0.36677305, 0.35726666, 0.27705463,\n",
       "        0.27003781, 0.47482427, 0.47718294, 0.26050838, 0.271053  ,\n",
       "        0.11962334, 0.12128321, 0.24195695, 0.24576259, 0.18043701,\n",
       "        0.1829284 , 0.28691061, 0.28394437, 0.17062664, 0.17366385,\n",
       "        0.12856571, 0.12886333, 0.32037735, 0.32026871, 0.24612172,\n",
       "        0.24779002, 0.45914896, 0.49178894, 0.27708864, 0.27624981,\n",
       "        0.12498848, 0.12781564, 0.26057935, 0.26040832, 0.18658312,\n",
       "        0.17993466, 0.28330445, 0.28281975, 0.17444468, 0.1709977 ,\n",
       "        0.12731902, 0.12626894, 0.33308045, 0.35829894, 0.26677171,\n",
       "        0.25719961, 0.46495159, 0.49687044, 0.27371597, 0.25183264,\n",
       "        0.1191233 , 0.11766545, 0.24117867, 0.26821836, 0.19747464,\n",
       "        0.19440285, 0.30739689, 0.292437  , 0.17018406, 0.17004593,\n",
       "        0.12837791, 0.13587014, 0.32241789, 0.32196768, 0.27127449,\n",
       "        0.26859466, 0.49045833, 0.49355563, 0.29242341, 0.27997589,\n",
       "        0.12423698, 0.12129776, 0.24144157, 0.24184688, 0.18100301,\n",
       "        0.19373902, 0.28656324, 0.28181966, 0.17075364, 0.16931725,\n",
       "        0.13015143, 0.15026983, 0.31528393, 0.3212556 , 0.24442307,\n",
       "        0.25448839, 0.46431565, 0.48518999, 0.27346841, 0.24278307,\n",
       "        0.13834961, 0.13140726, 0.27065166, 0.26909097, 0.1948123 ,\n",
       "        0.1924262 , 0.32822458, 0.30936925, 0.1692764 , 0.16959961,\n",
       "        0.12652675, 0.13246393, 0.32803734, 0.31888032, 0.24626939,\n",
       "        0.24521375, 0.47016136, 0.45463101, 0.25437403, 0.25710265,\n",
       "        0.12775795, 0.1183037 , 0.24795238, 0.24109634, 0.17986695,\n",
       "        0.17882967, 0.28570604, 0.29259483, 0.17069936, 0.17087332,\n",
       "        0.12751484, 0.14360261, 0.34370128, 0.3193477 , 0.28628262,\n",
       "        0.26944272, 0.45218412, 0.43539707, 0.23219895, 0.23250731,\n",
       "        0.11166573, 0.11242843, 0.22744441, 0.25625706, 0.17565068,\n",
       "        0.17099555, 0.26682997, 0.27953895, 0.17276144, 0.17533461,\n",
       "        0.11859528, 0.12169401, 0.2923367 , 0.32241678, 0.2408007 ,\n",
       "        0.23414358, 0.45677352, 0.45538306, 0.2651523 , 0.26268435,\n",
       "        0.1175317 , 0.11735471, 0.24052858, 0.24140668, 0.17777403,\n",
       "        0.17788466, 0.28350234, 0.28088705, 0.1792864 , 0.1778837 ]),\n",
       " 'std_fit_time': array([0.01969403, 0.00912437, 0.00341362, 0.00473292, 0.00900007,\n",
       "        0.01157089, 0.00860751, 0.01219594, 0.00168424, 0.00599222,\n",
       "        0.00311321, 0.00344206, 0.02467111, 0.00083195, 0.00613922,\n",
       "        0.00868757, 0.0119605 , 0.02185587, 0.008548  , 0.01152529,\n",
       "        0.00806091, 0.00631775, 0.02001205, 0.01649563, 0.00622332,\n",
       "        0.00393314, 0.01426538, 0.01340085, 0.01367667, 0.01689832,\n",
       "        0.00883255, 0.00273283, 0.00991466, 0.01479726, 0.00528292,\n",
       "        0.00510248, 0.01287539, 0.00750092, 0.00248895, 0.00049392,\n",
       "        0.00234549, 0.00345341, 0.00332331, 0.00900895, 0.00179242,\n",
       "        0.00947414, 0.00549448, 0.01100941, 0.01357551, 0.00417853,\n",
       "        0.00147384, 0.00041608, 0.01319003, 0.01152176, 0.00374017,\n",
       "        0.00770209, 0.03066614, 0.00814561, 0.00665615, 0.00388124,\n",
       "        0.00894137, 0.00061324, 0.00829661, 0.00134898, 0.01310333,\n",
       "        0.01700743, 0.01075214, 0.00380147, 0.01003883, 0.00116601,\n",
       "        0.00223829, 0.00666717, 0.00901095, 0.01370944, 0.00327956,\n",
       "        0.0017471 , 0.00850347, 0.03291555, 0.00501232, 0.01294068,\n",
       "        0.01048968, 0.00030511, 0.01072931, 0.02383018, 0.00981444,\n",
       "        0.03252291, 0.02799481, 0.03624525, 0.00526299, 0.01518168,\n",
       "        0.00139192, 0.00231976, 0.0008511 , 0.00308788, 0.00101391,\n",
       "        0.00449038, 0.00190786, 0.00051486, 0.00176128, 0.00456907,\n",
       "        0.00068704, 0.0008532 , 0.00067033, 0.00135651, 0.00149647,\n",
       "        0.00183563, 0.00386035, 0.02459243, 0.00446421, 0.00301897,\n",
       "        0.00542483, 0.00094013, 0.00103513, 0.00146431, 0.00537003,\n",
       "        0.00133581, 0.0025532 , 0.00405728, 0.00385122, 0.00158093,\n",
       "        0.0005232 , 0.0003897 , 0.02218081, 0.00758325, 0.00245289,\n",
       "        0.0108523 , 0.01658405, 0.00536708, 0.0023452 , 0.00286806,\n",
       "        0.00098059, 0.00052061, 0.00123217, 0.00782011, 0.00366655,\n",
       "        0.00050805, 0.00244547, 0.01107112, 0.00320348, 0.00266325,\n",
       "        0.00404136, 0.01206631, 0.00328866, 0.00082754, 0.0042548 ,\n",
       "        0.00181073, 0.01148575, 0.00849076, 0.01028148, 0.00623275,\n",
       "        0.00680077, 0.00166214, 0.00089711, 0.00168069, 0.00190746,\n",
       "        0.00811577, 0.00443398, 0.00152552, 0.00037553, 0.00056488,\n",
       "        0.00284114, 0.01776711, 0.00259341, 0.00172491, 0.00053889,\n",
       "        0.00858205, 0.01452124, 0.04598992, 0.0102782 , 0.00730191,\n",
       "        0.00491204, 0.00885673, 0.03397842, 0.0013236 , 0.00410653,\n",
       "        0.00123912, 0.01091973, 0.00322004, 0.00125109, 0.00124921,\n",
       "        0.00068828, 0.00232275, 0.01309224, 0.00242747, 0.00081291,\n",
       "        0.0007694 , 0.00846749, 0.0018385 , 0.0012978 , 0.00363496,\n",
       "        0.00136809, 0.00031732, 0.00989178, 0.00214071, 0.00117994,\n",
       "        0.00063429, 0.00331468, 0.01198115, 0.00173357, 0.00141376,\n",
       "        0.00150678, 0.02239026, 0.01717088, 0.00070343, 0.03873717,\n",
       "        0.01932461, 0.00807073, 0.00706712, 0.00172474, 0.00307135,\n",
       "        0.00028265, 0.00680599, 0.00759088, 0.00932578, 0.01176135,\n",
       "        0.00336288, 0.00182194, 0.01611052, 0.00589663, 0.00512682,\n",
       "        0.00218115, 0.00130186, 0.00227283, 0.00909243, 0.01211713,\n",
       "        0.00804072, 0.00548079, 0.00640934, 0.00704038, 0.01329885,\n",
       "        0.00080281, 0.00060108, 0.00062263, 0.00039296, 0.00037209,\n",
       "        0.00186143, 0.00075336, 0.00093163, 0.00511634, 0.00380965]),\n",
       " 'mean_score_time': array([0.04880206, 0.04627029, 0.08453393, 0.09228977, 0.08825588,\n",
       "        0.06358512, 0.09634622, 0.09110339, 0.06224092, 0.06010906,\n",
       "        0.04808291, 0.04620894, 0.08306321, 0.07773606, 0.06105471,\n",
       "        0.06766836, 0.09588432, 0.09595839, 0.0621589 , 0.06238627,\n",
       "        0.04863667, 0.04826903, 0.09835291, 0.10676638, 0.06718421,\n",
       "        0.0716517 , 0.0986344 , 0.09968837, 0.07034039, 0.07593815,\n",
       "        0.06113291, 0.054377  , 0.10223929, 0.10386332, 0.07051071,\n",
       "        0.07222342, 0.10164801, 0.0929633 , 0.0597562 , 0.06185802,\n",
       "        0.05568679, 0.05233995, 0.09370899, 0.09646845, 0.07136369,\n",
       "        0.07216199, 0.10190996, 0.10461966, 0.06793197, 0.06623284,\n",
       "        0.05115279, 0.05039557, 0.09079909, 0.09079846, 0.06666493,\n",
       "        0.07261761, 0.08483656, 0.09171693, 0.05927364, 0.06018996,\n",
       "        0.04746159, 0.05043085, 0.08853022, 0.08291801, 0.07007003,\n",
       "        0.06591558, 0.10055693, 0.09218351, 0.063025  , 0.06430483,\n",
       "        0.05068143, 0.05927324, 0.08392533, 0.09316969, 0.07164963,\n",
       "        0.07535092, 0.10270039, 0.10536011, 0.06476847, 0.06792172,\n",
       "        0.05651736, 0.05358299, 0.10672839, 0.10023395, 0.08032544,\n",
       "        0.07147487, 0.106788  , 0.10333975, 0.06651195, 0.06904968,\n",
       "        0.05095649, 0.05138572, 0.08905927, 0.08754929, 0.06574686,\n",
       "        0.06629999, 0.09334207, 0.09409904, 0.06088742, 0.06233867,\n",
       "        0.05192367, 0.05224633, 0.09487796, 0.09479435, 0.07102132,\n",
       "        0.07122898, 0.10322261, 0.10979207, 0.07106638, 0.07004428,\n",
       "        0.05347761, 0.05597925, 0.09511662, 0.09654872, 0.06755288,\n",
       "        0.06572398, 0.09209315, 0.09518162, 0.06305162, 0.06184864,\n",
       "        0.05119602, 0.0514756 , 0.09505137, 0.10203075, 0.07543095,\n",
       "        0.07285476, 0.10537561, 0.10973756, 0.07064478, 0.0656027 ,\n",
       "        0.04917026, 0.05020905, 0.08474302, 0.09521095, 0.07222462,\n",
       "        0.07044816, 0.09973017, 0.09431998, 0.06104   , 0.06232238,\n",
       "        0.05238001, 0.05221891, 0.09475478, 0.09291339, 0.07708017,\n",
       "        0.07789389, 0.11298196, 0.10918101, 0.07636833, 0.07234677,\n",
       "        0.05286193, 0.05188028, 0.08688498, 0.08693115, 0.06790829,\n",
       "        0.0718139 , 0.09271304, 0.09398675, 0.06074572, 0.06053011,\n",
       "        0.05926919, 0.05713574, 0.09442528, 0.09412893, 0.07250333,\n",
       "        0.0716246 , 0.10180434, 0.1141301 , 0.07022031, 0.06488466,\n",
       "        0.06694134, 0.05431604, 0.1031963 , 0.09819229, 0.0708425 ,\n",
       "        0.07344699, 0.11196423, 0.09983412, 0.060383  , 0.06011224,\n",
       "        0.05054673, 0.05288474, 0.09615199, 0.09203927, 0.07051023,\n",
       "        0.0707674 , 0.10808905, 0.10229643, 0.0673124 , 0.0774076 ,\n",
       "        0.05131904, 0.05007362, 0.08499408, 0.08494123, 0.06568805,\n",
       "        0.06621663, 0.09343759, 0.09455132, 0.06020864, 0.06027023,\n",
       "        0.05131054, 0.05607708, 0.09815176, 0.09389257, 0.08174475,\n",
       "        0.08120004, 0.09893338, 0.09486   , 0.06130703, 0.06177306,\n",
       "        0.04879061, 0.05127756, 0.08212264, 0.09642959, 0.0694224 ,\n",
       "        0.06037005, 0.08765642, 0.08931772, 0.05863571, 0.05941439,\n",
       "        0.0492417 , 0.05152098, 0.08675798, 0.09693329, 0.06657664,\n",
       "        0.06862839, 0.10182071, 0.10382819, 0.06695318, 0.06606531,\n",
       "        0.05124044, 0.05056334, 0.08643357, 0.08767557, 0.06558108,\n",
       "        0.06564458, 0.09333181, 0.092664  , 0.06411099, 0.06410901]),\n",
       " 'std_score_time': array([3.64109435e-03, 3.73772325e-04, 7.86805177e-04, 1.70129440e-03,\n",
       "        1.84200096e-02, 7.36728849e-04, 1.53976955e-03, 1.25914412e-03,\n",
       "        9.32128231e-04, 1.33972931e-03, 2.23471488e-03, 1.35995120e-03,\n",
       "        5.87396382e-03, 3.71844429e-03, 2.28394639e-03, 3.18829430e-03,\n",
       "        3.50213278e-03, 3.76111678e-03, 1.29813596e-03, 4.30316243e-03,\n",
       "        1.45292416e-03, 1.41631237e-03, 2.87241820e-03, 9.91575161e-03,\n",
       "        2.46292095e-03, 4.52013835e-04, 4.76963937e-03, 5.76664528e-03,\n",
       "        4.23522504e-03, 3.45335556e-03, 6.65535708e-03, 1.08630959e-03,\n",
       "        8.17888465e-03, 6.12096031e-03, 3.15647014e-03, 1.13842799e-03,\n",
       "        2.34803599e-03, 1.18107038e-03, 3.95847334e-04, 2.21465851e-03,\n",
       "        3.16481311e-03, 1.18169966e-03, 8.12354086e-04, 3.23352241e-03,\n",
       "        6.35439353e-04, 1.56431706e-03, 8.25490657e-04, 6.03046689e-03,\n",
       "        1.64678026e-03, 1.31324645e-03, 3.77167358e-04, 7.68535336e-04,\n",
       "        3.38398712e-03, 3.28799813e-03, 3.76108010e-04, 1.82699643e-03,\n",
       "        4.28595672e-03, 6.93482604e-03, 3.34429650e-03, 2.32322847e-03,\n",
       "        9.07477496e-04, 1.61490632e-03, 5.53895756e-03, 4.92414595e-04,\n",
       "        4.03144904e-03, 1.40146462e-03, 9.54091277e-03, 2.55886131e-03,\n",
       "        4.43142680e-03, 2.06402522e-03, 1.90940827e-03, 9.77521306e-03,\n",
       "        8.17304855e-05, 5.97289207e-03, 1.39576485e-03, 2.01310354e-03,\n",
       "        2.06106143e-03, 3.47011285e-03, 1.79470322e-03, 3.20739855e-03,\n",
       "        2.86802112e-03, 2.05374815e-04, 2.45798389e-03, 5.87522475e-04,\n",
       "        2.54432947e-03, 2.16394916e-03, 3.81238468e-03, 1.28493674e-03,\n",
       "        5.97292340e-05, 2.54594073e-03, 4.68390881e-04, 5.25892420e-04,\n",
       "        3.34772533e-04, 8.07621727e-04, 2.89288261e-04, 4.01031878e-04,\n",
       "        3.91678552e-04, 5.52967201e-04, 2.02359219e-04, 1.05222914e-03,\n",
       "        5.00594478e-04, 9.04251257e-04, 6.39829562e-04, 6.45728639e-04,\n",
       "        8.69808510e-04, 4.82734963e-04, 5.81184724e-04, 1.67920963e-03,\n",
       "        4.89929045e-04, 6.91238277e-04, 2.68177604e-03, 1.86042578e-03,\n",
       "        1.13463014e-03, 9.29996817e-04, 2.49338742e-03, 2.73285684e-04,\n",
       "        4.55944779e-04, 2.33773161e-03, 1.43831327e-03, 1.08393215e-03,\n",
       "        7.10343669e-04, 3.20264127e-04, 4.78420734e-03, 3.55584254e-03,\n",
       "        1.77382638e-03, 2.64141843e-03, 4.21316933e-03, 5.95200521e-04,\n",
       "        2.30351817e-03, 4.60846825e-04, 4.12515727e-04, 9.62024452e-04,\n",
       "        4.35634524e-05, 1.44470934e-03, 2.75137966e-03, 1.02769931e-04,\n",
       "        1.31310584e-03, 4.24850357e-03, 1.16201883e-03, 1.12859413e-03,\n",
       "        9.60907257e-04, 9.70468078e-04, 1.74955572e-03, 1.01684545e-03,\n",
       "        9.75981188e-04, 7.92099873e-04, 4.76469353e-03, 4.52197876e-04,\n",
       "        2.76680586e-03, 1.59539379e-03, 1.75440607e-03, 1.18963252e-03,\n",
       "        5.00441487e-04, 9.59869811e-04, 2.45019280e-03, 7.38336607e-03,\n",
       "        3.69299032e-04, 1.37945002e-03, 6.75169873e-04, 1.66677760e-04,\n",
       "        8.97469358e-03, 5.03448856e-03, 3.57741091e-04, 4.22543436e-04,\n",
       "        1.84940093e-03, 1.05042845e-03, 8.99131862e-04, 8.74531026e-03,\n",
       "        2.46712204e-03, 4.09661042e-03, 4.92470861e-03, 1.88010613e-03,\n",
       "        4.90198357e-03, 1.63899679e-03, 8.21219936e-04, 3.13929629e-03,\n",
       "        3.37344010e-03, 1.33594740e-03, 7.37674028e-04, 2.13366469e-04,\n",
       "        9.11388137e-04, 1.68844531e-03, 3.32561860e-03, 3.67679397e-04,\n",
       "        1.18465061e-04, 1.97744030e-04, 3.26115236e-03, 2.80060170e-04,\n",
       "        1.53045634e-03, 1.15296601e-02, 1.66958807e-03, 9.97568654e-04,\n",
       "        7.30053495e-04, 1.01923003e-03, 3.17604233e-04, 7.36077927e-04,\n",
       "        8.68709108e-04, 4.78247362e-03, 1.70116887e-04, 8.21217198e-04,\n",
       "        6.56920533e-04, 5.68061476e-03, 4.96635901e-03, 3.76721122e-04,\n",
       "        1.01457982e-03, 7.95681470e-03, 5.55716559e-03, 4.20257183e-03,\n",
       "        1.91156916e-03, 1.85094293e-03, 2.05924287e-03, 9.15376588e-04,\n",
       "        3.36408716e-03, 3.62949080e-03, 1.64807574e-03, 3.82890506e-04,\n",
       "        1.98456113e-03, 5.01442239e-03, 3.21044676e-03, 3.28985493e-03,\n",
       "        1.47066148e-03, 4.59481053e-03, 2.05610117e-03, 6.33102339e-04,\n",
       "        3.04370045e-03, 1.69490681e-03, 6.85108056e-04, 1.95037567e-03,\n",
       "        1.39258422e-03, 3.38343658e-04, 9.82378057e-04, 5.39822873e-04,\n",
       "        5.58106621e-04, 5.53823044e-04, 4.80129953e-04, 4.62475603e-04,\n",
       "        1.47467873e-03, 5.66504920e-04, 3.07579835e-03, 4.87249523e-03]),\n",
       " 'param_multinomialnb__alpha': masked_array(data=[1, 1, 1, 1, 1, 1, 1, 1, 1, 1, 1, 1, 1, 1, 1, 1, 1, 1,\n",
       "                    1, 1, 1, 1, 1, 1, 1, 1, 1, 1, 1, 1, 1, 1, 1, 1, 1, 1,\n",
       "                    1, 1, 1, 1, 1, 1, 1, 1, 1, 1, 1, 1, 1, 1, 1, 1, 1, 1,\n",
       "                    1, 1, 1, 1, 1, 1, 0.1, 0.1, 0.1, 0.1, 0.1, 0.1, 0.1,\n",
       "                    0.1, 0.1, 0.1, 0.1, 0.1, 0.1, 0.1, 0.1, 0.1, 0.1, 0.1,\n",
       "                    0.1, 0.1, 0.1, 0.1, 0.1, 0.1, 0.1, 0.1, 0.1, 0.1, 0.1,\n",
       "                    0.1, 0.1, 0.1, 0.1, 0.1, 0.1, 0.1, 0.1, 0.1, 0.1, 0.1,\n",
       "                    0.1, 0.1, 0.1, 0.1, 0.1, 0.1, 0.1, 0.1, 0.1, 0.1, 0.1,\n",
       "                    0.1, 0.1, 0.1, 0.1, 0.1, 0.1, 0.1, 0.1, 0.1, 0.01,\n",
       "                    0.01, 0.01, 0.01, 0.01, 0.01, 0.01, 0.01, 0.01, 0.01,\n",
       "                    0.01, 0.01, 0.01, 0.01, 0.01, 0.01, 0.01, 0.01, 0.01,\n",
       "                    0.01, 0.01, 0.01, 0.01, 0.01, 0.01, 0.01, 0.01, 0.01,\n",
       "                    0.01, 0.01, 0.01, 0.01, 0.01, 0.01, 0.01, 0.01, 0.01,\n",
       "                    0.01, 0.01, 0.01, 0.01, 0.01, 0.01, 0.01, 0.01, 0.01,\n",
       "                    0.01, 0.01, 0.01, 0.01, 0.01, 0.01, 0.01, 0.01, 0.01,\n",
       "                    0.01, 0.01, 0.01, 0.01, 0.01, 0.001, 0.001, 0.001,\n",
       "                    0.001, 0.001, 0.001, 0.001, 0.001, 0.001, 0.001, 0.001,\n",
       "                    0.001, 0.001, 0.001, 0.001, 0.001, 0.001, 0.001, 0.001,\n",
       "                    0.001, 0.001, 0.001, 0.001, 0.001, 0.001, 0.001, 0.001,\n",
       "                    0.001, 0.001, 0.001, 0.001, 0.001, 0.001, 0.001, 0.001,\n",
       "                    0.001, 0.001, 0.001, 0.001, 0.001, 0.001, 0.001, 0.001,\n",
       "                    0.001, 0.001, 0.001, 0.001, 0.001, 0.001, 0.001, 0.001,\n",
       "                    0.001, 0.001, 0.001, 0.001, 0.001, 0.001, 0.001, 0.001,\n",
       "                    0.001],\n",
       "              mask=[False, False, False, False, False, False, False, False,\n",
       "                    False, False, False, False, False, False, False, False,\n",
       "                    False, False, False, False, False, False, False, False,\n",
       "                    False, False, False, False, False, False, False, False,\n",
       "                    False, False, False, False, False, False, False, False,\n",
       "                    False, False, False, False, False, False, False, False,\n",
       "                    False, False, False, False, False, False, False, False,\n",
       "                    False, False, False, False, False, False, False, False,\n",
       "                    False, False, False, False, False, False, False, False,\n",
       "                    False, False, False, False, False, False, False, False,\n",
       "                    False, False, False, False, False, False, False, False,\n",
       "                    False, False, False, False, False, False, False, False,\n",
       "                    False, False, False, False, False, False, False, False,\n",
       "                    False, False, False, False, False, False, False, False,\n",
       "                    False, False, False, False, False, False, False, False,\n",
       "                    False, False, False, False, False, False, False, False,\n",
       "                    False, False, False, False, False, False, False, False,\n",
       "                    False, False, False, False, False, False, False, False,\n",
       "                    False, False, False, False, False, False, False, False,\n",
       "                    False, False, False, False, False, False, False, False,\n",
       "                    False, False, False, False, False, False, False, False,\n",
       "                    False, False, False, False, False, False, False, False,\n",
       "                    False, False, False, False, False, False, False, False,\n",
       "                    False, False, False, False, False, False, False, False,\n",
       "                    False, False, False, False, False, False, False, False,\n",
       "                    False, False, False, False, False, False, False, False,\n",
       "                    False, False, False, False, False, False, False, False,\n",
       "                    False, False, False, False, False, False, False, False,\n",
       "                    False, False, False, False, False, False, False, False,\n",
       "                    False, False, False, False, False, False, False, False],\n",
       "        fill_value='?',\n",
       "             dtype=object),\n",
       " 'param_tfidfvectorizer__max_df': masked_array(data=[0.01, 0.01, 0.01, 0.01, 0.01, 0.01, 0.01, 0.01, 0.01,\n",
       "                    0.01, 0.01, 0.01, 0.01, 0.01, 0.01, 0.01, 0.01, 0.01,\n",
       "                    0.01, 0.01, 0.05, 0.05, 0.05, 0.05, 0.05, 0.05, 0.05,\n",
       "                    0.05, 0.05, 0.05, 0.05, 0.05, 0.05, 0.05, 0.05, 0.05,\n",
       "                    0.05, 0.05, 0.05, 0.05, 0.25, 0.25, 0.25, 0.25, 0.25,\n",
       "                    0.25, 0.25, 0.25, 0.25, 0.25, 0.25, 0.25, 0.25, 0.25,\n",
       "                    0.25, 0.25, 0.25, 0.25, 0.25, 0.25, 0.01, 0.01, 0.01,\n",
       "                    0.01, 0.01, 0.01, 0.01, 0.01, 0.01, 0.01, 0.01, 0.01,\n",
       "                    0.01, 0.01, 0.01, 0.01, 0.01, 0.01, 0.01, 0.01, 0.05,\n",
       "                    0.05, 0.05, 0.05, 0.05, 0.05, 0.05, 0.05, 0.05, 0.05,\n",
       "                    0.05, 0.05, 0.05, 0.05, 0.05, 0.05, 0.05, 0.05, 0.05,\n",
       "                    0.05, 0.25, 0.25, 0.25, 0.25, 0.25, 0.25, 0.25, 0.25,\n",
       "                    0.25, 0.25, 0.25, 0.25, 0.25, 0.25, 0.25, 0.25, 0.25,\n",
       "                    0.25, 0.25, 0.25, 0.01, 0.01, 0.01, 0.01, 0.01, 0.01,\n",
       "                    0.01, 0.01, 0.01, 0.01, 0.01, 0.01, 0.01, 0.01, 0.01,\n",
       "                    0.01, 0.01, 0.01, 0.01, 0.01, 0.05, 0.05, 0.05, 0.05,\n",
       "                    0.05, 0.05, 0.05, 0.05, 0.05, 0.05, 0.05, 0.05, 0.05,\n",
       "                    0.05, 0.05, 0.05, 0.05, 0.05, 0.05, 0.05, 0.25, 0.25,\n",
       "                    0.25, 0.25, 0.25, 0.25, 0.25, 0.25, 0.25, 0.25, 0.25,\n",
       "                    0.25, 0.25, 0.25, 0.25, 0.25, 0.25, 0.25, 0.25, 0.25,\n",
       "                    0.01, 0.01, 0.01, 0.01, 0.01, 0.01, 0.01, 0.01, 0.01,\n",
       "                    0.01, 0.01, 0.01, 0.01, 0.01, 0.01, 0.01, 0.01, 0.01,\n",
       "                    0.01, 0.01, 0.05, 0.05, 0.05, 0.05, 0.05, 0.05, 0.05,\n",
       "                    0.05, 0.05, 0.05, 0.05, 0.05, 0.05, 0.05, 0.05, 0.05,\n",
       "                    0.05, 0.05, 0.05, 0.05, 0.25, 0.25, 0.25, 0.25, 0.25,\n",
       "                    0.25, 0.25, 0.25, 0.25, 0.25, 0.25, 0.25, 0.25, 0.25,\n",
       "                    0.25, 0.25, 0.25, 0.25, 0.25, 0.25],\n",
       "              mask=[False, False, False, False, False, False, False, False,\n",
       "                    False, False, False, False, False, False, False, False,\n",
       "                    False, False, False, False, False, False, False, False,\n",
       "                    False, False, False, False, False, False, False, False,\n",
       "                    False, False, False, False, False, False, False, False,\n",
       "                    False, False, False, False, False, False, False, False,\n",
       "                    False, False, False, False, False, False, False, False,\n",
       "                    False, False, False, False, False, False, False, False,\n",
       "                    False, False, False, False, False, False, False, False,\n",
       "                    False, False, False, False, False, False, False, False,\n",
       "                    False, False, False, False, False, False, False, False,\n",
       "                    False, False, False, False, False, False, False, False,\n",
       "                    False, False, False, False, False, False, False, False,\n",
       "                    False, False, False, False, False, False, False, False,\n",
       "                    False, False, False, False, False, False, False, False,\n",
       "                    False, False, False, False, False, False, False, False,\n",
       "                    False, False, False, False, False, False, False, False,\n",
       "                    False, False, False, False, False, False, False, False,\n",
       "                    False, False, False, False, False, False, False, False,\n",
       "                    False, False, False, False, False, False, False, False,\n",
       "                    False, False, False, False, False, False, False, False,\n",
       "                    False, False, False, False, False, False, False, False,\n",
       "                    False, False, False, False, False, False, False, False,\n",
       "                    False, False, False, False, False, False, False, False,\n",
       "                    False, False, False, False, False, False, False, False,\n",
       "                    False, False, False, False, False, False, False, False,\n",
       "                    False, False, False, False, False, False, False, False,\n",
       "                    False, False, False, False, False, False, False, False,\n",
       "                    False, False, False, False, False, False, False, False,\n",
       "                    False, False, False, False, False, False, False, False],\n",
       "        fill_value='?',\n",
       "             dtype=object),\n",
       " 'param_tfidfvectorizer__min_df': masked_array(data=[1, 1, 1, 1, 1, 1, 1, 1, 1, 1, 2, 2, 2, 2, 2, 2, 2, 2,\n",
       "                    2, 2, 1, 1, 1, 1, 1, 1, 1, 1, 1, 1, 2, 2, 2, 2, 2, 2,\n",
       "                    2, 2, 2, 2, 1, 1, 1, 1, 1, 1, 1, 1, 1, 1, 2, 2, 2, 2,\n",
       "                    2, 2, 2, 2, 2, 2, 1, 1, 1, 1, 1, 1, 1, 1, 1, 1, 2, 2,\n",
       "                    2, 2, 2, 2, 2, 2, 2, 2, 1, 1, 1, 1, 1, 1, 1, 1, 1, 1,\n",
       "                    2, 2, 2, 2, 2, 2, 2, 2, 2, 2, 1, 1, 1, 1, 1, 1, 1, 1,\n",
       "                    1, 1, 2, 2, 2, 2, 2, 2, 2, 2, 2, 2, 1, 1, 1, 1, 1, 1,\n",
       "                    1, 1, 1, 1, 2, 2, 2, 2, 2, 2, 2, 2, 2, 2, 1, 1, 1, 1,\n",
       "                    1, 1, 1, 1, 1, 1, 2, 2, 2, 2, 2, 2, 2, 2, 2, 2, 1, 1,\n",
       "                    1, 1, 1, 1, 1, 1, 1, 1, 2, 2, 2, 2, 2, 2, 2, 2, 2, 2,\n",
       "                    1, 1, 1, 1, 1, 1, 1, 1, 1, 1, 2, 2, 2, 2, 2, 2, 2, 2,\n",
       "                    2, 2, 1, 1, 1, 1, 1, 1, 1, 1, 1, 1, 2, 2, 2, 2, 2, 2,\n",
       "                    2, 2, 2, 2, 1, 1, 1, 1, 1, 1, 1, 1, 1, 1, 2, 2, 2, 2,\n",
       "                    2, 2, 2, 2, 2, 2],\n",
       "              mask=[False, False, False, False, False, False, False, False,\n",
       "                    False, False, False, False, False, False, False, False,\n",
       "                    False, False, False, False, False, False, False, False,\n",
       "                    False, False, False, False, False, False, False, False,\n",
       "                    False, False, False, False, False, False, False, False,\n",
       "                    False, False, False, False, False, False, False, False,\n",
       "                    False, False, False, False, False, False, False, False,\n",
       "                    False, False, False, False, False, False, False, False,\n",
       "                    False, False, False, False, False, False, False, False,\n",
       "                    False, False, False, False, False, False, False, False,\n",
       "                    False, False, False, False, False, False, False, False,\n",
       "                    False, False, False, False, False, False, False, False,\n",
       "                    False, False, False, False, False, False, False, False,\n",
       "                    False, False, False, False, False, False, False, False,\n",
       "                    False, False, False, False, False, False, False, False,\n",
       "                    False, False, False, False, False, False, False, False,\n",
       "                    False, False, False, False, False, False, False, False,\n",
       "                    False, False, False, False, False, False, False, False,\n",
       "                    False, False, False, False, False, False, False, False,\n",
       "                    False, False, False, False, False, False, False, False,\n",
       "                    False, False, False, False, False, False, False, False,\n",
       "                    False, False, False, False, False, False, False, False,\n",
       "                    False, False, False, False, False, False, False, False,\n",
       "                    False, False, False, False, False, False, False, False,\n",
       "                    False, False, False, False, False, False, False, False,\n",
       "                    False, False, False, False, False, False, False, False,\n",
       "                    False, False, False, False, False, False, False, False,\n",
       "                    False, False, False, False, False, False, False, False,\n",
       "                    False, False, False, False, False, False, False, False,\n",
       "                    False, False, False, False, False, False, False, False],\n",
       "        fill_value='?',\n",
       "             dtype=object),\n",
       " 'param_tfidfvectorizer__ngram_range': masked_array(data=[(1, 1), (1, 1), (1, 2), (1, 2), (2, 2), (2, 2), (2, 3),\n",
       "                    (2, 3), (3, 3), (3, 3), (1, 1), (1, 1), (1, 2), (1, 2),\n",
       "                    (2, 2), (2, 2), (2, 3), (2, 3), (3, 3), (3, 3), (1, 1),\n",
       "                    (1, 1), (1, 2), (1, 2), (2, 2), (2, 2), (2, 3), (2, 3),\n",
       "                    (3, 3), (3, 3), (1, 1), (1, 1), (1, 2), (1, 2), (2, 2),\n",
       "                    (2, 2), (2, 3), (2, 3), (3, 3), (3, 3), (1, 1), (1, 1),\n",
       "                    (1, 2), (1, 2), (2, 2), (2, 2), (2, 3), (2, 3), (3, 3),\n",
       "                    (3, 3), (1, 1), (1, 1), (1, 2), (1, 2), (2, 2), (2, 2),\n",
       "                    (2, 3), (2, 3), (3, 3), (3, 3), (1, 1), (1, 1), (1, 2),\n",
       "                    (1, 2), (2, 2), (2, 2), (2, 3), (2, 3), (3, 3), (3, 3),\n",
       "                    (1, 1), (1, 1), (1, 2), (1, 2), (2, 2), (2, 2), (2, 3),\n",
       "                    (2, 3), (3, 3), (3, 3), (1, 1), (1, 1), (1, 2), (1, 2),\n",
       "                    (2, 2), (2, 2), (2, 3), (2, 3), (3, 3), (3, 3), (1, 1),\n",
       "                    (1, 1), (1, 2), (1, 2), (2, 2), (2, 2), (2, 3), (2, 3),\n",
       "                    (3, 3), (3, 3), (1, 1), (1, 1), (1, 2), (1, 2), (2, 2),\n",
       "                    (2, 2), (2, 3), (2, 3), (3, 3), (3, 3), (1, 1), (1, 1),\n",
       "                    (1, 2), (1, 2), (2, 2), (2, 2), (2, 3), (2, 3), (3, 3),\n",
       "                    (3, 3), (1, 1), (1, 1), (1, 2), (1, 2), (2, 2), (2, 2),\n",
       "                    (2, 3), (2, 3), (3, 3), (3, 3), (1, 1), (1, 1), (1, 2),\n",
       "                    (1, 2), (2, 2), (2, 2), (2, 3), (2, 3), (3, 3), (3, 3),\n",
       "                    (1, 1), (1, 1), (1, 2), (1, 2), (2, 2), (2, 2), (2, 3),\n",
       "                    (2, 3), (3, 3), (3, 3), (1, 1), (1, 1), (1, 2), (1, 2),\n",
       "                    (2, 2), (2, 2), (2, 3), (2, 3), (3, 3), (3, 3), (1, 1),\n",
       "                    (1, 1), (1, 2), (1, 2), (2, 2), (2, 2), (2, 3), (2, 3),\n",
       "                    (3, 3), (3, 3), (1, 1), (1, 1), (1, 2), (1, 2), (2, 2),\n",
       "                    (2, 2), (2, 3), (2, 3), (3, 3), (3, 3), (1, 1), (1, 1),\n",
       "                    (1, 2), (1, 2), (2, 2), (2, 2), (2, 3), (2, 3), (3, 3),\n",
       "                    (3, 3), (1, 1), (1, 1), (1, 2), (1, 2), (2, 2), (2, 2),\n",
       "                    (2, 3), (2, 3), (3, 3), (3, 3), (1, 1), (1, 1), (1, 2),\n",
       "                    (1, 2), (2, 2), (2, 2), (2, 3), (2, 3), (3, 3), (3, 3),\n",
       "                    (1, 1), (1, 1), (1, 2), (1, 2), (2, 2), (2, 2), (2, 3),\n",
       "                    (2, 3), (3, 3), (3, 3), (1, 1), (1, 1), (1, 2), (1, 2),\n",
       "                    (2, 2), (2, 2), (2, 3), (2, 3), (3, 3), (3, 3), (1, 1),\n",
       "                    (1, 1), (1, 2), (1, 2), (2, 2), (2, 2), (2, 3), (2, 3),\n",
       "                    (3, 3), (3, 3)],\n",
       "              mask=[False, False, False, False, False, False, False, False,\n",
       "                    False, False, False, False, False, False, False, False,\n",
       "                    False, False, False, False, False, False, False, False,\n",
       "                    False, False, False, False, False, False, False, False,\n",
       "                    False, False, False, False, False, False, False, False,\n",
       "                    False, False, False, False, False, False, False, False,\n",
       "                    False, False, False, False, False, False, False, False,\n",
       "                    False, False, False, False, False, False, False, False,\n",
       "                    False, False, False, False, False, False, False, False,\n",
       "                    False, False, False, False, False, False, False, False,\n",
       "                    False, False, False, False, False, False, False, False,\n",
       "                    False, False, False, False, False, False, False, False,\n",
       "                    False, False, False, False, False, False, False, False,\n",
       "                    False, False, False, False, False, False, False, False,\n",
       "                    False, False, False, False, False, False, False, False,\n",
       "                    False, False, False, False, False, False, False, False,\n",
       "                    False, False, False, False, False, False, False, False,\n",
       "                    False, False, False, False, False, False, False, False,\n",
       "                    False, False, False, False, False, False, False, False,\n",
       "                    False, False, False, False, False, False, False, False,\n",
       "                    False, False, False, False, False, False, False, False,\n",
       "                    False, False, False, False, False, False, False, False,\n",
       "                    False, False, False, False, False, False, False, False,\n",
       "                    False, False, False, False, False, False, False, False,\n",
       "                    False, False, False, False, False, False, False, False,\n",
       "                    False, False, False, False, False, False, False, False,\n",
       "                    False, False, False, False, False, False, False, False,\n",
       "                    False, False, False, False, False, False, False, False,\n",
       "                    False, False, False, False, False, False, False, False,\n",
       "                    False, False, False, False, False, False, False, False],\n",
       "        fill_value='?',\n",
       "             dtype=object),\n",
       " 'param_tfidfvectorizer__norm': masked_array(data=['l1', 'l2', 'l1', 'l2', 'l1', 'l2', 'l1', 'l2', 'l1',\n",
       "                    'l2', 'l1', 'l2', 'l1', 'l2', 'l1', 'l2', 'l1', 'l2',\n",
       "                    'l1', 'l2', 'l1', 'l2', 'l1', 'l2', 'l1', 'l2', 'l1',\n",
       "                    'l2', 'l1', 'l2', 'l1', 'l2', 'l1', 'l2', 'l1', 'l2',\n",
       "                    'l1', 'l2', 'l1', 'l2', 'l1', 'l2', 'l1', 'l2', 'l1',\n",
       "                    'l2', 'l1', 'l2', 'l1', 'l2', 'l1', 'l2', 'l1', 'l2',\n",
       "                    'l1', 'l2', 'l1', 'l2', 'l1', 'l2', 'l1', 'l2', 'l1',\n",
       "                    'l2', 'l1', 'l2', 'l1', 'l2', 'l1', 'l2', 'l1', 'l2',\n",
       "                    'l1', 'l2', 'l1', 'l2', 'l1', 'l2', 'l1', 'l2', 'l1',\n",
       "                    'l2', 'l1', 'l2', 'l1', 'l2', 'l1', 'l2', 'l1', 'l2',\n",
       "                    'l1', 'l2', 'l1', 'l2', 'l1', 'l2', 'l1', 'l2', 'l1',\n",
       "                    'l2', 'l1', 'l2', 'l1', 'l2', 'l1', 'l2', 'l1', 'l2',\n",
       "                    'l1', 'l2', 'l1', 'l2', 'l1', 'l2', 'l1', 'l2', 'l1',\n",
       "                    'l2', 'l1', 'l2', 'l1', 'l2', 'l1', 'l2', 'l1', 'l2',\n",
       "                    'l1', 'l2', 'l1', 'l2', 'l1', 'l2', 'l1', 'l2', 'l1',\n",
       "                    'l2', 'l1', 'l2', 'l1', 'l2', 'l1', 'l2', 'l1', 'l2',\n",
       "                    'l1', 'l2', 'l1', 'l2', 'l1', 'l2', 'l1', 'l2', 'l1',\n",
       "                    'l2', 'l1', 'l2', 'l1', 'l2', 'l1', 'l2', 'l1', 'l2',\n",
       "                    'l1', 'l2', 'l1', 'l2', 'l1', 'l2', 'l1', 'l2', 'l1',\n",
       "                    'l2', 'l1', 'l2', 'l1', 'l2', 'l1', 'l2', 'l1', 'l2',\n",
       "                    'l1', 'l2', 'l1', 'l2', 'l1', 'l2', 'l1', 'l2', 'l1',\n",
       "                    'l2', 'l1', 'l2', 'l1', 'l2', 'l1', 'l2', 'l1', 'l2',\n",
       "                    'l1', 'l2', 'l1', 'l2', 'l1', 'l2', 'l1', 'l2', 'l1',\n",
       "                    'l2', 'l1', 'l2', 'l1', 'l2', 'l1', 'l2', 'l1', 'l2',\n",
       "                    'l1', 'l2', 'l1', 'l2', 'l1', 'l2', 'l1', 'l2', 'l1',\n",
       "                    'l2', 'l1', 'l2', 'l1', 'l2', 'l1', 'l2', 'l1', 'l2',\n",
       "                    'l1', 'l2', 'l1', 'l2', 'l1', 'l2'],\n",
       "              mask=[False, False, False, False, False, False, False, False,\n",
       "                    False, False, False, False, False, False, False, False,\n",
       "                    False, False, False, False, False, False, False, False,\n",
       "                    False, False, False, False, False, False, False, False,\n",
       "                    False, False, False, False, False, False, False, False,\n",
       "                    False, False, False, False, False, False, False, False,\n",
       "                    False, False, False, False, False, False, False, False,\n",
       "                    False, False, False, False, False, False, False, False,\n",
       "                    False, False, False, False, False, False, False, False,\n",
       "                    False, False, False, False, False, False, False, False,\n",
       "                    False, False, False, False, False, False, False, False,\n",
       "                    False, False, False, False, False, False, False, False,\n",
       "                    False, False, False, False, False, False, False, False,\n",
       "                    False, False, False, False, False, False, False, False,\n",
       "                    False, False, False, False, False, False, False, False,\n",
       "                    False, False, False, False, False, False, False, False,\n",
       "                    False, False, False, False, False, False, False, False,\n",
       "                    False, False, False, False, False, False, False, False,\n",
       "                    False, False, False, False, False, False, False, False,\n",
       "                    False, False, False, False, False, False, False, False,\n",
       "                    False, False, False, False, False, False, False, False,\n",
       "                    False, False, False, False, False, False, False, False,\n",
       "                    False, False, False, False, False, False, False, False,\n",
       "                    False, False, False, False, False, False, False, False,\n",
       "                    False, False, False, False, False, False, False, False,\n",
       "                    False, False, False, False, False, False, False, False,\n",
       "                    False, False, False, False, False, False, False, False,\n",
       "                    False, False, False, False, False, False, False, False,\n",
       "                    False, False, False, False, False, False, False, False,\n",
       "                    False, False, False, False, False, False, False, False],\n",
       "        fill_value='?',\n",
       "             dtype=object),\n",
       " 'params': [{'multinomialnb__alpha': 1,\n",
       "   'tfidfvectorizer__max_df': 0.01,\n",
       "   'tfidfvectorizer__min_df': 1,\n",
       "   'tfidfvectorizer__ngram_range': (1, 1),\n",
       "   'tfidfvectorizer__norm': 'l1'},\n",
       "  {'multinomialnb__alpha': 1,\n",
       "   'tfidfvectorizer__max_df': 0.01,\n",
       "   'tfidfvectorizer__min_df': 1,\n",
       "   'tfidfvectorizer__ngram_range': (1, 1),\n",
       "   'tfidfvectorizer__norm': 'l2'},\n",
       "  {'multinomialnb__alpha': 1,\n",
       "   'tfidfvectorizer__max_df': 0.01,\n",
       "   'tfidfvectorizer__min_df': 1,\n",
       "   'tfidfvectorizer__ngram_range': (1, 2),\n",
       "   'tfidfvectorizer__norm': 'l1'},\n",
       "  {'multinomialnb__alpha': 1,\n",
       "   'tfidfvectorizer__max_df': 0.01,\n",
       "   'tfidfvectorizer__min_df': 1,\n",
       "   'tfidfvectorizer__ngram_range': (1, 2),\n",
       "   'tfidfvectorizer__norm': 'l2'},\n",
       "  {'multinomialnb__alpha': 1,\n",
       "   'tfidfvectorizer__max_df': 0.01,\n",
       "   'tfidfvectorizer__min_df': 1,\n",
       "   'tfidfvectorizer__ngram_range': (2, 2),\n",
       "   'tfidfvectorizer__norm': 'l1'},\n",
       "  {'multinomialnb__alpha': 1,\n",
       "   'tfidfvectorizer__max_df': 0.01,\n",
       "   'tfidfvectorizer__min_df': 1,\n",
       "   'tfidfvectorizer__ngram_range': (2, 2),\n",
       "   'tfidfvectorizer__norm': 'l2'},\n",
       "  {'multinomialnb__alpha': 1,\n",
       "   'tfidfvectorizer__max_df': 0.01,\n",
       "   'tfidfvectorizer__min_df': 1,\n",
       "   'tfidfvectorizer__ngram_range': (2, 3),\n",
       "   'tfidfvectorizer__norm': 'l1'},\n",
       "  {'multinomialnb__alpha': 1,\n",
       "   'tfidfvectorizer__max_df': 0.01,\n",
       "   'tfidfvectorizer__min_df': 1,\n",
       "   'tfidfvectorizer__ngram_range': (2, 3),\n",
       "   'tfidfvectorizer__norm': 'l2'},\n",
       "  {'multinomialnb__alpha': 1,\n",
       "   'tfidfvectorizer__max_df': 0.01,\n",
       "   'tfidfvectorizer__min_df': 1,\n",
       "   'tfidfvectorizer__ngram_range': (3, 3),\n",
       "   'tfidfvectorizer__norm': 'l1'},\n",
       "  {'multinomialnb__alpha': 1,\n",
       "   'tfidfvectorizer__max_df': 0.01,\n",
       "   'tfidfvectorizer__min_df': 1,\n",
       "   'tfidfvectorizer__ngram_range': (3, 3),\n",
       "   'tfidfvectorizer__norm': 'l2'},\n",
       "  {'multinomialnb__alpha': 1,\n",
       "   'tfidfvectorizer__max_df': 0.01,\n",
       "   'tfidfvectorizer__min_df': 2,\n",
       "   'tfidfvectorizer__ngram_range': (1, 1),\n",
       "   'tfidfvectorizer__norm': 'l1'},\n",
       "  {'multinomialnb__alpha': 1,\n",
       "   'tfidfvectorizer__max_df': 0.01,\n",
       "   'tfidfvectorizer__min_df': 2,\n",
       "   'tfidfvectorizer__ngram_range': (1, 1),\n",
       "   'tfidfvectorizer__norm': 'l2'},\n",
       "  {'multinomialnb__alpha': 1,\n",
       "   'tfidfvectorizer__max_df': 0.01,\n",
       "   'tfidfvectorizer__min_df': 2,\n",
       "   'tfidfvectorizer__ngram_range': (1, 2),\n",
       "   'tfidfvectorizer__norm': 'l1'},\n",
       "  {'multinomialnb__alpha': 1,\n",
       "   'tfidfvectorizer__max_df': 0.01,\n",
       "   'tfidfvectorizer__min_df': 2,\n",
       "   'tfidfvectorizer__ngram_range': (1, 2),\n",
       "   'tfidfvectorizer__norm': 'l2'},\n",
       "  {'multinomialnb__alpha': 1,\n",
       "   'tfidfvectorizer__max_df': 0.01,\n",
       "   'tfidfvectorizer__min_df': 2,\n",
       "   'tfidfvectorizer__ngram_range': (2, 2),\n",
       "   'tfidfvectorizer__norm': 'l1'},\n",
       "  {'multinomialnb__alpha': 1,\n",
       "   'tfidfvectorizer__max_df': 0.01,\n",
       "   'tfidfvectorizer__min_df': 2,\n",
       "   'tfidfvectorizer__ngram_range': (2, 2),\n",
       "   'tfidfvectorizer__norm': 'l2'},\n",
       "  {'multinomialnb__alpha': 1,\n",
       "   'tfidfvectorizer__max_df': 0.01,\n",
       "   'tfidfvectorizer__min_df': 2,\n",
       "   'tfidfvectorizer__ngram_range': (2, 3),\n",
       "   'tfidfvectorizer__norm': 'l1'},\n",
       "  {'multinomialnb__alpha': 1,\n",
       "   'tfidfvectorizer__max_df': 0.01,\n",
       "   'tfidfvectorizer__min_df': 2,\n",
       "   'tfidfvectorizer__ngram_range': (2, 3),\n",
       "   'tfidfvectorizer__norm': 'l2'},\n",
       "  {'multinomialnb__alpha': 1,\n",
       "   'tfidfvectorizer__max_df': 0.01,\n",
       "   'tfidfvectorizer__min_df': 2,\n",
       "   'tfidfvectorizer__ngram_range': (3, 3),\n",
       "   'tfidfvectorizer__norm': 'l1'},\n",
       "  {'multinomialnb__alpha': 1,\n",
       "   'tfidfvectorizer__max_df': 0.01,\n",
       "   'tfidfvectorizer__min_df': 2,\n",
       "   'tfidfvectorizer__ngram_range': (3, 3),\n",
       "   'tfidfvectorizer__norm': 'l2'},\n",
       "  {'multinomialnb__alpha': 1,\n",
       "   'tfidfvectorizer__max_df': 0.05,\n",
       "   'tfidfvectorizer__min_df': 1,\n",
       "   'tfidfvectorizer__ngram_range': (1, 1),\n",
       "   'tfidfvectorizer__norm': 'l1'},\n",
       "  {'multinomialnb__alpha': 1,\n",
       "   'tfidfvectorizer__max_df': 0.05,\n",
       "   'tfidfvectorizer__min_df': 1,\n",
       "   'tfidfvectorizer__ngram_range': (1, 1),\n",
       "   'tfidfvectorizer__norm': 'l2'},\n",
       "  {'multinomialnb__alpha': 1,\n",
       "   'tfidfvectorizer__max_df': 0.05,\n",
       "   'tfidfvectorizer__min_df': 1,\n",
       "   'tfidfvectorizer__ngram_range': (1, 2),\n",
       "   'tfidfvectorizer__norm': 'l1'},\n",
       "  {'multinomialnb__alpha': 1,\n",
       "   'tfidfvectorizer__max_df': 0.05,\n",
       "   'tfidfvectorizer__min_df': 1,\n",
       "   'tfidfvectorizer__ngram_range': (1, 2),\n",
       "   'tfidfvectorizer__norm': 'l2'},\n",
       "  {'multinomialnb__alpha': 1,\n",
       "   'tfidfvectorizer__max_df': 0.05,\n",
       "   'tfidfvectorizer__min_df': 1,\n",
       "   'tfidfvectorizer__ngram_range': (2, 2),\n",
       "   'tfidfvectorizer__norm': 'l1'},\n",
       "  {'multinomialnb__alpha': 1,\n",
       "   'tfidfvectorizer__max_df': 0.05,\n",
       "   'tfidfvectorizer__min_df': 1,\n",
       "   'tfidfvectorizer__ngram_range': (2, 2),\n",
       "   'tfidfvectorizer__norm': 'l2'},\n",
       "  {'multinomialnb__alpha': 1,\n",
       "   'tfidfvectorizer__max_df': 0.05,\n",
       "   'tfidfvectorizer__min_df': 1,\n",
       "   'tfidfvectorizer__ngram_range': (2, 3),\n",
       "   'tfidfvectorizer__norm': 'l1'},\n",
       "  {'multinomialnb__alpha': 1,\n",
       "   'tfidfvectorizer__max_df': 0.05,\n",
       "   'tfidfvectorizer__min_df': 1,\n",
       "   'tfidfvectorizer__ngram_range': (2, 3),\n",
       "   'tfidfvectorizer__norm': 'l2'},\n",
       "  {'multinomialnb__alpha': 1,\n",
       "   'tfidfvectorizer__max_df': 0.05,\n",
       "   'tfidfvectorizer__min_df': 1,\n",
       "   'tfidfvectorizer__ngram_range': (3, 3),\n",
       "   'tfidfvectorizer__norm': 'l1'},\n",
       "  {'multinomialnb__alpha': 1,\n",
       "   'tfidfvectorizer__max_df': 0.05,\n",
       "   'tfidfvectorizer__min_df': 1,\n",
       "   'tfidfvectorizer__ngram_range': (3, 3),\n",
       "   'tfidfvectorizer__norm': 'l2'},\n",
       "  {'multinomialnb__alpha': 1,\n",
       "   'tfidfvectorizer__max_df': 0.05,\n",
       "   'tfidfvectorizer__min_df': 2,\n",
       "   'tfidfvectorizer__ngram_range': (1, 1),\n",
       "   'tfidfvectorizer__norm': 'l1'},\n",
       "  {'multinomialnb__alpha': 1,\n",
       "   'tfidfvectorizer__max_df': 0.05,\n",
       "   'tfidfvectorizer__min_df': 2,\n",
       "   'tfidfvectorizer__ngram_range': (1, 1),\n",
       "   'tfidfvectorizer__norm': 'l2'},\n",
       "  {'multinomialnb__alpha': 1,\n",
       "   'tfidfvectorizer__max_df': 0.05,\n",
       "   'tfidfvectorizer__min_df': 2,\n",
       "   'tfidfvectorizer__ngram_range': (1, 2),\n",
       "   'tfidfvectorizer__norm': 'l1'},\n",
       "  {'multinomialnb__alpha': 1,\n",
       "   'tfidfvectorizer__max_df': 0.05,\n",
       "   'tfidfvectorizer__min_df': 2,\n",
       "   'tfidfvectorizer__ngram_range': (1, 2),\n",
       "   'tfidfvectorizer__norm': 'l2'},\n",
       "  {'multinomialnb__alpha': 1,\n",
       "   'tfidfvectorizer__max_df': 0.05,\n",
       "   'tfidfvectorizer__min_df': 2,\n",
       "   'tfidfvectorizer__ngram_range': (2, 2),\n",
       "   'tfidfvectorizer__norm': 'l1'},\n",
       "  {'multinomialnb__alpha': 1,\n",
       "   'tfidfvectorizer__max_df': 0.05,\n",
       "   'tfidfvectorizer__min_df': 2,\n",
       "   'tfidfvectorizer__ngram_range': (2, 2),\n",
       "   'tfidfvectorizer__norm': 'l2'},\n",
       "  {'multinomialnb__alpha': 1,\n",
       "   'tfidfvectorizer__max_df': 0.05,\n",
       "   'tfidfvectorizer__min_df': 2,\n",
       "   'tfidfvectorizer__ngram_range': (2, 3),\n",
       "   'tfidfvectorizer__norm': 'l1'},\n",
       "  {'multinomialnb__alpha': 1,\n",
       "   'tfidfvectorizer__max_df': 0.05,\n",
       "   'tfidfvectorizer__min_df': 2,\n",
       "   'tfidfvectorizer__ngram_range': (2, 3),\n",
       "   'tfidfvectorizer__norm': 'l2'},\n",
       "  {'multinomialnb__alpha': 1,\n",
       "   'tfidfvectorizer__max_df': 0.05,\n",
       "   'tfidfvectorizer__min_df': 2,\n",
       "   'tfidfvectorizer__ngram_range': (3, 3),\n",
       "   'tfidfvectorizer__norm': 'l1'},\n",
       "  {'multinomialnb__alpha': 1,\n",
       "   'tfidfvectorizer__max_df': 0.05,\n",
       "   'tfidfvectorizer__min_df': 2,\n",
       "   'tfidfvectorizer__ngram_range': (3, 3),\n",
       "   'tfidfvectorizer__norm': 'l2'},\n",
       "  {'multinomialnb__alpha': 1,\n",
       "   'tfidfvectorizer__max_df': 0.25,\n",
       "   'tfidfvectorizer__min_df': 1,\n",
       "   'tfidfvectorizer__ngram_range': (1, 1),\n",
       "   'tfidfvectorizer__norm': 'l1'},\n",
       "  {'multinomialnb__alpha': 1,\n",
       "   'tfidfvectorizer__max_df': 0.25,\n",
       "   'tfidfvectorizer__min_df': 1,\n",
       "   'tfidfvectorizer__ngram_range': (1, 1),\n",
       "   'tfidfvectorizer__norm': 'l2'},\n",
       "  {'multinomialnb__alpha': 1,\n",
       "   'tfidfvectorizer__max_df': 0.25,\n",
       "   'tfidfvectorizer__min_df': 1,\n",
       "   'tfidfvectorizer__ngram_range': (1, 2),\n",
       "   'tfidfvectorizer__norm': 'l1'},\n",
       "  {'multinomialnb__alpha': 1,\n",
       "   'tfidfvectorizer__max_df': 0.25,\n",
       "   'tfidfvectorizer__min_df': 1,\n",
       "   'tfidfvectorizer__ngram_range': (1, 2),\n",
       "   'tfidfvectorizer__norm': 'l2'},\n",
       "  {'multinomialnb__alpha': 1,\n",
       "   'tfidfvectorizer__max_df': 0.25,\n",
       "   'tfidfvectorizer__min_df': 1,\n",
       "   'tfidfvectorizer__ngram_range': (2, 2),\n",
       "   'tfidfvectorizer__norm': 'l1'},\n",
       "  {'multinomialnb__alpha': 1,\n",
       "   'tfidfvectorizer__max_df': 0.25,\n",
       "   'tfidfvectorizer__min_df': 1,\n",
       "   'tfidfvectorizer__ngram_range': (2, 2),\n",
       "   'tfidfvectorizer__norm': 'l2'},\n",
       "  {'multinomialnb__alpha': 1,\n",
       "   'tfidfvectorizer__max_df': 0.25,\n",
       "   'tfidfvectorizer__min_df': 1,\n",
       "   'tfidfvectorizer__ngram_range': (2, 3),\n",
       "   'tfidfvectorizer__norm': 'l1'},\n",
       "  {'multinomialnb__alpha': 1,\n",
       "   'tfidfvectorizer__max_df': 0.25,\n",
       "   'tfidfvectorizer__min_df': 1,\n",
       "   'tfidfvectorizer__ngram_range': (2, 3),\n",
       "   'tfidfvectorizer__norm': 'l2'},\n",
       "  {'multinomialnb__alpha': 1,\n",
       "   'tfidfvectorizer__max_df': 0.25,\n",
       "   'tfidfvectorizer__min_df': 1,\n",
       "   'tfidfvectorizer__ngram_range': (3, 3),\n",
       "   'tfidfvectorizer__norm': 'l1'},\n",
       "  {'multinomialnb__alpha': 1,\n",
       "   'tfidfvectorizer__max_df': 0.25,\n",
       "   'tfidfvectorizer__min_df': 1,\n",
       "   'tfidfvectorizer__ngram_range': (3, 3),\n",
       "   'tfidfvectorizer__norm': 'l2'},\n",
       "  {'multinomialnb__alpha': 1,\n",
       "   'tfidfvectorizer__max_df': 0.25,\n",
       "   'tfidfvectorizer__min_df': 2,\n",
       "   'tfidfvectorizer__ngram_range': (1, 1),\n",
       "   'tfidfvectorizer__norm': 'l1'},\n",
       "  {'multinomialnb__alpha': 1,\n",
       "   'tfidfvectorizer__max_df': 0.25,\n",
       "   'tfidfvectorizer__min_df': 2,\n",
       "   'tfidfvectorizer__ngram_range': (1, 1),\n",
       "   'tfidfvectorizer__norm': 'l2'},\n",
       "  {'multinomialnb__alpha': 1,\n",
       "   'tfidfvectorizer__max_df': 0.25,\n",
       "   'tfidfvectorizer__min_df': 2,\n",
       "   'tfidfvectorizer__ngram_range': (1, 2),\n",
       "   'tfidfvectorizer__norm': 'l1'},\n",
       "  {'multinomialnb__alpha': 1,\n",
       "   'tfidfvectorizer__max_df': 0.25,\n",
       "   'tfidfvectorizer__min_df': 2,\n",
       "   'tfidfvectorizer__ngram_range': (1, 2),\n",
       "   'tfidfvectorizer__norm': 'l2'},\n",
       "  {'multinomialnb__alpha': 1,\n",
       "   'tfidfvectorizer__max_df': 0.25,\n",
       "   'tfidfvectorizer__min_df': 2,\n",
       "   'tfidfvectorizer__ngram_range': (2, 2),\n",
       "   'tfidfvectorizer__norm': 'l1'},\n",
       "  {'multinomialnb__alpha': 1,\n",
       "   'tfidfvectorizer__max_df': 0.25,\n",
       "   'tfidfvectorizer__min_df': 2,\n",
       "   'tfidfvectorizer__ngram_range': (2, 2),\n",
       "   'tfidfvectorizer__norm': 'l2'},\n",
       "  {'multinomialnb__alpha': 1,\n",
       "   'tfidfvectorizer__max_df': 0.25,\n",
       "   'tfidfvectorizer__min_df': 2,\n",
       "   'tfidfvectorizer__ngram_range': (2, 3),\n",
       "   'tfidfvectorizer__norm': 'l1'},\n",
       "  {'multinomialnb__alpha': 1,\n",
       "   'tfidfvectorizer__max_df': 0.25,\n",
       "   'tfidfvectorizer__min_df': 2,\n",
       "   'tfidfvectorizer__ngram_range': (2, 3),\n",
       "   'tfidfvectorizer__norm': 'l2'},\n",
       "  {'multinomialnb__alpha': 1,\n",
       "   'tfidfvectorizer__max_df': 0.25,\n",
       "   'tfidfvectorizer__min_df': 2,\n",
       "   'tfidfvectorizer__ngram_range': (3, 3),\n",
       "   'tfidfvectorizer__norm': 'l1'},\n",
       "  {'multinomialnb__alpha': 1,\n",
       "   'tfidfvectorizer__max_df': 0.25,\n",
       "   'tfidfvectorizer__min_df': 2,\n",
       "   'tfidfvectorizer__ngram_range': (3, 3),\n",
       "   'tfidfvectorizer__norm': 'l2'},\n",
       "  {'multinomialnb__alpha': 0.1,\n",
       "   'tfidfvectorizer__max_df': 0.01,\n",
       "   'tfidfvectorizer__min_df': 1,\n",
       "   'tfidfvectorizer__ngram_range': (1, 1),\n",
       "   'tfidfvectorizer__norm': 'l1'},\n",
       "  {'multinomialnb__alpha': 0.1,\n",
       "   'tfidfvectorizer__max_df': 0.01,\n",
       "   'tfidfvectorizer__min_df': 1,\n",
       "   'tfidfvectorizer__ngram_range': (1, 1),\n",
       "   'tfidfvectorizer__norm': 'l2'},\n",
       "  {'multinomialnb__alpha': 0.1,\n",
       "   'tfidfvectorizer__max_df': 0.01,\n",
       "   'tfidfvectorizer__min_df': 1,\n",
       "   'tfidfvectorizer__ngram_range': (1, 2),\n",
       "   'tfidfvectorizer__norm': 'l1'},\n",
       "  {'multinomialnb__alpha': 0.1,\n",
       "   'tfidfvectorizer__max_df': 0.01,\n",
       "   'tfidfvectorizer__min_df': 1,\n",
       "   'tfidfvectorizer__ngram_range': (1, 2),\n",
       "   'tfidfvectorizer__norm': 'l2'},\n",
       "  {'multinomialnb__alpha': 0.1,\n",
       "   'tfidfvectorizer__max_df': 0.01,\n",
       "   'tfidfvectorizer__min_df': 1,\n",
       "   'tfidfvectorizer__ngram_range': (2, 2),\n",
       "   'tfidfvectorizer__norm': 'l1'},\n",
       "  {'multinomialnb__alpha': 0.1,\n",
       "   'tfidfvectorizer__max_df': 0.01,\n",
       "   'tfidfvectorizer__min_df': 1,\n",
       "   'tfidfvectorizer__ngram_range': (2, 2),\n",
       "   'tfidfvectorizer__norm': 'l2'},\n",
       "  {'multinomialnb__alpha': 0.1,\n",
       "   'tfidfvectorizer__max_df': 0.01,\n",
       "   'tfidfvectorizer__min_df': 1,\n",
       "   'tfidfvectorizer__ngram_range': (2, 3),\n",
       "   'tfidfvectorizer__norm': 'l1'},\n",
       "  {'multinomialnb__alpha': 0.1,\n",
       "   'tfidfvectorizer__max_df': 0.01,\n",
       "   'tfidfvectorizer__min_df': 1,\n",
       "   'tfidfvectorizer__ngram_range': (2, 3),\n",
       "   'tfidfvectorizer__norm': 'l2'},\n",
       "  {'multinomialnb__alpha': 0.1,\n",
       "   'tfidfvectorizer__max_df': 0.01,\n",
       "   'tfidfvectorizer__min_df': 1,\n",
       "   'tfidfvectorizer__ngram_range': (3, 3),\n",
       "   'tfidfvectorizer__norm': 'l1'},\n",
       "  {'multinomialnb__alpha': 0.1,\n",
       "   'tfidfvectorizer__max_df': 0.01,\n",
       "   'tfidfvectorizer__min_df': 1,\n",
       "   'tfidfvectorizer__ngram_range': (3, 3),\n",
       "   'tfidfvectorizer__norm': 'l2'},\n",
       "  {'multinomialnb__alpha': 0.1,\n",
       "   'tfidfvectorizer__max_df': 0.01,\n",
       "   'tfidfvectorizer__min_df': 2,\n",
       "   'tfidfvectorizer__ngram_range': (1, 1),\n",
       "   'tfidfvectorizer__norm': 'l1'},\n",
       "  {'multinomialnb__alpha': 0.1,\n",
       "   'tfidfvectorizer__max_df': 0.01,\n",
       "   'tfidfvectorizer__min_df': 2,\n",
       "   'tfidfvectorizer__ngram_range': (1, 1),\n",
       "   'tfidfvectorizer__norm': 'l2'},\n",
       "  {'multinomialnb__alpha': 0.1,\n",
       "   'tfidfvectorizer__max_df': 0.01,\n",
       "   'tfidfvectorizer__min_df': 2,\n",
       "   'tfidfvectorizer__ngram_range': (1, 2),\n",
       "   'tfidfvectorizer__norm': 'l1'},\n",
       "  {'multinomialnb__alpha': 0.1,\n",
       "   'tfidfvectorizer__max_df': 0.01,\n",
       "   'tfidfvectorizer__min_df': 2,\n",
       "   'tfidfvectorizer__ngram_range': (1, 2),\n",
       "   'tfidfvectorizer__norm': 'l2'},\n",
       "  {'multinomialnb__alpha': 0.1,\n",
       "   'tfidfvectorizer__max_df': 0.01,\n",
       "   'tfidfvectorizer__min_df': 2,\n",
       "   'tfidfvectorizer__ngram_range': (2, 2),\n",
       "   'tfidfvectorizer__norm': 'l1'},\n",
       "  {'multinomialnb__alpha': 0.1,\n",
       "   'tfidfvectorizer__max_df': 0.01,\n",
       "   'tfidfvectorizer__min_df': 2,\n",
       "   'tfidfvectorizer__ngram_range': (2, 2),\n",
       "   'tfidfvectorizer__norm': 'l2'},\n",
       "  {'multinomialnb__alpha': 0.1,\n",
       "   'tfidfvectorizer__max_df': 0.01,\n",
       "   'tfidfvectorizer__min_df': 2,\n",
       "   'tfidfvectorizer__ngram_range': (2, 3),\n",
       "   'tfidfvectorizer__norm': 'l1'},\n",
       "  {'multinomialnb__alpha': 0.1,\n",
       "   'tfidfvectorizer__max_df': 0.01,\n",
       "   'tfidfvectorizer__min_df': 2,\n",
       "   'tfidfvectorizer__ngram_range': (2, 3),\n",
       "   'tfidfvectorizer__norm': 'l2'},\n",
       "  {'multinomialnb__alpha': 0.1,\n",
       "   'tfidfvectorizer__max_df': 0.01,\n",
       "   'tfidfvectorizer__min_df': 2,\n",
       "   'tfidfvectorizer__ngram_range': (3, 3),\n",
       "   'tfidfvectorizer__norm': 'l1'},\n",
       "  {'multinomialnb__alpha': 0.1,\n",
       "   'tfidfvectorizer__max_df': 0.01,\n",
       "   'tfidfvectorizer__min_df': 2,\n",
       "   'tfidfvectorizer__ngram_range': (3, 3),\n",
       "   'tfidfvectorizer__norm': 'l2'},\n",
       "  {'multinomialnb__alpha': 0.1,\n",
       "   'tfidfvectorizer__max_df': 0.05,\n",
       "   'tfidfvectorizer__min_df': 1,\n",
       "   'tfidfvectorizer__ngram_range': (1, 1),\n",
       "   'tfidfvectorizer__norm': 'l1'},\n",
       "  {'multinomialnb__alpha': 0.1,\n",
       "   'tfidfvectorizer__max_df': 0.05,\n",
       "   'tfidfvectorizer__min_df': 1,\n",
       "   'tfidfvectorizer__ngram_range': (1, 1),\n",
       "   'tfidfvectorizer__norm': 'l2'},\n",
       "  {'multinomialnb__alpha': 0.1,\n",
       "   'tfidfvectorizer__max_df': 0.05,\n",
       "   'tfidfvectorizer__min_df': 1,\n",
       "   'tfidfvectorizer__ngram_range': (1, 2),\n",
       "   'tfidfvectorizer__norm': 'l1'},\n",
       "  {'multinomialnb__alpha': 0.1,\n",
       "   'tfidfvectorizer__max_df': 0.05,\n",
       "   'tfidfvectorizer__min_df': 1,\n",
       "   'tfidfvectorizer__ngram_range': (1, 2),\n",
       "   'tfidfvectorizer__norm': 'l2'},\n",
       "  {'multinomialnb__alpha': 0.1,\n",
       "   'tfidfvectorizer__max_df': 0.05,\n",
       "   'tfidfvectorizer__min_df': 1,\n",
       "   'tfidfvectorizer__ngram_range': (2, 2),\n",
       "   'tfidfvectorizer__norm': 'l1'},\n",
       "  {'multinomialnb__alpha': 0.1,\n",
       "   'tfidfvectorizer__max_df': 0.05,\n",
       "   'tfidfvectorizer__min_df': 1,\n",
       "   'tfidfvectorizer__ngram_range': (2, 2),\n",
       "   'tfidfvectorizer__norm': 'l2'},\n",
       "  {'multinomialnb__alpha': 0.1,\n",
       "   'tfidfvectorizer__max_df': 0.05,\n",
       "   'tfidfvectorizer__min_df': 1,\n",
       "   'tfidfvectorizer__ngram_range': (2, 3),\n",
       "   'tfidfvectorizer__norm': 'l1'},\n",
       "  {'multinomialnb__alpha': 0.1,\n",
       "   'tfidfvectorizer__max_df': 0.05,\n",
       "   'tfidfvectorizer__min_df': 1,\n",
       "   'tfidfvectorizer__ngram_range': (2, 3),\n",
       "   'tfidfvectorizer__norm': 'l2'},\n",
       "  {'multinomialnb__alpha': 0.1,\n",
       "   'tfidfvectorizer__max_df': 0.05,\n",
       "   'tfidfvectorizer__min_df': 1,\n",
       "   'tfidfvectorizer__ngram_range': (3, 3),\n",
       "   'tfidfvectorizer__norm': 'l1'},\n",
       "  {'multinomialnb__alpha': 0.1,\n",
       "   'tfidfvectorizer__max_df': 0.05,\n",
       "   'tfidfvectorizer__min_df': 1,\n",
       "   'tfidfvectorizer__ngram_range': (3, 3),\n",
       "   'tfidfvectorizer__norm': 'l2'},\n",
       "  {'multinomialnb__alpha': 0.1,\n",
       "   'tfidfvectorizer__max_df': 0.05,\n",
       "   'tfidfvectorizer__min_df': 2,\n",
       "   'tfidfvectorizer__ngram_range': (1, 1),\n",
       "   'tfidfvectorizer__norm': 'l1'},\n",
       "  {'multinomialnb__alpha': 0.1,\n",
       "   'tfidfvectorizer__max_df': 0.05,\n",
       "   'tfidfvectorizer__min_df': 2,\n",
       "   'tfidfvectorizer__ngram_range': (1, 1),\n",
       "   'tfidfvectorizer__norm': 'l2'},\n",
       "  {'multinomialnb__alpha': 0.1,\n",
       "   'tfidfvectorizer__max_df': 0.05,\n",
       "   'tfidfvectorizer__min_df': 2,\n",
       "   'tfidfvectorizer__ngram_range': (1, 2),\n",
       "   'tfidfvectorizer__norm': 'l1'},\n",
       "  {'multinomialnb__alpha': 0.1,\n",
       "   'tfidfvectorizer__max_df': 0.05,\n",
       "   'tfidfvectorizer__min_df': 2,\n",
       "   'tfidfvectorizer__ngram_range': (1, 2),\n",
       "   'tfidfvectorizer__norm': 'l2'},\n",
       "  {'multinomialnb__alpha': 0.1,\n",
       "   'tfidfvectorizer__max_df': 0.05,\n",
       "   'tfidfvectorizer__min_df': 2,\n",
       "   'tfidfvectorizer__ngram_range': (2, 2),\n",
       "   'tfidfvectorizer__norm': 'l1'},\n",
       "  {'multinomialnb__alpha': 0.1,\n",
       "   'tfidfvectorizer__max_df': 0.05,\n",
       "   'tfidfvectorizer__min_df': 2,\n",
       "   'tfidfvectorizer__ngram_range': (2, 2),\n",
       "   'tfidfvectorizer__norm': 'l2'},\n",
       "  {'multinomialnb__alpha': 0.1,\n",
       "   'tfidfvectorizer__max_df': 0.05,\n",
       "   'tfidfvectorizer__min_df': 2,\n",
       "   'tfidfvectorizer__ngram_range': (2, 3),\n",
       "   'tfidfvectorizer__norm': 'l1'},\n",
       "  {'multinomialnb__alpha': 0.1,\n",
       "   'tfidfvectorizer__max_df': 0.05,\n",
       "   'tfidfvectorizer__min_df': 2,\n",
       "   'tfidfvectorizer__ngram_range': (2, 3),\n",
       "   'tfidfvectorizer__norm': 'l2'},\n",
       "  {'multinomialnb__alpha': 0.1,\n",
       "   'tfidfvectorizer__max_df': 0.05,\n",
       "   'tfidfvectorizer__min_df': 2,\n",
       "   'tfidfvectorizer__ngram_range': (3, 3),\n",
       "   'tfidfvectorizer__norm': 'l1'},\n",
       "  {'multinomialnb__alpha': 0.1,\n",
       "   'tfidfvectorizer__max_df': 0.05,\n",
       "   'tfidfvectorizer__min_df': 2,\n",
       "   'tfidfvectorizer__ngram_range': (3, 3),\n",
       "   'tfidfvectorizer__norm': 'l2'},\n",
       "  {'multinomialnb__alpha': 0.1,\n",
       "   'tfidfvectorizer__max_df': 0.25,\n",
       "   'tfidfvectorizer__min_df': 1,\n",
       "   'tfidfvectorizer__ngram_range': (1, 1),\n",
       "   'tfidfvectorizer__norm': 'l1'},\n",
       "  {'multinomialnb__alpha': 0.1,\n",
       "   'tfidfvectorizer__max_df': 0.25,\n",
       "   'tfidfvectorizer__min_df': 1,\n",
       "   'tfidfvectorizer__ngram_range': (1, 1),\n",
       "   'tfidfvectorizer__norm': 'l2'},\n",
       "  {'multinomialnb__alpha': 0.1,\n",
       "   'tfidfvectorizer__max_df': 0.25,\n",
       "   'tfidfvectorizer__min_df': 1,\n",
       "   'tfidfvectorizer__ngram_range': (1, 2),\n",
       "   'tfidfvectorizer__norm': 'l1'},\n",
       "  {'multinomialnb__alpha': 0.1,\n",
       "   'tfidfvectorizer__max_df': 0.25,\n",
       "   'tfidfvectorizer__min_df': 1,\n",
       "   'tfidfvectorizer__ngram_range': (1, 2),\n",
       "   'tfidfvectorizer__norm': 'l2'},\n",
       "  {'multinomialnb__alpha': 0.1,\n",
       "   'tfidfvectorizer__max_df': 0.25,\n",
       "   'tfidfvectorizer__min_df': 1,\n",
       "   'tfidfvectorizer__ngram_range': (2, 2),\n",
       "   'tfidfvectorizer__norm': 'l1'},\n",
       "  {'multinomialnb__alpha': 0.1,\n",
       "   'tfidfvectorizer__max_df': 0.25,\n",
       "   'tfidfvectorizer__min_df': 1,\n",
       "   'tfidfvectorizer__ngram_range': (2, 2),\n",
       "   'tfidfvectorizer__norm': 'l2'},\n",
       "  {'multinomialnb__alpha': 0.1,\n",
       "   'tfidfvectorizer__max_df': 0.25,\n",
       "   'tfidfvectorizer__min_df': 1,\n",
       "   'tfidfvectorizer__ngram_range': (2, 3),\n",
       "   'tfidfvectorizer__norm': 'l1'},\n",
       "  {'multinomialnb__alpha': 0.1,\n",
       "   'tfidfvectorizer__max_df': 0.25,\n",
       "   'tfidfvectorizer__min_df': 1,\n",
       "   'tfidfvectorizer__ngram_range': (2, 3),\n",
       "   'tfidfvectorizer__norm': 'l2'},\n",
       "  {'multinomialnb__alpha': 0.1,\n",
       "   'tfidfvectorizer__max_df': 0.25,\n",
       "   'tfidfvectorizer__min_df': 1,\n",
       "   'tfidfvectorizer__ngram_range': (3, 3),\n",
       "   'tfidfvectorizer__norm': 'l1'},\n",
       "  {'multinomialnb__alpha': 0.1,\n",
       "   'tfidfvectorizer__max_df': 0.25,\n",
       "   'tfidfvectorizer__min_df': 1,\n",
       "   'tfidfvectorizer__ngram_range': (3, 3),\n",
       "   'tfidfvectorizer__norm': 'l2'},\n",
       "  {'multinomialnb__alpha': 0.1,\n",
       "   'tfidfvectorizer__max_df': 0.25,\n",
       "   'tfidfvectorizer__min_df': 2,\n",
       "   'tfidfvectorizer__ngram_range': (1, 1),\n",
       "   'tfidfvectorizer__norm': 'l1'},\n",
       "  {'multinomialnb__alpha': 0.1,\n",
       "   'tfidfvectorizer__max_df': 0.25,\n",
       "   'tfidfvectorizer__min_df': 2,\n",
       "   'tfidfvectorizer__ngram_range': (1, 1),\n",
       "   'tfidfvectorizer__norm': 'l2'},\n",
       "  {'multinomialnb__alpha': 0.1,\n",
       "   'tfidfvectorizer__max_df': 0.25,\n",
       "   'tfidfvectorizer__min_df': 2,\n",
       "   'tfidfvectorizer__ngram_range': (1, 2),\n",
       "   'tfidfvectorizer__norm': 'l1'},\n",
       "  {'multinomialnb__alpha': 0.1,\n",
       "   'tfidfvectorizer__max_df': 0.25,\n",
       "   'tfidfvectorizer__min_df': 2,\n",
       "   'tfidfvectorizer__ngram_range': (1, 2),\n",
       "   'tfidfvectorizer__norm': 'l2'},\n",
       "  {'multinomialnb__alpha': 0.1,\n",
       "   'tfidfvectorizer__max_df': 0.25,\n",
       "   'tfidfvectorizer__min_df': 2,\n",
       "   'tfidfvectorizer__ngram_range': (2, 2),\n",
       "   'tfidfvectorizer__norm': 'l1'},\n",
       "  {'multinomialnb__alpha': 0.1,\n",
       "   'tfidfvectorizer__max_df': 0.25,\n",
       "   'tfidfvectorizer__min_df': 2,\n",
       "   'tfidfvectorizer__ngram_range': (2, 2),\n",
       "   'tfidfvectorizer__norm': 'l2'},\n",
       "  {'multinomialnb__alpha': 0.1,\n",
       "   'tfidfvectorizer__max_df': 0.25,\n",
       "   'tfidfvectorizer__min_df': 2,\n",
       "   'tfidfvectorizer__ngram_range': (2, 3),\n",
       "   'tfidfvectorizer__norm': 'l1'},\n",
       "  {'multinomialnb__alpha': 0.1,\n",
       "   'tfidfvectorizer__max_df': 0.25,\n",
       "   'tfidfvectorizer__min_df': 2,\n",
       "   'tfidfvectorizer__ngram_range': (2, 3),\n",
       "   'tfidfvectorizer__norm': 'l2'},\n",
       "  {'multinomialnb__alpha': 0.1,\n",
       "   'tfidfvectorizer__max_df': 0.25,\n",
       "   'tfidfvectorizer__min_df': 2,\n",
       "   'tfidfvectorizer__ngram_range': (3, 3),\n",
       "   'tfidfvectorizer__norm': 'l1'},\n",
       "  {'multinomialnb__alpha': 0.1,\n",
       "   'tfidfvectorizer__max_df': 0.25,\n",
       "   'tfidfvectorizer__min_df': 2,\n",
       "   'tfidfvectorizer__ngram_range': (3, 3),\n",
       "   'tfidfvectorizer__norm': 'l2'},\n",
       "  {'multinomialnb__alpha': 0.01,\n",
       "   'tfidfvectorizer__max_df': 0.01,\n",
       "   'tfidfvectorizer__min_df': 1,\n",
       "   'tfidfvectorizer__ngram_range': (1, 1),\n",
       "   'tfidfvectorizer__norm': 'l1'},\n",
       "  {'multinomialnb__alpha': 0.01,\n",
       "   'tfidfvectorizer__max_df': 0.01,\n",
       "   'tfidfvectorizer__min_df': 1,\n",
       "   'tfidfvectorizer__ngram_range': (1, 1),\n",
       "   'tfidfvectorizer__norm': 'l2'},\n",
       "  {'multinomialnb__alpha': 0.01,\n",
       "   'tfidfvectorizer__max_df': 0.01,\n",
       "   'tfidfvectorizer__min_df': 1,\n",
       "   'tfidfvectorizer__ngram_range': (1, 2),\n",
       "   'tfidfvectorizer__norm': 'l1'},\n",
       "  {'multinomialnb__alpha': 0.01,\n",
       "   'tfidfvectorizer__max_df': 0.01,\n",
       "   'tfidfvectorizer__min_df': 1,\n",
       "   'tfidfvectorizer__ngram_range': (1, 2),\n",
       "   'tfidfvectorizer__norm': 'l2'},\n",
       "  {'multinomialnb__alpha': 0.01,\n",
       "   'tfidfvectorizer__max_df': 0.01,\n",
       "   'tfidfvectorizer__min_df': 1,\n",
       "   'tfidfvectorizer__ngram_range': (2, 2),\n",
       "   'tfidfvectorizer__norm': 'l1'},\n",
       "  {'multinomialnb__alpha': 0.01,\n",
       "   'tfidfvectorizer__max_df': 0.01,\n",
       "   'tfidfvectorizer__min_df': 1,\n",
       "   'tfidfvectorizer__ngram_range': (2, 2),\n",
       "   'tfidfvectorizer__norm': 'l2'},\n",
       "  {'multinomialnb__alpha': 0.01,\n",
       "   'tfidfvectorizer__max_df': 0.01,\n",
       "   'tfidfvectorizer__min_df': 1,\n",
       "   'tfidfvectorizer__ngram_range': (2, 3),\n",
       "   'tfidfvectorizer__norm': 'l1'},\n",
       "  {'multinomialnb__alpha': 0.01,\n",
       "   'tfidfvectorizer__max_df': 0.01,\n",
       "   'tfidfvectorizer__min_df': 1,\n",
       "   'tfidfvectorizer__ngram_range': (2, 3),\n",
       "   'tfidfvectorizer__norm': 'l2'},\n",
       "  {'multinomialnb__alpha': 0.01,\n",
       "   'tfidfvectorizer__max_df': 0.01,\n",
       "   'tfidfvectorizer__min_df': 1,\n",
       "   'tfidfvectorizer__ngram_range': (3, 3),\n",
       "   'tfidfvectorizer__norm': 'l1'},\n",
       "  {'multinomialnb__alpha': 0.01,\n",
       "   'tfidfvectorizer__max_df': 0.01,\n",
       "   'tfidfvectorizer__min_df': 1,\n",
       "   'tfidfvectorizer__ngram_range': (3, 3),\n",
       "   'tfidfvectorizer__norm': 'l2'},\n",
       "  {'multinomialnb__alpha': 0.01,\n",
       "   'tfidfvectorizer__max_df': 0.01,\n",
       "   'tfidfvectorizer__min_df': 2,\n",
       "   'tfidfvectorizer__ngram_range': (1, 1),\n",
       "   'tfidfvectorizer__norm': 'l1'},\n",
       "  {'multinomialnb__alpha': 0.01,\n",
       "   'tfidfvectorizer__max_df': 0.01,\n",
       "   'tfidfvectorizer__min_df': 2,\n",
       "   'tfidfvectorizer__ngram_range': (1, 1),\n",
       "   'tfidfvectorizer__norm': 'l2'},\n",
       "  {'multinomialnb__alpha': 0.01,\n",
       "   'tfidfvectorizer__max_df': 0.01,\n",
       "   'tfidfvectorizer__min_df': 2,\n",
       "   'tfidfvectorizer__ngram_range': (1, 2),\n",
       "   'tfidfvectorizer__norm': 'l1'},\n",
       "  {'multinomialnb__alpha': 0.01,\n",
       "   'tfidfvectorizer__max_df': 0.01,\n",
       "   'tfidfvectorizer__min_df': 2,\n",
       "   'tfidfvectorizer__ngram_range': (1, 2),\n",
       "   'tfidfvectorizer__norm': 'l2'},\n",
       "  {'multinomialnb__alpha': 0.01,\n",
       "   'tfidfvectorizer__max_df': 0.01,\n",
       "   'tfidfvectorizer__min_df': 2,\n",
       "   'tfidfvectorizer__ngram_range': (2, 2),\n",
       "   'tfidfvectorizer__norm': 'l1'},\n",
       "  {'multinomialnb__alpha': 0.01,\n",
       "   'tfidfvectorizer__max_df': 0.01,\n",
       "   'tfidfvectorizer__min_df': 2,\n",
       "   'tfidfvectorizer__ngram_range': (2, 2),\n",
       "   'tfidfvectorizer__norm': 'l2'},\n",
       "  {'multinomialnb__alpha': 0.01,\n",
       "   'tfidfvectorizer__max_df': 0.01,\n",
       "   'tfidfvectorizer__min_df': 2,\n",
       "   'tfidfvectorizer__ngram_range': (2, 3),\n",
       "   'tfidfvectorizer__norm': 'l1'},\n",
       "  {'multinomialnb__alpha': 0.01,\n",
       "   'tfidfvectorizer__max_df': 0.01,\n",
       "   'tfidfvectorizer__min_df': 2,\n",
       "   'tfidfvectorizer__ngram_range': (2, 3),\n",
       "   'tfidfvectorizer__norm': 'l2'},\n",
       "  {'multinomialnb__alpha': 0.01,\n",
       "   'tfidfvectorizer__max_df': 0.01,\n",
       "   'tfidfvectorizer__min_df': 2,\n",
       "   'tfidfvectorizer__ngram_range': (3, 3),\n",
       "   'tfidfvectorizer__norm': 'l1'},\n",
       "  {'multinomialnb__alpha': 0.01,\n",
       "   'tfidfvectorizer__max_df': 0.01,\n",
       "   'tfidfvectorizer__min_df': 2,\n",
       "   'tfidfvectorizer__ngram_range': (3, 3),\n",
       "   'tfidfvectorizer__norm': 'l2'},\n",
       "  {'multinomialnb__alpha': 0.01,\n",
       "   'tfidfvectorizer__max_df': 0.05,\n",
       "   'tfidfvectorizer__min_df': 1,\n",
       "   'tfidfvectorizer__ngram_range': (1, 1),\n",
       "   'tfidfvectorizer__norm': 'l1'},\n",
       "  {'multinomialnb__alpha': 0.01,\n",
       "   'tfidfvectorizer__max_df': 0.05,\n",
       "   'tfidfvectorizer__min_df': 1,\n",
       "   'tfidfvectorizer__ngram_range': (1, 1),\n",
       "   'tfidfvectorizer__norm': 'l2'},\n",
       "  {'multinomialnb__alpha': 0.01,\n",
       "   'tfidfvectorizer__max_df': 0.05,\n",
       "   'tfidfvectorizer__min_df': 1,\n",
       "   'tfidfvectorizer__ngram_range': (1, 2),\n",
       "   'tfidfvectorizer__norm': 'l1'},\n",
       "  {'multinomialnb__alpha': 0.01,\n",
       "   'tfidfvectorizer__max_df': 0.05,\n",
       "   'tfidfvectorizer__min_df': 1,\n",
       "   'tfidfvectorizer__ngram_range': (1, 2),\n",
       "   'tfidfvectorizer__norm': 'l2'},\n",
       "  {'multinomialnb__alpha': 0.01,\n",
       "   'tfidfvectorizer__max_df': 0.05,\n",
       "   'tfidfvectorizer__min_df': 1,\n",
       "   'tfidfvectorizer__ngram_range': (2, 2),\n",
       "   'tfidfvectorizer__norm': 'l1'},\n",
       "  {'multinomialnb__alpha': 0.01,\n",
       "   'tfidfvectorizer__max_df': 0.05,\n",
       "   'tfidfvectorizer__min_df': 1,\n",
       "   'tfidfvectorizer__ngram_range': (2, 2),\n",
       "   'tfidfvectorizer__norm': 'l2'},\n",
       "  {'multinomialnb__alpha': 0.01,\n",
       "   'tfidfvectorizer__max_df': 0.05,\n",
       "   'tfidfvectorizer__min_df': 1,\n",
       "   'tfidfvectorizer__ngram_range': (2, 3),\n",
       "   'tfidfvectorizer__norm': 'l1'},\n",
       "  {'multinomialnb__alpha': 0.01,\n",
       "   'tfidfvectorizer__max_df': 0.05,\n",
       "   'tfidfvectorizer__min_df': 1,\n",
       "   'tfidfvectorizer__ngram_range': (2, 3),\n",
       "   'tfidfvectorizer__norm': 'l2'},\n",
       "  {'multinomialnb__alpha': 0.01,\n",
       "   'tfidfvectorizer__max_df': 0.05,\n",
       "   'tfidfvectorizer__min_df': 1,\n",
       "   'tfidfvectorizer__ngram_range': (3, 3),\n",
       "   'tfidfvectorizer__norm': 'l1'},\n",
       "  {'multinomialnb__alpha': 0.01,\n",
       "   'tfidfvectorizer__max_df': 0.05,\n",
       "   'tfidfvectorizer__min_df': 1,\n",
       "   'tfidfvectorizer__ngram_range': (3, 3),\n",
       "   'tfidfvectorizer__norm': 'l2'},\n",
       "  {'multinomialnb__alpha': 0.01,\n",
       "   'tfidfvectorizer__max_df': 0.05,\n",
       "   'tfidfvectorizer__min_df': 2,\n",
       "   'tfidfvectorizer__ngram_range': (1, 1),\n",
       "   'tfidfvectorizer__norm': 'l1'},\n",
       "  {'multinomialnb__alpha': 0.01,\n",
       "   'tfidfvectorizer__max_df': 0.05,\n",
       "   'tfidfvectorizer__min_df': 2,\n",
       "   'tfidfvectorizer__ngram_range': (1, 1),\n",
       "   'tfidfvectorizer__norm': 'l2'},\n",
       "  {'multinomialnb__alpha': 0.01,\n",
       "   'tfidfvectorizer__max_df': 0.05,\n",
       "   'tfidfvectorizer__min_df': 2,\n",
       "   'tfidfvectorizer__ngram_range': (1, 2),\n",
       "   'tfidfvectorizer__norm': 'l1'},\n",
       "  {'multinomialnb__alpha': 0.01,\n",
       "   'tfidfvectorizer__max_df': 0.05,\n",
       "   'tfidfvectorizer__min_df': 2,\n",
       "   'tfidfvectorizer__ngram_range': (1, 2),\n",
       "   'tfidfvectorizer__norm': 'l2'},\n",
       "  {'multinomialnb__alpha': 0.01,\n",
       "   'tfidfvectorizer__max_df': 0.05,\n",
       "   'tfidfvectorizer__min_df': 2,\n",
       "   'tfidfvectorizer__ngram_range': (2, 2),\n",
       "   'tfidfvectorizer__norm': 'l1'},\n",
       "  {'multinomialnb__alpha': 0.01,\n",
       "   'tfidfvectorizer__max_df': 0.05,\n",
       "   'tfidfvectorizer__min_df': 2,\n",
       "   'tfidfvectorizer__ngram_range': (2, 2),\n",
       "   'tfidfvectorizer__norm': 'l2'},\n",
       "  {'multinomialnb__alpha': 0.01,\n",
       "   'tfidfvectorizer__max_df': 0.05,\n",
       "   'tfidfvectorizer__min_df': 2,\n",
       "   'tfidfvectorizer__ngram_range': (2, 3),\n",
       "   'tfidfvectorizer__norm': 'l1'},\n",
       "  {'multinomialnb__alpha': 0.01,\n",
       "   'tfidfvectorizer__max_df': 0.05,\n",
       "   'tfidfvectorizer__min_df': 2,\n",
       "   'tfidfvectorizer__ngram_range': (2, 3),\n",
       "   'tfidfvectorizer__norm': 'l2'},\n",
       "  {'multinomialnb__alpha': 0.01,\n",
       "   'tfidfvectorizer__max_df': 0.05,\n",
       "   'tfidfvectorizer__min_df': 2,\n",
       "   'tfidfvectorizer__ngram_range': (3, 3),\n",
       "   'tfidfvectorizer__norm': 'l1'},\n",
       "  {'multinomialnb__alpha': 0.01,\n",
       "   'tfidfvectorizer__max_df': 0.05,\n",
       "   'tfidfvectorizer__min_df': 2,\n",
       "   'tfidfvectorizer__ngram_range': (3, 3),\n",
       "   'tfidfvectorizer__norm': 'l2'},\n",
       "  {'multinomialnb__alpha': 0.01,\n",
       "   'tfidfvectorizer__max_df': 0.25,\n",
       "   'tfidfvectorizer__min_df': 1,\n",
       "   'tfidfvectorizer__ngram_range': (1, 1),\n",
       "   'tfidfvectorizer__norm': 'l1'},\n",
       "  {'multinomialnb__alpha': 0.01,\n",
       "   'tfidfvectorizer__max_df': 0.25,\n",
       "   'tfidfvectorizer__min_df': 1,\n",
       "   'tfidfvectorizer__ngram_range': (1, 1),\n",
       "   'tfidfvectorizer__norm': 'l2'},\n",
       "  {'multinomialnb__alpha': 0.01,\n",
       "   'tfidfvectorizer__max_df': 0.25,\n",
       "   'tfidfvectorizer__min_df': 1,\n",
       "   'tfidfvectorizer__ngram_range': (1, 2),\n",
       "   'tfidfvectorizer__norm': 'l1'},\n",
       "  {'multinomialnb__alpha': 0.01,\n",
       "   'tfidfvectorizer__max_df': 0.25,\n",
       "   'tfidfvectorizer__min_df': 1,\n",
       "   'tfidfvectorizer__ngram_range': (1, 2),\n",
       "   'tfidfvectorizer__norm': 'l2'},\n",
       "  {'multinomialnb__alpha': 0.01,\n",
       "   'tfidfvectorizer__max_df': 0.25,\n",
       "   'tfidfvectorizer__min_df': 1,\n",
       "   'tfidfvectorizer__ngram_range': (2, 2),\n",
       "   'tfidfvectorizer__norm': 'l1'},\n",
       "  {'multinomialnb__alpha': 0.01,\n",
       "   'tfidfvectorizer__max_df': 0.25,\n",
       "   'tfidfvectorizer__min_df': 1,\n",
       "   'tfidfvectorizer__ngram_range': (2, 2),\n",
       "   'tfidfvectorizer__norm': 'l2'},\n",
       "  {'multinomialnb__alpha': 0.01,\n",
       "   'tfidfvectorizer__max_df': 0.25,\n",
       "   'tfidfvectorizer__min_df': 1,\n",
       "   'tfidfvectorizer__ngram_range': (2, 3),\n",
       "   'tfidfvectorizer__norm': 'l1'},\n",
       "  {'multinomialnb__alpha': 0.01,\n",
       "   'tfidfvectorizer__max_df': 0.25,\n",
       "   'tfidfvectorizer__min_df': 1,\n",
       "   'tfidfvectorizer__ngram_range': (2, 3),\n",
       "   'tfidfvectorizer__norm': 'l2'},\n",
       "  {'multinomialnb__alpha': 0.01,\n",
       "   'tfidfvectorizer__max_df': 0.25,\n",
       "   'tfidfvectorizer__min_df': 1,\n",
       "   'tfidfvectorizer__ngram_range': (3, 3),\n",
       "   'tfidfvectorizer__norm': 'l1'},\n",
       "  {'multinomialnb__alpha': 0.01,\n",
       "   'tfidfvectorizer__max_df': 0.25,\n",
       "   'tfidfvectorizer__min_df': 1,\n",
       "   'tfidfvectorizer__ngram_range': (3, 3),\n",
       "   'tfidfvectorizer__norm': 'l2'},\n",
       "  {'multinomialnb__alpha': 0.01,\n",
       "   'tfidfvectorizer__max_df': 0.25,\n",
       "   'tfidfvectorizer__min_df': 2,\n",
       "   'tfidfvectorizer__ngram_range': (1, 1),\n",
       "   'tfidfvectorizer__norm': 'l1'},\n",
       "  {'multinomialnb__alpha': 0.01,\n",
       "   'tfidfvectorizer__max_df': 0.25,\n",
       "   'tfidfvectorizer__min_df': 2,\n",
       "   'tfidfvectorizer__ngram_range': (1, 1),\n",
       "   'tfidfvectorizer__norm': 'l2'},\n",
       "  {'multinomialnb__alpha': 0.01,\n",
       "   'tfidfvectorizer__max_df': 0.25,\n",
       "   'tfidfvectorizer__min_df': 2,\n",
       "   'tfidfvectorizer__ngram_range': (1, 2),\n",
       "   'tfidfvectorizer__norm': 'l1'},\n",
       "  {'multinomialnb__alpha': 0.01,\n",
       "   'tfidfvectorizer__max_df': 0.25,\n",
       "   'tfidfvectorizer__min_df': 2,\n",
       "   'tfidfvectorizer__ngram_range': (1, 2),\n",
       "   'tfidfvectorizer__norm': 'l2'},\n",
       "  {'multinomialnb__alpha': 0.01,\n",
       "   'tfidfvectorizer__max_df': 0.25,\n",
       "   'tfidfvectorizer__min_df': 2,\n",
       "   'tfidfvectorizer__ngram_range': (2, 2),\n",
       "   'tfidfvectorizer__norm': 'l1'},\n",
       "  {'multinomialnb__alpha': 0.01,\n",
       "   'tfidfvectorizer__max_df': 0.25,\n",
       "   'tfidfvectorizer__min_df': 2,\n",
       "   'tfidfvectorizer__ngram_range': (2, 2),\n",
       "   'tfidfvectorizer__norm': 'l2'},\n",
       "  {'multinomialnb__alpha': 0.01,\n",
       "   'tfidfvectorizer__max_df': 0.25,\n",
       "   'tfidfvectorizer__min_df': 2,\n",
       "   'tfidfvectorizer__ngram_range': (2, 3),\n",
       "   'tfidfvectorizer__norm': 'l1'},\n",
       "  {'multinomialnb__alpha': 0.01,\n",
       "   'tfidfvectorizer__max_df': 0.25,\n",
       "   'tfidfvectorizer__min_df': 2,\n",
       "   'tfidfvectorizer__ngram_range': (2, 3),\n",
       "   'tfidfvectorizer__norm': 'l2'},\n",
       "  {'multinomialnb__alpha': 0.01,\n",
       "   'tfidfvectorizer__max_df': 0.25,\n",
       "   'tfidfvectorizer__min_df': 2,\n",
       "   'tfidfvectorizer__ngram_range': (3, 3),\n",
       "   'tfidfvectorizer__norm': 'l1'},\n",
       "  {'multinomialnb__alpha': 0.01,\n",
       "   'tfidfvectorizer__max_df': 0.25,\n",
       "   'tfidfvectorizer__min_df': 2,\n",
       "   'tfidfvectorizer__ngram_range': (3, 3),\n",
       "   'tfidfvectorizer__norm': 'l2'},\n",
       "  {'multinomialnb__alpha': 0.001,\n",
       "   'tfidfvectorizer__max_df': 0.01,\n",
       "   'tfidfvectorizer__min_df': 1,\n",
       "   'tfidfvectorizer__ngram_range': (1, 1),\n",
       "   'tfidfvectorizer__norm': 'l1'},\n",
       "  {'multinomialnb__alpha': 0.001,\n",
       "   'tfidfvectorizer__max_df': 0.01,\n",
       "   'tfidfvectorizer__min_df': 1,\n",
       "   'tfidfvectorizer__ngram_range': (1, 1),\n",
       "   'tfidfvectorizer__norm': 'l2'},\n",
       "  {'multinomialnb__alpha': 0.001,\n",
       "   'tfidfvectorizer__max_df': 0.01,\n",
       "   'tfidfvectorizer__min_df': 1,\n",
       "   'tfidfvectorizer__ngram_range': (1, 2),\n",
       "   'tfidfvectorizer__norm': 'l1'},\n",
       "  {'multinomialnb__alpha': 0.001,\n",
       "   'tfidfvectorizer__max_df': 0.01,\n",
       "   'tfidfvectorizer__min_df': 1,\n",
       "   'tfidfvectorizer__ngram_range': (1, 2),\n",
       "   'tfidfvectorizer__norm': 'l2'},\n",
       "  {'multinomialnb__alpha': 0.001,\n",
       "   'tfidfvectorizer__max_df': 0.01,\n",
       "   'tfidfvectorizer__min_df': 1,\n",
       "   'tfidfvectorizer__ngram_range': (2, 2),\n",
       "   'tfidfvectorizer__norm': 'l1'},\n",
       "  {'multinomialnb__alpha': 0.001,\n",
       "   'tfidfvectorizer__max_df': 0.01,\n",
       "   'tfidfvectorizer__min_df': 1,\n",
       "   'tfidfvectorizer__ngram_range': (2, 2),\n",
       "   'tfidfvectorizer__norm': 'l2'},\n",
       "  {'multinomialnb__alpha': 0.001,\n",
       "   'tfidfvectorizer__max_df': 0.01,\n",
       "   'tfidfvectorizer__min_df': 1,\n",
       "   'tfidfvectorizer__ngram_range': (2, 3),\n",
       "   'tfidfvectorizer__norm': 'l1'},\n",
       "  {'multinomialnb__alpha': 0.001,\n",
       "   'tfidfvectorizer__max_df': 0.01,\n",
       "   'tfidfvectorizer__min_df': 1,\n",
       "   'tfidfvectorizer__ngram_range': (2, 3),\n",
       "   'tfidfvectorizer__norm': 'l2'},\n",
       "  {'multinomialnb__alpha': 0.001,\n",
       "   'tfidfvectorizer__max_df': 0.01,\n",
       "   'tfidfvectorizer__min_df': 1,\n",
       "   'tfidfvectorizer__ngram_range': (3, 3),\n",
       "   'tfidfvectorizer__norm': 'l1'},\n",
       "  {'multinomialnb__alpha': 0.001,\n",
       "   'tfidfvectorizer__max_df': 0.01,\n",
       "   'tfidfvectorizer__min_df': 1,\n",
       "   'tfidfvectorizer__ngram_range': (3, 3),\n",
       "   'tfidfvectorizer__norm': 'l2'},\n",
       "  {'multinomialnb__alpha': 0.001,\n",
       "   'tfidfvectorizer__max_df': 0.01,\n",
       "   'tfidfvectorizer__min_df': 2,\n",
       "   'tfidfvectorizer__ngram_range': (1, 1),\n",
       "   'tfidfvectorizer__norm': 'l1'},\n",
       "  {'multinomialnb__alpha': 0.001,\n",
       "   'tfidfvectorizer__max_df': 0.01,\n",
       "   'tfidfvectorizer__min_df': 2,\n",
       "   'tfidfvectorizer__ngram_range': (1, 1),\n",
       "   'tfidfvectorizer__norm': 'l2'},\n",
       "  {'multinomialnb__alpha': 0.001,\n",
       "   'tfidfvectorizer__max_df': 0.01,\n",
       "   'tfidfvectorizer__min_df': 2,\n",
       "   'tfidfvectorizer__ngram_range': (1, 2),\n",
       "   'tfidfvectorizer__norm': 'l1'},\n",
       "  {'multinomialnb__alpha': 0.001,\n",
       "   'tfidfvectorizer__max_df': 0.01,\n",
       "   'tfidfvectorizer__min_df': 2,\n",
       "   'tfidfvectorizer__ngram_range': (1, 2),\n",
       "   'tfidfvectorizer__norm': 'l2'},\n",
       "  {'multinomialnb__alpha': 0.001,\n",
       "   'tfidfvectorizer__max_df': 0.01,\n",
       "   'tfidfvectorizer__min_df': 2,\n",
       "   'tfidfvectorizer__ngram_range': (2, 2),\n",
       "   'tfidfvectorizer__norm': 'l1'},\n",
       "  {'multinomialnb__alpha': 0.001,\n",
       "   'tfidfvectorizer__max_df': 0.01,\n",
       "   'tfidfvectorizer__min_df': 2,\n",
       "   'tfidfvectorizer__ngram_range': (2, 2),\n",
       "   'tfidfvectorizer__norm': 'l2'},\n",
       "  {'multinomialnb__alpha': 0.001,\n",
       "   'tfidfvectorizer__max_df': 0.01,\n",
       "   'tfidfvectorizer__min_df': 2,\n",
       "   'tfidfvectorizer__ngram_range': (2, 3),\n",
       "   'tfidfvectorizer__norm': 'l1'},\n",
       "  {'multinomialnb__alpha': 0.001,\n",
       "   'tfidfvectorizer__max_df': 0.01,\n",
       "   'tfidfvectorizer__min_df': 2,\n",
       "   'tfidfvectorizer__ngram_range': (2, 3),\n",
       "   'tfidfvectorizer__norm': 'l2'},\n",
       "  {'multinomialnb__alpha': 0.001,\n",
       "   'tfidfvectorizer__max_df': 0.01,\n",
       "   'tfidfvectorizer__min_df': 2,\n",
       "   'tfidfvectorizer__ngram_range': (3, 3),\n",
       "   'tfidfvectorizer__norm': 'l1'},\n",
       "  {'multinomialnb__alpha': 0.001,\n",
       "   'tfidfvectorizer__max_df': 0.01,\n",
       "   'tfidfvectorizer__min_df': 2,\n",
       "   'tfidfvectorizer__ngram_range': (3, 3),\n",
       "   'tfidfvectorizer__norm': 'l2'},\n",
       "  {'multinomialnb__alpha': 0.001,\n",
       "   'tfidfvectorizer__max_df': 0.05,\n",
       "   'tfidfvectorizer__min_df': 1,\n",
       "   'tfidfvectorizer__ngram_range': (1, 1),\n",
       "   'tfidfvectorizer__norm': 'l1'},\n",
       "  {'multinomialnb__alpha': 0.001,\n",
       "   'tfidfvectorizer__max_df': 0.05,\n",
       "   'tfidfvectorizer__min_df': 1,\n",
       "   'tfidfvectorizer__ngram_range': (1, 1),\n",
       "   'tfidfvectorizer__norm': 'l2'},\n",
       "  {'multinomialnb__alpha': 0.001,\n",
       "   'tfidfvectorizer__max_df': 0.05,\n",
       "   'tfidfvectorizer__min_df': 1,\n",
       "   'tfidfvectorizer__ngram_range': (1, 2),\n",
       "   'tfidfvectorizer__norm': 'l1'},\n",
       "  {'multinomialnb__alpha': 0.001,\n",
       "   'tfidfvectorizer__max_df': 0.05,\n",
       "   'tfidfvectorizer__min_df': 1,\n",
       "   'tfidfvectorizer__ngram_range': (1, 2),\n",
       "   'tfidfvectorizer__norm': 'l2'},\n",
       "  {'multinomialnb__alpha': 0.001,\n",
       "   'tfidfvectorizer__max_df': 0.05,\n",
       "   'tfidfvectorizer__min_df': 1,\n",
       "   'tfidfvectorizer__ngram_range': (2, 2),\n",
       "   'tfidfvectorizer__norm': 'l1'},\n",
       "  {'multinomialnb__alpha': 0.001,\n",
       "   'tfidfvectorizer__max_df': 0.05,\n",
       "   'tfidfvectorizer__min_df': 1,\n",
       "   'tfidfvectorizer__ngram_range': (2, 2),\n",
       "   'tfidfvectorizer__norm': 'l2'},\n",
       "  {'multinomialnb__alpha': 0.001,\n",
       "   'tfidfvectorizer__max_df': 0.05,\n",
       "   'tfidfvectorizer__min_df': 1,\n",
       "   'tfidfvectorizer__ngram_range': (2, 3),\n",
       "   'tfidfvectorizer__norm': 'l1'},\n",
       "  {'multinomialnb__alpha': 0.001,\n",
       "   'tfidfvectorizer__max_df': 0.05,\n",
       "   'tfidfvectorizer__min_df': 1,\n",
       "   'tfidfvectorizer__ngram_range': (2, 3),\n",
       "   'tfidfvectorizer__norm': 'l2'},\n",
       "  {'multinomialnb__alpha': 0.001,\n",
       "   'tfidfvectorizer__max_df': 0.05,\n",
       "   'tfidfvectorizer__min_df': 1,\n",
       "   'tfidfvectorizer__ngram_range': (3, 3),\n",
       "   'tfidfvectorizer__norm': 'l1'},\n",
       "  {'multinomialnb__alpha': 0.001,\n",
       "   'tfidfvectorizer__max_df': 0.05,\n",
       "   'tfidfvectorizer__min_df': 1,\n",
       "   'tfidfvectorizer__ngram_range': (3, 3),\n",
       "   'tfidfvectorizer__norm': 'l2'},\n",
       "  {'multinomialnb__alpha': 0.001,\n",
       "   'tfidfvectorizer__max_df': 0.05,\n",
       "   'tfidfvectorizer__min_df': 2,\n",
       "   'tfidfvectorizer__ngram_range': (1, 1),\n",
       "   'tfidfvectorizer__norm': 'l1'},\n",
       "  {'multinomialnb__alpha': 0.001,\n",
       "   'tfidfvectorizer__max_df': 0.05,\n",
       "   'tfidfvectorizer__min_df': 2,\n",
       "   'tfidfvectorizer__ngram_range': (1, 1),\n",
       "   'tfidfvectorizer__norm': 'l2'},\n",
       "  {'multinomialnb__alpha': 0.001,\n",
       "   'tfidfvectorizer__max_df': 0.05,\n",
       "   'tfidfvectorizer__min_df': 2,\n",
       "   'tfidfvectorizer__ngram_range': (1, 2),\n",
       "   'tfidfvectorizer__norm': 'l1'},\n",
       "  {'multinomialnb__alpha': 0.001,\n",
       "   'tfidfvectorizer__max_df': 0.05,\n",
       "   'tfidfvectorizer__min_df': 2,\n",
       "   'tfidfvectorizer__ngram_range': (1, 2),\n",
       "   'tfidfvectorizer__norm': 'l2'},\n",
       "  {'multinomialnb__alpha': 0.001,\n",
       "   'tfidfvectorizer__max_df': 0.05,\n",
       "   'tfidfvectorizer__min_df': 2,\n",
       "   'tfidfvectorizer__ngram_range': (2, 2),\n",
       "   'tfidfvectorizer__norm': 'l1'},\n",
       "  {'multinomialnb__alpha': 0.001,\n",
       "   'tfidfvectorizer__max_df': 0.05,\n",
       "   'tfidfvectorizer__min_df': 2,\n",
       "   'tfidfvectorizer__ngram_range': (2, 2),\n",
       "   'tfidfvectorizer__norm': 'l2'},\n",
       "  {'multinomialnb__alpha': 0.001,\n",
       "   'tfidfvectorizer__max_df': 0.05,\n",
       "   'tfidfvectorizer__min_df': 2,\n",
       "   'tfidfvectorizer__ngram_range': (2, 3),\n",
       "   'tfidfvectorizer__norm': 'l1'},\n",
       "  {'multinomialnb__alpha': 0.001,\n",
       "   'tfidfvectorizer__max_df': 0.05,\n",
       "   'tfidfvectorizer__min_df': 2,\n",
       "   'tfidfvectorizer__ngram_range': (2, 3),\n",
       "   'tfidfvectorizer__norm': 'l2'},\n",
       "  {'multinomialnb__alpha': 0.001,\n",
       "   'tfidfvectorizer__max_df': 0.05,\n",
       "   'tfidfvectorizer__min_df': 2,\n",
       "   'tfidfvectorizer__ngram_range': (3, 3),\n",
       "   'tfidfvectorizer__norm': 'l1'},\n",
       "  {'multinomialnb__alpha': 0.001,\n",
       "   'tfidfvectorizer__max_df': 0.05,\n",
       "   'tfidfvectorizer__min_df': 2,\n",
       "   'tfidfvectorizer__ngram_range': (3, 3),\n",
       "   'tfidfvectorizer__norm': 'l2'},\n",
       "  {'multinomialnb__alpha': 0.001,\n",
       "   'tfidfvectorizer__max_df': 0.25,\n",
       "   'tfidfvectorizer__min_df': 1,\n",
       "   'tfidfvectorizer__ngram_range': (1, 1),\n",
       "   'tfidfvectorizer__norm': 'l1'},\n",
       "  {'multinomialnb__alpha': 0.001,\n",
       "   'tfidfvectorizer__max_df': 0.25,\n",
       "   'tfidfvectorizer__min_df': 1,\n",
       "   'tfidfvectorizer__ngram_range': (1, 1),\n",
       "   'tfidfvectorizer__norm': 'l2'},\n",
       "  {'multinomialnb__alpha': 0.001,\n",
       "   'tfidfvectorizer__max_df': 0.25,\n",
       "   'tfidfvectorizer__min_df': 1,\n",
       "   'tfidfvectorizer__ngram_range': (1, 2),\n",
       "   'tfidfvectorizer__norm': 'l1'},\n",
       "  {'multinomialnb__alpha': 0.001,\n",
       "   'tfidfvectorizer__max_df': 0.25,\n",
       "   'tfidfvectorizer__min_df': 1,\n",
       "   'tfidfvectorizer__ngram_range': (1, 2),\n",
       "   'tfidfvectorizer__norm': 'l2'},\n",
       "  {'multinomialnb__alpha': 0.001,\n",
       "   'tfidfvectorizer__max_df': 0.25,\n",
       "   'tfidfvectorizer__min_df': 1,\n",
       "   'tfidfvectorizer__ngram_range': (2, 2),\n",
       "   'tfidfvectorizer__norm': 'l1'},\n",
       "  {'multinomialnb__alpha': 0.001,\n",
       "   'tfidfvectorizer__max_df': 0.25,\n",
       "   'tfidfvectorizer__min_df': 1,\n",
       "   'tfidfvectorizer__ngram_range': (2, 2),\n",
       "   'tfidfvectorizer__norm': 'l2'},\n",
       "  {'multinomialnb__alpha': 0.001,\n",
       "   'tfidfvectorizer__max_df': 0.25,\n",
       "   'tfidfvectorizer__min_df': 1,\n",
       "   'tfidfvectorizer__ngram_range': (2, 3),\n",
       "   'tfidfvectorizer__norm': 'l1'},\n",
       "  {'multinomialnb__alpha': 0.001,\n",
       "   'tfidfvectorizer__max_df': 0.25,\n",
       "   'tfidfvectorizer__min_df': 1,\n",
       "   'tfidfvectorizer__ngram_range': (2, 3),\n",
       "   'tfidfvectorizer__norm': 'l2'},\n",
       "  {'multinomialnb__alpha': 0.001,\n",
       "   'tfidfvectorizer__max_df': 0.25,\n",
       "   'tfidfvectorizer__min_df': 1,\n",
       "   'tfidfvectorizer__ngram_range': (3, 3),\n",
       "   'tfidfvectorizer__norm': 'l1'},\n",
       "  {'multinomialnb__alpha': 0.001,\n",
       "   'tfidfvectorizer__max_df': 0.25,\n",
       "   'tfidfvectorizer__min_df': 1,\n",
       "   'tfidfvectorizer__ngram_range': (3, 3),\n",
       "   'tfidfvectorizer__norm': 'l2'},\n",
       "  {'multinomialnb__alpha': 0.001,\n",
       "   'tfidfvectorizer__max_df': 0.25,\n",
       "   'tfidfvectorizer__min_df': 2,\n",
       "   'tfidfvectorizer__ngram_range': (1, 1),\n",
       "   'tfidfvectorizer__norm': 'l1'},\n",
       "  {'multinomialnb__alpha': 0.001,\n",
       "   'tfidfvectorizer__max_df': 0.25,\n",
       "   'tfidfvectorizer__min_df': 2,\n",
       "   'tfidfvectorizer__ngram_range': (1, 1),\n",
       "   'tfidfvectorizer__norm': 'l2'},\n",
       "  {'multinomialnb__alpha': 0.001,\n",
       "   'tfidfvectorizer__max_df': 0.25,\n",
       "   'tfidfvectorizer__min_df': 2,\n",
       "   'tfidfvectorizer__ngram_range': (1, 2),\n",
       "   'tfidfvectorizer__norm': 'l1'},\n",
       "  {'multinomialnb__alpha': 0.001,\n",
       "   'tfidfvectorizer__max_df': 0.25,\n",
       "   'tfidfvectorizer__min_df': 2,\n",
       "   'tfidfvectorizer__ngram_range': (1, 2),\n",
       "   'tfidfvectorizer__norm': 'l2'},\n",
       "  {'multinomialnb__alpha': 0.001,\n",
       "   'tfidfvectorizer__max_df': 0.25,\n",
       "   'tfidfvectorizer__min_df': 2,\n",
       "   'tfidfvectorizer__ngram_range': (2, 2),\n",
       "   'tfidfvectorizer__norm': 'l1'},\n",
       "  {'multinomialnb__alpha': 0.001,\n",
       "   'tfidfvectorizer__max_df': 0.25,\n",
       "   'tfidfvectorizer__min_df': 2,\n",
       "   'tfidfvectorizer__ngram_range': (2, 2),\n",
       "   'tfidfvectorizer__norm': 'l2'},\n",
       "  {'multinomialnb__alpha': 0.001,\n",
       "   'tfidfvectorizer__max_df': 0.25,\n",
       "   'tfidfvectorizer__min_df': 2,\n",
       "   'tfidfvectorizer__ngram_range': (2, 3),\n",
       "   'tfidfvectorizer__norm': 'l1'},\n",
       "  {'multinomialnb__alpha': 0.001,\n",
       "   'tfidfvectorizer__max_df': 0.25,\n",
       "   'tfidfvectorizer__min_df': 2,\n",
       "   'tfidfvectorizer__ngram_range': (2, 3),\n",
       "   'tfidfvectorizer__norm': 'l2'},\n",
       "  {'multinomialnb__alpha': 0.001,\n",
       "   'tfidfvectorizer__max_df': 0.25,\n",
       "   'tfidfvectorizer__min_df': 2,\n",
       "   'tfidfvectorizer__ngram_range': (3, 3),\n",
       "   'tfidfvectorizer__norm': 'l1'},\n",
       "  {'multinomialnb__alpha': 0.001,\n",
       "   'tfidfvectorizer__max_df': 0.25,\n",
       "   'tfidfvectorizer__min_df': 2,\n",
       "   'tfidfvectorizer__ngram_range': (3, 3),\n",
       "   'tfidfvectorizer__norm': 'l2'}],\n",
       " 'split0_test_score': array([0.55927105, 0.58368719, 0.56121727, 0.61022647, 0.5415782 ,\n",
       "        0.57254069, 0.53113942, 0.57059448, 0.47416844, 0.49274593,\n",
       "        0.5651097 , 0.58067941, 0.57908705, 0.60987261, 0.54812456,\n",
       "        0.5564402 , 0.54370134, 0.5564402 , 0.4534678 , 0.45488323,\n",
       "        0.57926398, 0.60863411, 0.57183298, 0.62101911, 0.55608634,\n",
       "        0.58651805, 0.54511677, 0.58351026, 0.48496108, 0.50389243,\n",
       "        0.58545648, 0.60881104, 0.59164897, 0.62225761, 0.56316348,\n",
       "        0.57218684, 0.55732484, 0.57360226, 0.46514508, 0.4658528 ,\n",
       "        0.58244869, 0.61111111, 0.57254069, 0.62278839, 0.55608634,\n",
       "        0.58651805, 0.54511677, 0.58351026, 0.48496108, 0.50389243,\n",
       "        0.58757962, 0.61464968, 0.5881104 , 0.62491154, 0.56316348,\n",
       "        0.57218684, 0.55732484, 0.57360226, 0.46514508, 0.4658528 ,\n",
       "        0.58244869, 0.57749469, 0.60721868, 0.60969568, 0.57784855,\n",
       "        0.57661005, 0.57271762, 0.57554848, 0.49469214, 0.49433829,\n",
       "        0.57714084, 0.57413305, 0.60881104, 0.6128804 , 0.55184006,\n",
       "        0.55626327, 0.55007077, 0.55484784, 0.45559094, 0.45612173,\n",
       "        0.6104034 , 0.61111111, 0.61871904, 0.63145789, 0.5905874 ,\n",
       "        0.58881812, 0.5843949 , 0.58757962, 0.50566171, 0.50442321,\n",
       "        0.60509554, 0.60828025, 0.62261146, 0.63305025, 0.56864827,\n",
       "        0.57094834, 0.56564048, 0.57024062, 0.46638358, 0.46726822,\n",
       "        0.6116419 , 0.61871904, 0.61924982, 0.63375796, 0.5905874 ,\n",
       "        0.58881812, 0.5843949 , 0.58757962, 0.50566171, 0.50442321,\n",
       "        0.60863411, 0.61641897, 0.62367304, 0.63676575, 0.56864827,\n",
       "        0.57094834, 0.56564048, 0.57024062, 0.46638358, 0.46726822,\n",
       "        0.57307148, 0.56900212, 0.60721868, 0.6029724 , 0.57625619,\n",
       "        0.57448691, 0.57342534, 0.57200991, 0.49575372, 0.49539986,\n",
       "        0.57041755, 0.56864827, 0.60615711, 0.60739561, 0.55042463,\n",
       "        0.55325548, 0.5490092 , 0.55307856, 0.45506016, 0.45665251,\n",
       "        0.60208776, 0.60226469, 0.62455768, 0.62243454, 0.58793347,\n",
       "        0.58828733, 0.58510262, 0.58421798, 0.50601557, 0.50583864,\n",
       "        0.59854919, 0.60155697, 0.62597311, 0.63075018, 0.56670205,\n",
       "        0.57024062, 0.56404812, 0.56847134, 0.46673744, 0.46762208,\n",
       "        0.60598018, 0.60828025, 0.62668082, 0.62420382, 0.58793347,\n",
       "        0.58828733, 0.58510262, 0.58421798, 0.50601557, 0.50583864,\n",
       "        0.60403397, 0.60987261, 0.62738854, 0.63145789, 0.56670205,\n",
       "        0.57024062, 0.56404812, 0.56847134, 0.46673744, 0.46762208,\n",
       "        0.56705591, 0.56564048, 0.60332626, 0.59854919, 0.57413305,\n",
       "        0.57271762, 0.57360226, 0.56882519, 0.49575372, 0.49539986,\n",
       "        0.56705591, 0.56758669, 0.60191083, 0.60456476, 0.54989384,\n",
       "        0.55325548, 0.54971691, 0.55290163, 0.45506016, 0.45647558,\n",
       "        0.59465676, 0.60014154, 0.61978061, 0.61730361, 0.58917197,\n",
       "        0.58722576, 0.58651805, 0.58421798, 0.50690021, 0.50566171,\n",
       "        0.59447983, 0.5992569 , 0.62119604, 0.62597311, 0.56546355,\n",
       "        0.56970984, 0.56475584, 0.56829441, 0.46673744, 0.46762208,\n",
       "        0.59890304, 0.6029724 , 0.62066525, 0.61924982, 0.58917197,\n",
       "        0.58722576, 0.58651805, 0.58421798, 0.50690021, 0.50566171,\n",
       "        0.6004954 , 0.60509554, 0.62172682, 0.62791932, 0.56546355,\n",
       "        0.56970984, 0.56475584, 0.56829441, 0.46673744, 0.46762208]),\n",
       " 'split1_test_score': array([0.55122987, 0.56998761, 0.55476907, 0.60272518, 0.53494957,\n",
       "        0.56733322, 0.52096974, 0.56627146, 0.47389843, 0.49654928,\n",
       "        0.55264555, 0.57228809, 0.56910281, 0.59299239, 0.53459565,\n",
       "        0.54238188, 0.52875597, 0.54043532, 0.45443284, 0.45797204,\n",
       "        0.57246505, 0.59706247, 0.56485578, 0.61705893, 0.54609804,\n",
       "        0.57795081, 0.53300301, 0.57635817, 0.4832773 , 0.50575119,\n",
       "        0.57671209, 0.59883207, 0.58095912, 0.60821094, 0.54645196,\n",
       "        0.55547691, 0.5427358 , 0.55353035, 0.4634578 , 0.46788179,\n",
       "        0.57812776, 0.6066183 , 0.5634401 , 0.61847461, 0.54609804,\n",
       "        0.57795081, 0.53300301, 0.57635817, 0.4832773 , 0.50575119,\n",
       "        0.5823748 , 0.6092727 , 0.58131304, 0.61210405, 0.54645196,\n",
       "        0.55547691, 0.5427358 , 0.55353035, 0.4634578 , 0.46788179,\n",
       "        0.56910281, 0.57618121, 0.60007078, 0.60414086, 0.56945673,\n",
       "        0.56981065, 0.56485578, 0.5660945 , 0.49672624, 0.4960184 ,\n",
       "        0.56485578, 0.56751018, 0.59281543, 0.59122279, 0.53955052,\n",
       "        0.54149708, 0.53795788, 0.54043532, 0.4590338 , 0.46009556,\n",
       "        0.59582375, 0.60060166, 0.61121925, 0.61812069, 0.58025128,\n",
       "        0.58149   , 0.57565033, 0.57706601, 0.50628207, 0.50592815,\n",
       "        0.59511591, 0.59600071, 0.60998053, 0.60962661, 0.55353035,\n",
       "        0.55423819, 0.55140683, 0.55353035, 0.46805875, 0.46982835,\n",
       "        0.60148646, 0.60697222, 0.61422757, 0.61794373, 0.58025128,\n",
       "        0.58149   , 0.57565033, 0.57706601, 0.50628207, 0.50592815,\n",
       "        0.59794727, 0.6013095 , 0.61033445, 0.61175013, 0.55353035,\n",
       "        0.55423819, 0.55140683, 0.55353035, 0.46805875, 0.46982835,\n",
       "        0.56927977, 0.57193417, 0.59741639, 0.59794727, 0.57051849,\n",
       "        0.5660945 , 0.56538666, 0.56237834, 0.4960184 , 0.49495664,\n",
       "        0.5607857 , 0.56591754, 0.58856839, 0.58573704, 0.53866572,\n",
       "        0.54025836, 0.53795788, 0.53955052, 0.45974164, 0.46044948,\n",
       "        0.59476199, 0.59476199, 0.61723589, 0.61086533, 0.58078216,\n",
       "        0.57848168, 0.57724297, 0.57441161, 0.50575119, 0.5048664 ,\n",
       "        0.59423111, 0.59299239, 0.60891878, 0.6039639 , 0.55176075,\n",
       "        0.55370731, 0.54928331, 0.55105291, 0.46858963, 0.47000531,\n",
       "        0.59741639, 0.60095558, 0.61812069, 0.61440453, 0.58078216,\n",
       "        0.57848168, 0.57724297, 0.57441161, 0.50575119, 0.5048664 ,\n",
       "        0.59529287, 0.59883207, 0.61245797, 0.60414086, 0.55176075,\n",
       "        0.55370731, 0.54928331, 0.55105291, 0.46858963, 0.47000531,\n",
       "        0.5652097 , 0.57140329, 0.59122279, 0.59316935, 0.56662538,\n",
       "        0.56414794, 0.56326314, 0.56131658, 0.49531056, 0.49477969,\n",
       "        0.5581313 , 0.56538666, 0.58520616, 0.58290568, 0.53795788,\n",
       "        0.53901964, 0.53795788, 0.53972748, 0.45974164, 0.46062644,\n",
       "        0.58786056, 0.59316935, 0.60626438, 0.60520262, 0.57812776,\n",
       "        0.57635817, 0.57334985, 0.57281897, 0.50468944, 0.50451248,\n",
       "        0.58945319, 0.59086887, 0.60414086, 0.60007078, 0.55122987,\n",
       "        0.55264555, 0.54999115, 0.55069899, 0.46858963, 0.47000531,\n",
       "        0.59122279, 0.59812423, 0.6083879 , 0.6083879 , 0.57812776,\n",
       "        0.57635817, 0.57334985, 0.57281897, 0.50468944, 0.50451248,\n",
       "        0.59175367, 0.59600071, 0.60414086, 0.6004247 , 0.55122987,\n",
       "        0.55264555, 0.54999115, 0.55069899, 0.46858963, 0.47000531]),\n",
       " 'split2_test_score': array([0.55388427, 0.57423465, 0.54804459, 0.59989382, 0.54344364,\n",
       "        0.57087241, 0.52273934, 0.56768714, 0.47195187, 0.49301009,\n",
       "        0.5599009 , 0.57140329, 0.56733322, 0.6030791 , 0.5400814 ,\n",
       "        0.54574412, 0.53671916, 0.54698283, 0.45195541, 0.45407892,\n",
       "        0.56945673, 0.59617767, 0.5581313 , 0.60962661, 0.55883914,\n",
       "        0.58644488, 0.53848876, 0.58379048, 0.48433906, 0.50522031,\n",
       "        0.57848168, 0.60060166, 0.57989736, 0.61316581, 0.55600779,\n",
       "        0.56414794, 0.55317643, 0.56361706, 0.46363475, 0.46611219,\n",
       "        0.57211113, 0.6048487 , 0.5616705 , 0.60980357, 0.55883914,\n",
       "        0.58644488, 0.53848876, 0.58379048, 0.48433906, 0.50522031,\n",
       "        0.58202088, 0.60431782, 0.5788356 , 0.61546629, 0.55600779,\n",
       "        0.56414794, 0.55317643, 0.56361706, 0.46363475, 0.46611219,\n",
       "        0.57724297, 0.57016457, 0.59812423, 0.60591046, 0.57158025,\n",
       "        0.56591754, 0.5660945 , 0.56733322, 0.49407185, 0.49424881,\n",
       "        0.56945673, 0.56715626, 0.59812423, 0.59883207, 0.53813484,\n",
       "        0.54167404, 0.54220492, 0.541851  , 0.45319412, 0.45443284,\n",
       "        0.59281543, 0.59759335, 0.61175013, 0.62679172, 0.58520616,\n",
       "        0.58131304, 0.58361352, 0.58149   , 0.50663599, 0.50645903,\n",
       "        0.59653159, 0.59936294, 0.61511237, 0.621129  , 0.55777738,\n",
       "        0.5607857 , 0.5599009 , 0.56043178, 0.46575827, 0.46682003,\n",
       "        0.59847815, 0.60343302, 0.61033445, 0.62767652, 0.58520616,\n",
       "        0.58131304, 0.58361352, 0.58149   , 0.50663599, 0.50645903,\n",
       "        0.60272518, 0.60431782, 0.61546629, 0.62342948, 0.55777738,\n",
       "        0.5607857 , 0.5599009 , 0.56043178, 0.46575827, 0.46682003,\n",
       "        0.56839497, 0.56538666, 0.60184038, 0.59511591, 0.56556362,\n",
       "        0.56237834, 0.56574058, 0.56379402, 0.49460273, 0.49548752,\n",
       "        0.56715626, 0.56202442, 0.59741639, 0.59670855, 0.53884268,\n",
       "        0.53937356, 0.5427358 , 0.54078924, 0.45337108, 0.45478676,\n",
       "        0.59405415, 0.59033799, 0.62148292, 0.61175013, 0.57954344,\n",
       "        0.57688905, 0.58007432, 0.57812776, 0.50681295, 0.50769775,\n",
       "        0.59582375, 0.59493895, 0.61652805, 0.61829765, 0.55724651,\n",
       "        0.55760042, 0.56025482, 0.55919306, 0.46558131, 0.46664307,\n",
       "        0.59759335, 0.59670855, 0.62236772, 0.61440453, 0.57954344,\n",
       "        0.57688905, 0.58007432, 0.57812776, 0.50681295, 0.50769775,\n",
       "        0.59847815, 0.6004247 , 0.61758981, 0.62006724, 0.55724651,\n",
       "        0.55760042, 0.56025482, 0.55919306, 0.46558131, 0.46664307,\n",
       "        0.5652097 , 0.5625553 , 0.59458503, 0.59016103, 0.5652097 ,\n",
       "        0.56184746, 0.5625553 , 0.56184746, 0.49424881, 0.4951336 ,\n",
       "        0.56450186, 0.56060874, 0.59316935, 0.59263847, 0.53795788,\n",
       "        0.53972748, 0.54061228, 0.5400814 , 0.45319412, 0.45478676,\n",
       "        0.58856839, 0.58821448, 0.61334277, 0.60785702, 0.58025128,\n",
       "        0.57635817, 0.57653513, 0.57582729, 0.50645903, 0.50681295,\n",
       "        0.59246151, 0.59334631, 0.61528933, 0.61546629, 0.55618475,\n",
       "        0.55671563, 0.55937002, 0.55848522, 0.46558131, 0.46664307,\n",
       "        0.59122279, 0.59228455, 0.61387365, 0.6083879 , 0.58025128,\n",
       "        0.57635817, 0.57653513, 0.57582729, 0.50645903, 0.50681295,\n",
       "        0.59511591, 0.59830119, 0.61582021, 0.61617413, 0.55618475,\n",
       "        0.55671563, 0.55937002, 0.55848522, 0.46558131, 0.46664307]),\n",
       " 'mean_test_score': array([0.55479506, 0.57596982, 0.55467698, 0.60428182, 0.53999047,\n",
       "        0.57024877, 0.5249495 , 0.56818436, 0.47333958, 0.49410177,\n",
       "        0.55921872, 0.57479026, 0.57184103, 0.60198137, 0.54093387,\n",
       "        0.54818873, 0.53639216, 0.54795278, 0.45328535, 0.45564473,\n",
       "        0.57372859, 0.60062475, 0.56494002, 0.61590155, 0.55367451,\n",
       "        0.58363791, 0.53886951, 0.58121964, 0.48419248, 0.50495465,\n",
       "        0.58021675, 0.60274826, 0.58416849, 0.61454479, 0.55520774,\n",
       "        0.56393723, 0.55107902, 0.56358322, 0.46407921, 0.46661559,\n",
       "        0.57756253, 0.60752604, 0.56588376, 0.61702219, 0.55367451,\n",
       "        0.58363791, 0.53886951, 0.58121964, 0.48419248, 0.50495465,\n",
       "        0.58399177, 0.6094134 , 0.58275302, 0.61749396, 0.55520774,\n",
       "        0.56393723, 0.55107902, 0.56358322, 0.46407921, 0.46661559,\n",
       "        0.57626482, 0.57461349, 0.60180456, 0.60658233, 0.57296184,\n",
       "        0.57077941, 0.5678893 , 0.56965873, 0.49516341, 0.4948685 ,\n",
       "        0.57048445, 0.56959983, 0.5999169 , 0.60097842, 0.54317514,\n",
       "        0.54647813, 0.54341119, 0.54571139, 0.45593962, 0.45688338,\n",
       "        0.59968086, 0.60310204, 0.61389614, 0.62545677, 0.58534828,\n",
       "        0.58387372, 0.58121958, 0.58204521, 0.50619326, 0.50560347,\n",
       "        0.59891435, 0.60121464, 0.61590146, 0.62126862, 0.55998533,\n",
       "        0.56199074, 0.55898274, 0.56140092, 0.46673353, 0.4679722 ,\n",
       "        0.60386883, 0.60970809, 0.61460395, 0.6264594 , 0.58534828,\n",
       "        0.58387372, 0.58121958, 0.58204521, 0.50619326, 0.50560347,\n",
       "        0.60310219, 0.60734876, 0.61649126, 0.62398179, 0.55998533,\n",
       "        0.56199074, 0.55898274, 0.56140092, 0.46673353, 0.4679722 ,\n",
       "        0.57024874, 0.56877432, 0.60215848, 0.59867852, 0.57077943,\n",
       "        0.56765325, 0.56818419, 0.56606076, 0.49545828, 0.49528134,\n",
       "        0.56611984, 0.56553007, 0.59738063, 0.59661373, 0.54264434,\n",
       "        0.5442958 , 0.54323429, 0.54447277, 0.45605763, 0.45729625,\n",
       "        0.59696797, 0.59578822, 0.62109216, 0.61501667, 0.58275303,\n",
       "        0.58121935, 0.58080664, 0.57891912, 0.50619324, 0.50613426,\n",
       "        0.59620135, 0.5964961 , 0.61713998, 0.61767057, 0.55856977,\n",
       "        0.56051612, 0.55786209, 0.55957244, 0.46696946, 0.46809015,\n",
       "        0.60032997, 0.60198146, 0.62238974, 0.61767096, 0.58275303,\n",
       "        0.58121935, 0.58080664, 0.57891912, 0.50619324, 0.50613426,\n",
       "        0.59926833, 0.60304313, 0.61914544, 0.61855533, 0.55856977,\n",
       "        0.56051612, 0.55786209, 0.55957244, 0.46696946, 0.46809015,\n",
       "        0.5658251 , 0.56653302, 0.59637803, 0.59395986, 0.56865604,\n",
       "        0.56623767, 0.56647357, 0.56399641, 0.49510436, 0.49510438,\n",
       "        0.56322969, 0.56452736, 0.59342878, 0.59336964, 0.54193654,\n",
       "        0.54400087, 0.54276236, 0.54423684, 0.45599864, 0.45729626,\n",
       "        0.5903619 , 0.59384179, 0.61312925, 0.61012108, 0.58251701,\n",
       "        0.5799807 , 0.57880101, 0.57762141, 0.50601623, 0.50566238,\n",
       "        0.59213151, 0.59449069, 0.61354208, 0.61383673, 0.55762606,\n",
       "        0.55969034, 0.558039  , 0.55915954, 0.46696946, 0.46809015,\n",
       "        0.59378288, 0.59779373, 0.61430893, 0.61200854, 0.58251701,\n",
       "        0.5799807 , 0.57880101, 0.57762141, 0.50601623, 0.50566238,\n",
       "        0.59578833, 0.59979914, 0.61389596, 0.61483938, 0.55762606,\n",
       "        0.55969034, 0.558039  , 0.55915954, 0.46696946, 0.46809015]),\n",
       " 'std_test_score': array([0.00334538, 0.00572583, 0.00537812, 0.00435953, 0.0036449 ,\n",
       "        0.0021712 , 0.00443615, 0.00179955, 0.00098743, 0.00173401,\n",
       "        0.00511128, 0.00417989, 0.00517439, 0.0069349 , 0.00555595,\n",
       "        0.00599395, 0.0061058 , 0.00656986, 0.0010196 , 0.00167809,\n",
       "        0.00410227, 0.00567498, 0.005594  , 0.00472242, 0.00547398,\n",
       "        0.0040215 , 0.00495275, 0.00343948, 0.00069517, 0.00078175,\n",
       "        0.00377482, 0.00434748, 0.00530723, 0.00581684, 0.00684587,\n",
       "        0.00682343, 0.00613783, 0.00819436, 0.00075714, 0.00090158,\n",
       "        0.00423917, 0.00263596, 0.00476228, 0.0053996 , 0.00547398,\n",
       "        0.0040215 , 0.00495275, 0.00343948, 0.00069517, 0.00078175,\n",
       "        0.0025411 , 0.00421914, 0.00392094, 0.00542165, 0.00684587,\n",
       "        0.00682343, 0.00613783, 0.00819436, 0.00075714, 0.00090158,\n",
       "        0.00549216, 0.00319123, 0.00390997, 0.00231698, 0.00356251,\n",
       "        0.00441862, 0.00345139, 0.00419527, 0.00113373, 0.00081393,\n",
       "        0.00506773, 0.00320873, 0.00665207, 0.00897099, 0.00615422,\n",
       "        0.00691952, 0.00501809, 0.00648625, 0.00239675, 0.0023737 ,\n",
       "        0.0076808 , 0.00579491, 0.00341718, 0.00552611, 0.0042209 ,\n",
       "        0.00349696, 0.00395096, 0.00431008, 0.00040268, 0.00086225,\n",
       "        0.00440881, 0.00518127, 0.00518666, 0.00956317, 0.00636627,\n",
       "        0.0068749 , 0.00584702, 0.00685627, 0.00097122, 0.00132519,\n",
       "        0.00563192, 0.00653347, 0.0036494 , 0.00651324, 0.0042209 ,\n",
       "        0.00349696, 0.00395096, 0.00431008, 0.00040268, 0.00086225,\n",
       "        0.00437102, 0.00653013, 0.00549347, 0.01022005, 0.00636627,\n",
       "        0.0068749 , 0.00584702, 0.00685627, 0.00097122, 0.00132519,\n",
       "        0.0020284 , 0.00267786, 0.00400809, 0.00324881, 0.00436912,\n",
       "        0.00506469, 0.00370887, 0.0042462 , 0.00061454, 0.00023237,\n",
       "        0.0039999 , 0.00271802, 0.00718061, 0.00884233, 0.00550197,\n",
       "        0.00634574, 0.00452543, 0.00610618, 0.00269471, 0.00235618,\n",
       "        0.00363175, 0.00492283, 0.00300185, 0.00525765, 0.00369787,\n",
       "        0.00503993, 0.0032502 , 0.00404235, 0.0004513 , 0.00117465,\n",
       "        0.00178295, 0.00366575, 0.00697583, 0.01094444, 0.00617111,\n",
       "        0.00705755, 0.00626066, 0.0071161 , 0.00123905, 0.00141197,\n",
       "        0.00399596, 0.0047795 , 0.00349469, 0.00461943, 0.00369787,\n",
       "        0.00503993, 0.0032502 , 0.00404235, 0.0004513 , 0.00117465,\n",
       "        0.00361202, 0.00487275, 0.00619384, 0.01120326, 0.00617111,\n",
       "        0.00705755, 0.00626066, 0.0071161 , 0.00123905, 0.00141197,\n",
       "        0.00087031, 0.0036669 , 0.00510128, 0.00346977, 0.00391572,\n",
       "        0.00467727, 0.00504903, 0.00342134, 0.00063144, 0.00025403,\n",
       "        0.00375286, 0.00291282, 0.00682212, 0.00885738, 0.00562667,\n",
       "        0.00655038, 0.0050356 , 0.00612864, 0.00275415, 0.00245365,\n",
       "        0.00305064, 0.00489237, 0.00552004, 0.00519314, 0.00478496,\n",
       "        0.00512303, 0.00560958, 0.00482345, 0.00095532, 0.00093917,\n",
       "        0.00206534, 0.00351871, 0.00707151, 0.01063717, 0.00589957,\n",
       "        0.00727709, 0.00610069, 0.00719911, 0.00123905, 0.00141197,\n",
       "        0.0036205 , 0.00436955, 0.00502165, 0.00512036, 0.00478496,\n",
       "        0.00512303, 0.00560958, 0.00482345, 0.00095532, 0.00093917,\n",
       "        0.00360033, 0.00386108, 0.00730724, 0.01126424, 0.00589957,\n",
       "        0.00727709, 0.00610069, 0.00719911, 0.00123905, 0.00141197]),\n",
       " 'rank_test_score': array([167, 105, 168,  34, 188, 114, 192, 120, 216, 213, 152, 106, 110,\n",
       "         42, 187, 173, 191, 174, 240, 239, 108,  46, 132,  15, 169,  77,\n",
       "        189,  86, 214, 205,  94,  39,  73,  20, 165, 135, 171, 137, 231,\n",
       "        229, 103,  31, 129,  13, 169,  77, 189,  86, 214, 205,  74,  30,\n",
       "         81,  11, 165, 135, 171, 137, 231, 229, 104, 107,  43,  33, 109,\n",
       "        112, 122, 116, 209, 212, 113, 117,  48,  45, 183, 175, 181, 176,\n",
       "        238, 235,  50,  37,  22,   2,  71,  75,  88,  84, 193, 203,  52,\n",
       "         44,  16,   5, 146, 140, 155, 142, 227, 221,  35,  29,  19,   1,\n",
       "         71,  75,  88,  84, 193, 203,  36,  32,  14,   3, 146, 140, 155,\n",
       "        142, 227, 221, 115, 118,  40,  53, 111, 123, 121, 128, 207, 208,\n",
       "        127, 131,  55,  57, 185, 178, 182, 177, 236, 234,  56,  62,   6,\n",
       "         17,  79,  90,  92,  97, 195, 197,  60,  58,  12,  10, 157, 144,\n",
       "        161, 150, 223, 217,  47,  41,   4,   9,  79,  90,  92,  97, 195,\n",
       "        197,  51,  38,   7,   8, 157, 144, 161, 150, 223, 217, 130, 124,\n",
       "         59,  64, 119, 126, 125, 134, 211, 210, 139, 133,  67,  68, 186,\n",
       "        180, 184, 179, 237, 233,  70,  65,  26,  28,  82,  95,  99, 101,\n",
       "        199, 201,  69,  63,  25,  24, 163, 148, 159, 153, 223, 217,  66,\n",
       "         54,  21,  27,  82,  95,  99, 101, 199, 201,  61,  49,  23,  18,\n",
       "        163, 148, 159, 153, 223, 217], dtype=int32)}"
      ]
     },
     "execution_count": 184,
     "metadata": {},
     "output_type": "execute_result"
    }
   ],
   "source": [
    "gs_nb_tf.cv_results_"
   ]
  },
  {
   "cell_type": "markdown",
   "metadata": {},
   "source": [
    "### Count Vectorizer"
   ]
  },
  {
   "cell_type": "markdown",
   "metadata": {},
   "source": [
    "The only difference of the Count Vectorizer from the TF-IDF Vectorizer it returns integers instead of floats.\n",
    "\n",
    "We will take same steps and use same hyperparameters as for TF-IDF. \n",
    "Count Vectorizer hyperparameters that we will tune are: \n",
    "- n-gram range: (1,1) unigrams (one word), (2,2) bigrams (two adjacent words), (3,3) trigrams (three adjacent words) and their combinations (1,2) and (2,3). \n",
    "- maximum document frequency set to 1%, 5% and 25% that means it will ignore temrs that appear in more than given percentage of the documents.\n",
    "- minimum document frequency set to 1 and 2 that means it will ignore temrs that appear in less than given number of the documents.\n",
    "\n",
    "Naive Bayes hyperparameter:\n",
    "- alpha from additive (Laplace/Lidstone) smoothing parameter to closer no smoothing."
   ]
  },
  {
   "cell_type": "code",
   "execution_count": 185,
   "metadata": {},
   "outputs": [
    {
     "data": {
      "text/plain": [
       "Pipeline(steps=[('countvectorizer', CountVectorizer()),\n",
       "                ('multinomialnb', MultinomialNB())])"
      ]
     },
     "execution_count": 185,
     "metadata": {},
     "output_type": "execute_result"
    }
   ],
   "source": [
    "pipeline_nb_cv = make_pipeline(CountVectorizer(), MultinomialNB())\n",
    "pipeline_nb_cv"
   ]
  },
  {
   "cell_type": "code",
   "execution_count": 186,
   "metadata": {},
   "outputs": [],
   "source": [
    "# Parameters of pipelines can be set using ‘__’ separated parameter names:\n",
    "# Define the parameter grid\n",
    "grid_nb_cv = {\n",
    "    'countvectorizer__min_df': [1, 2],\n",
    "    'countvectorizer__max_df': [0.1, 0.5, 0.25],\n",
    "    'countvectorizer__ngram_range': [(1,1), (1,2), (2,2), (2,3), (3,3)],\n",
    "    'multinomialnb__alpha': [1, 0.1, 0.01]   \n",
    "}"
   ]
  },
  {
   "cell_type": "code",
   "execution_count": 187,
   "metadata": {},
   "outputs": [],
   "source": [
    "# Initialize the gridsearch object with three-fold cross-validation\n",
    "gs_nb_cv = GridSearchCV(pipeline_nb_cv, grid_nb_cv, cv=3)"
   ]
  },
  {
   "cell_type": "code",
   "execution_count": 188,
   "metadata": {},
   "outputs": [
    {
     "data": {
      "text/plain": [
       "GridSearchCV(cv=3,\n",
       "             estimator=Pipeline(steps=[('countvectorizer', CountVectorizer()),\n",
       "                                       ('multinomialnb', MultinomialNB())]),\n",
       "             param_grid={'countvectorizer__max_df': [0.1, 0.25],\n",
       "                         'countvectorizer__min_df': [1, 2],\n",
       "                         'countvectorizer__ngram_range': [(1, 1), (1, 2),\n",
       "                                                          (2, 2), (2, 3),\n",
       "                                                          (3, 3)],\n",
       "                         'multinomialnb__alpha': [1, 0.1, 0.01]})"
      ]
     },
     "execution_count": 188,
     "metadata": {},
     "output_type": "execute_result"
    }
   ],
   "source": [
    "gs_nb_cv.fit(X_t, y_t)"
   ]
  },
  {
   "cell_type": "code",
   "execution_count": 189,
   "metadata": {},
   "outputs": [
    {
     "data": {
      "text/plain": [
       "{'countvectorizer__max_df': 0.25,\n",
       " 'countvectorizer__min_df': 1,\n",
       " 'countvectorizer__ngram_range': (1, 2),\n",
       " 'multinomialnb__alpha': 1}"
      ]
     },
     "execution_count": 189,
     "metadata": {},
     "output_type": "execute_result"
    }
   ],
   "source": [
    "gs_nb_cv.best_params_"
   ]
  },
  {
   "cell_type": "code",
   "execution_count": 190,
   "metadata": {},
   "outputs": [
    {
     "data": {
      "text/plain": [
       "Pipeline(steps=[('countvectorizer',\n",
       "                 CountVectorizer(max_df=0.25, ngram_range=(1, 2))),\n",
       "                ('multinomialnb', MultinomialNB(alpha=1))])"
      ]
     },
     "execution_count": 190,
     "metadata": {},
     "output_type": "execute_result"
    }
   ],
   "source": [
    "gs_nb_cv.best_estimator_"
   ]
  },
  {
   "cell_type": "code",
   "execution_count": 191,
   "metadata": {},
   "outputs": [
    {
     "data": {
      "text/plain": [
       "0.6407171502712904"
      ]
     },
     "execution_count": 191,
     "metadata": {},
     "output_type": "execute_result"
    }
   ],
   "source": [
    "y_pred_nb_cv = gs_nb_cv.predict(X_val)\n",
    "accuracy_score(y_val, y_pred_nb_cv)"
   ]
  },
  {
   "cell_type": "code",
   "execution_count": 192,
   "metadata": {},
   "outputs": [
    {
     "data": {
      "image/png": "[encoded data removed]",
      "text/plain": [
       "<Figure size 432x288 with 2 Axes>"
      ]
     },
     "metadata": {},
     "output_type": "display_data"
    }
   ],
   "source": [
    "plot_confusion_matrix(y_val,y_pred_nb_cv)"
   ]
  },
  {
   "cell_type": "code",
   "execution_count": 193,
   "metadata": {},
   "outputs": [
    {
     "data": {
      "text/plain": [
       "0.6202133325080195"
      ]
     },
     "execution_count": 193,
     "metadata": {},
     "output_type": "execute_result"
    }
   ],
   "source": [
    "gs_nb_cv.best_score_"
   ]
  },
  {
   "cell_type": "code",
   "execution_count": 194,
   "metadata": {},
   "outputs": [
    {
     "data": {
      "text/plain": [
       "0.6407171502712904"
      ]
     },
     "execution_count": 194,
     "metadata": {},
     "output_type": "execute_result"
    }
   ],
   "source": [
    "gs_nb_cv.best_estimator_.score(X_val, y_val)"
   ]
  },
  {
   "cell_type": "code",
   "execution_count": 195,
   "metadata": {
    "collapsed": true,
    "jupyter": {
     "outputs_hidden": true
    }
   },
   "outputs": [
    {
     "data": {
      "text/plain": [
       "{'mean_fit_time': array([0.09941761, 0.08810504, 0.08813   , 0.23552068, 0.27986805,\n",
       "        0.29647104, 0.19499667, 0.19400001, 0.19873929, 0.37063487,\n",
       "        0.36168528, 0.32331562, 0.18750874, 0.21298965, 0.19118301,\n",
       "        0.09177399, 0.08978979, 0.09080919, 0.18269237, 0.17814088,\n",
       "        0.17770092, 0.13424333, 0.13354071, 0.13968428, 0.22619963,\n",
       "        0.22509774, 0.20908125, 0.12819195, 0.12571152, 0.12583598,\n",
       "        0.10708102, 0.10248303, 0.10446501, 0.25982364, 0.25395393,\n",
       "        0.23439606, 0.18032328, 0.17984422, 0.18071874, 0.33047533,\n",
       "        0.33718506, 0.338461  , 0.1869007 , 0.18719872, 0.19262306,\n",
       "        0.09729369, 0.09364835, 0.09063832, 0.17839495, 0.17990804,\n",
       "        0.17822472, 0.13265498, 0.13375163, 0.13894773, 0.21729604,\n",
       "        0.20615721, 0.20525448, 0.12517341, 0.12471334, 0.12501963]),\n",
       " 'std_fit_time': array([0.01244249, 0.00110012, 0.0007952 , 0.0126191 , 0.02082054,\n",
       "        0.04181772, 0.00231564, 0.00295524, 0.00626185, 0.0148767 ,\n",
       "        0.00479075, 0.00329691, 0.00129128, 0.02553812, 0.00317165,\n",
       "        0.00166342, 0.00019554, 0.00010847, 0.00407508, 0.00063146,\n",
       "        0.00140848, 0.00135914, 0.00051753, 0.00394268, 0.0028845 ,\n",
       "        0.01267186, 0.00372977, 0.00221216, 0.00070786, 0.00087022,\n",
       "        0.00566909, 0.00112937, 0.00176982, 0.00100865, 0.00724553,\n",
       "        0.00090833, 0.00272402, 0.00058174, 0.00119643, 0.00566225,\n",
       "        0.0066119 , 0.01610246, 0.00035865, 0.0013861 , 0.00594523,\n",
       "        0.00062323, 0.00253679, 0.00028749, 0.0016115 , 0.00124196,\n",
       "        0.00039774, 0.0009288 , 0.00070636, 0.00721458, 0.00920324,\n",
       "        0.00083863, 0.00138298, 0.00116704, 0.00062907, 0.00145752]),\n",
       " 'mean_score_time': array([0.03775636, 0.03511731, 0.03472932, 0.06754573, 0.09323398,\n",
       "        0.07734203, 0.05699539, 0.0549167 , 0.05846198, 0.08201218,\n",
       "        0.08254711, 0.073524  , 0.04938165, 0.05114174, 0.05110852,\n",
       "        0.03704   , 0.0369757 , 0.0377291 , 0.06701001, 0.064183  ,\n",
       "        0.06609035, 0.0482107 , 0.04778202, 0.05064567, 0.07115984,\n",
       "        0.06994963, 0.06745712, 0.0454487 , 0.04471604, 0.04685895,\n",
       "        0.04253658, 0.04082441, 0.040277  , 0.07788698, 0.07440646,\n",
       "        0.06865923, 0.05239312, 0.05196977, 0.05267191, 0.07673939,\n",
       "        0.07604965, 0.07473969, 0.04960775, 0.04938396, 0.05052217,\n",
       "        0.04182498, 0.03972896, 0.03823765, 0.06488609, 0.06565968,\n",
       "        0.06479232, 0.04813695, 0.04833126, 0.04990093, 0.06883152,\n",
       "        0.06792243, 0.06625851, 0.04506731, 0.04598324, 0.04529198]),\n",
       " 'std_score_time': array([3.44320913e-03, 3.35766804e-04, 3.72664044e-04, 3.43584377e-03,\n",
       "        2.03230110e-02, 1.93408934e-03, 7.16362838e-04, 5.54587251e-04,\n",
       "        3.41312976e-03, 2.30388871e-03, 2.92367766e-03, 2.64340805e-04,\n",
       "        1.09417261e-03, 1.78666300e-03, 1.08231814e-03, 7.26171487e-05,\n",
       "        3.33677248e-04, 6.08348800e-04, 1.34159850e-03, 3.04529940e-04,\n",
       "        1.26415684e-03, 1.62452051e-04, 1.21926856e-04, 1.98254658e-03,\n",
       "        1.11799535e-03, 2.71190575e-03, 2.01858640e-03, 6.95981943e-04,\n",
       "        2.93389624e-04, 1.35059017e-03, 1.15060726e-03, 5.10046090e-04,\n",
       "        8.11671276e-04, 2.36135989e-03, 4.10225642e-03, 5.02733237e-04,\n",
       "        8.09659627e-04, 5.48165742e-05, 2.08601124e-03, 1.63481919e-03,\n",
       "        2.15108812e-03, 7.24033928e-04, 3.37338334e-04, 3.09859554e-04,\n",
       "        2.21214186e-04, 2.28765694e-03, 1.74345029e-03, 1.14547550e-04,\n",
       "        3.07228652e-04, 7.23151294e-04, 5.40763939e-04, 3.07560398e-04,\n",
       "        1.66286092e-04, 1.62737958e-03, 2.87373889e-03, 1.71090962e-03,\n",
       "        4.21604832e-05, 1.41054498e-04, 4.48932175e-04, 5.65629151e-04]),\n",
       " 'param_countvectorizer__max_df': masked_array(data=[0.1, 0.1, 0.1, 0.1, 0.1, 0.1, 0.1, 0.1, 0.1, 0.1, 0.1,\n",
       "                    0.1, 0.1, 0.1, 0.1, 0.1, 0.1, 0.1, 0.1, 0.1, 0.1, 0.1,\n",
       "                    0.1, 0.1, 0.1, 0.1, 0.1, 0.1, 0.1, 0.1, 0.25, 0.25,\n",
       "                    0.25, 0.25, 0.25, 0.25, 0.25, 0.25, 0.25, 0.25, 0.25,\n",
       "                    0.25, 0.25, 0.25, 0.25, 0.25, 0.25, 0.25, 0.25, 0.25,\n",
       "                    0.25, 0.25, 0.25, 0.25, 0.25, 0.25, 0.25, 0.25, 0.25,\n",
       "                    0.25],\n",
       "              mask=[False, False, False, False, False, False, False, False,\n",
       "                    False, False, False, False, False, False, False, False,\n",
       "                    False, False, False, False, False, False, False, False,\n",
       "                    False, False, False, False, False, False, False, False,\n",
       "                    False, False, False, False, False, False, False, False,\n",
       "                    False, False, False, False, False, False, False, False,\n",
       "                    False, False, False, False, False, False, False, False,\n",
       "                    False, False, False, False],\n",
       "        fill_value='?',\n",
       "             dtype=object),\n",
       " 'param_countvectorizer__min_df': masked_array(data=[1, 1, 1, 1, 1, 1, 1, 1, 1, 1, 1, 1, 1, 1, 1, 2, 2, 2,\n",
       "                    2, 2, 2, 2, 2, 2, 2, 2, 2, 2, 2, 2, 1, 1, 1, 1, 1, 1,\n",
       "                    1, 1, 1, 1, 1, 1, 1, 1, 1, 2, 2, 2, 2, 2, 2, 2, 2, 2,\n",
       "                    2, 2, 2, 2, 2, 2],\n",
       "              mask=[False, False, False, False, False, False, False, False,\n",
       "                    False, False, False, False, False, False, False, False,\n",
       "                    False, False, False, False, False, False, False, False,\n",
       "                    False, False, False, False, False, False, False, False,\n",
       "                    False, False, False, False, False, False, False, False,\n",
       "                    False, False, False, False, False, False, False, False,\n",
       "                    False, False, False, False, False, False, False, False,\n",
       "                    False, False, False, False],\n",
       "        fill_value='?',\n",
       "             dtype=object),\n",
       " 'param_countvectorizer__ngram_range': masked_array(data=[(1, 1), (1, 1), (1, 1), (1, 2), (1, 2), (1, 2), (2, 2),\n",
       "                    (2, 2), (2, 2), (2, 3), (2, 3), (2, 3), (3, 3), (3, 3),\n",
       "                    (3, 3), (1, 1), (1, 1), (1, 1), (1, 2), (1, 2), (1, 2),\n",
       "                    (2, 2), (2, 2), (2, 2), (2, 3), (2, 3), (2, 3), (3, 3),\n",
       "                    (3, 3), (3, 3), (1, 1), (1, 1), (1, 1), (1, 2), (1, 2),\n",
       "                    (1, 2), (2, 2), (2, 2), (2, 2), (2, 3), (2, 3), (2, 3),\n",
       "                    (3, 3), (3, 3), (3, 3), (1, 1), (1, 1), (1, 1), (1, 2),\n",
       "                    (1, 2), (1, 2), (2, 2), (2, 2), (2, 2), (2, 3), (2, 3),\n",
       "                    (2, 3), (3, 3), (3, 3), (3, 3)],\n",
       "              mask=[False, False, False, False, False, False, False, False,\n",
       "                    False, False, False, False, False, False, False, False,\n",
       "                    False, False, False, False, False, False, False, False,\n",
       "                    False, False, False, False, False, False, False, False,\n",
       "                    False, False, False, False, False, False, False, False,\n",
       "                    False, False, False, False, False, False, False, False,\n",
       "                    False, False, False, False, False, False, False, False,\n",
       "                    False, False, False, False],\n",
       "        fill_value='?',\n",
       "             dtype=object),\n",
       " 'param_multinomialnb__alpha': masked_array(data=[1, 0.1, 0.01, 1, 0.1, 0.01, 1, 0.1, 0.01, 1, 0.1, 0.01,\n",
       "                    1, 0.1, 0.01, 1, 0.1, 0.01, 1, 0.1, 0.01, 1, 0.1, 0.01,\n",
       "                    1, 0.1, 0.01, 1, 0.1, 0.01, 1, 0.1, 0.01, 1, 0.1, 0.01,\n",
       "                    1, 0.1, 0.01, 1, 0.1, 0.01, 1, 0.1, 0.01, 1, 0.1, 0.01,\n",
       "                    1, 0.1, 0.01, 1, 0.1, 0.01, 1, 0.1, 0.01, 1, 0.1, 0.01],\n",
       "              mask=[False, False, False, False, False, False, False, False,\n",
       "                    False, False, False, False, False, False, False, False,\n",
       "                    False, False, False, False, False, False, False, False,\n",
       "                    False, False, False, False, False, False, False, False,\n",
       "                    False, False, False, False, False, False, False, False,\n",
       "                    False, False, False, False, False, False, False, False,\n",
       "                    False, False, False, False, False, False, False, False,\n",
       "                    False, False, False, False],\n",
       "        fill_value='?',\n",
       "             dtype=object),\n",
       " 'params': [{'countvectorizer__max_df': 0.1,\n",
       "   'countvectorizer__min_df': 1,\n",
       "   'countvectorizer__ngram_range': (1, 1),\n",
       "   'multinomialnb__alpha': 1},\n",
       "  {'countvectorizer__max_df': 0.1,\n",
       "   'countvectorizer__min_df': 1,\n",
       "   'countvectorizer__ngram_range': (1, 1),\n",
       "   'multinomialnb__alpha': 0.1},\n",
       "  {'countvectorizer__max_df': 0.1,\n",
       "   'countvectorizer__min_df': 1,\n",
       "   'countvectorizer__ngram_range': (1, 1),\n",
       "   'multinomialnb__alpha': 0.01},\n",
       "  {'countvectorizer__max_df': 0.1,\n",
       "   'countvectorizer__min_df': 1,\n",
       "   'countvectorizer__ngram_range': (1, 2),\n",
       "   'multinomialnb__alpha': 1},\n",
       "  {'countvectorizer__max_df': 0.1,\n",
       "   'countvectorizer__min_df': 1,\n",
       "   'countvectorizer__ngram_range': (1, 2),\n",
       "   'multinomialnb__alpha': 0.1},\n",
       "  {'countvectorizer__max_df': 0.1,\n",
       "   'countvectorizer__min_df': 1,\n",
       "   'countvectorizer__ngram_range': (1, 2),\n",
       "   'multinomialnb__alpha': 0.01},\n",
       "  {'countvectorizer__max_df': 0.1,\n",
       "   'countvectorizer__min_df': 1,\n",
       "   'countvectorizer__ngram_range': (2, 2),\n",
       "   'multinomialnb__alpha': 1},\n",
       "  {'countvectorizer__max_df': 0.1,\n",
       "   'countvectorizer__min_df': 1,\n",
       "   'countvectorizer__ngram_range': (2, 2),\n",
       "   'multinomialnb__alpha': 0.1},\n",
       "  {'countvectorizer__max_df': 0.1,\n",
       "   'countvectorizer__min_df': 1,\n",
       "   'countvectorizer__ngram_range': (2, 2),\n",
       "   'multinomialnb__alpha': 0.01},\n",
       "  {'countvectorizer__max_df': 0.1,\n",
       "   'countvectorizer__min_df': 1,\n",
       "   'countvectorizer__ngram_range': (2, 3),\n",
       "   'multinomialnb__alpha': 1},\n",
       "  {'countvectorizer__max_df': 0.1,\n",
       "   'countvectorizer__min_df': 1,\n",
       "   'countvectorizer__ngram_range': (2, 3),\n",
       "   'multinomialnb__alpha': 0.1},\n",
       "  {'countvectorizer__max_df': 0.1,\n",
       "   'countvectorizer__min_df': 1,\n",
       "   'countvectorizer__ngram_range': (2, 3),\n",
       "   'multinomialnb__alpha': 0.01},\n",
       "  {'countvectorizer__max_df': 0.1,\n",
       "   'countvectorizer__min_df': 1,\n",
       "   'countvectorizer__ngram_range': (3, 3),\n",
       "   'multinomialnb__alpha': 1},\n",
       "  {'countvectorizer__max_df': 0.1,\n",
       "   'countvectorizer__min_df': 1,\n",
       "   'countvectorizer__ngram_range': (3, 3),\n",
       "   'multinomialnb__alpha': 0.1},\n",
       "  {'countvectorizer__max_df': 0.1,\n",
       "   'countvectorizer__min_df': 1,\n",
       "   'countvectorizer__ngram_range': (3, 3),\n",
       "   'multinomialnb__alpha': 0.01},\n",
       "  {'countvectorizer__max_df': 0.1,\n",
       "   'countvectorizer__min_df': 2,\n",
       "   'countvectorizer__ngram_range': (1, 1),\n",
       "   'multinomialnb__alpha': 1},\n",
       "  {'countvectorizer__max_df': 0.1,\n",
       "   'countvectorizer__min_df': 2,\n",
       "   'countvectorizer__ngram_range': (1, 1),\n",
       "   'multinomialnb__alpha': 0.1},\n",
       "  {'countvectorizer__max_df': 0.1,\n",
       "   'countvectorizer__min_df': 2,\n",
       "   'countvectorizer__ngram_range': (1, 1),\n",
       "   'multinomialnb__alpha': 0.01},\n",
       "  {'countvectorizer__max_df': 0.1,\n",
       "   'countvectorizer__min_df': 2,\n",
       "   'countvectorizer__ngram_range': (1, 2),\n",
       "   'multinomialnb__alpha': 1},\n",
       "  {'countvectorizer__max_df': 0.1,\n",
       "   'countvectorizer__min_df': 2,\n",
       "   'countvectorizer__ngram_range': (1, 2),\n",
       "   'multinomialnb__alpha': 0.1},\n",
       "  {'countvectorizer__max_df': 0.1,\n",
       "   'countvectorizer__min_df': 2,\n",
       "   'countvectorizer__ngram_range': (1, 2),\n",
       "   'multinomialnb__alpha': 0.01},\n",
       "  {'countvectorizer__max_df': 0.1,\n",
       "   'countvectorizer__min_df': 2,\n",
       "   'countvectorizer__ngram_range': (2, 2),\n",
       "   'multinomialnb__alpha': 1},\n",
       "  {'countvectorizer__max_df': 0.1,\n",
       "   'countvectorizer__min_df': 2,\n",
       "   'countvectorizer__ngram_range': (2, 2),\n",
       "   'multinomialnb__alpha': 0.1},\n",
       "  {'countvectorizer__max_df': 0.1,\n",
       "   'countvectorizer__min_df': 2,\n",
       "   'countvectorizer__ngram_range': (2, 2),\n",
       "   'multinomialnb__alpha': 0.01},\n",
       "  {'countvectorizer__max_df': 0.1,\n",
       "   'countvectorizer__min_df': 2,\n",
       "   'countvectorizer__ngram_range': (2, 3),\n",
       "   'multinomialnb__alpha': 1},\n",
       "  {'countvectorizer__max_df': 0.1,\n",
       "   'countvectorizer__min_df': 2,\n",
       "   'countvectorizer__ngram_range': (2, 3),\n",
       "   'multinomialnb__alpha': 0.1},\n",
       "  {'countvectorizer__max_df': 0.1,\n",
       "   'countvectorizer__min_df': 2,\n",
       "   'countvectorizer__ngram_range': (2, 3),\n",
       "   'multinomialnb__alpha': 0.01},\n",
       "  {'countvectorizer__max_df': 0.1,\n",
       "   'countvectorizer__min_df': 2,\n",
       "   'countvectorizer__ngram_range': (3, 3),\n",
       "   'multinomialnb__alpha': 1},\n",
       "  {'countvectorizer__max_df': 0.1,\n",
       "   'countvectorizer__min_df': 2,\n",
       "   'countvectorizer__ngram_range': (3, 3),\n",
       "   'multinomialnb__alpha': 0.1},\n",
       "  {'countvectorizer__max_df': 0.1,\n",
       "   'countvectorizer__min_df': 2,\n",
       "   'countvectorizer__ngram_range': (3, 3),\n",
       "   'multinomialnb__alpha': 0.01},\n",
       "  {'countvectorizer__max_df': 0.25,\n",
       "   'countvectorizer__min_df': 1,\n",
       "   'countvectorizer__ngram_range': (1, 1),\n",
       "   'multinomialnb__alpha': 1},\n",
       "  {'countvectorizer__max_df': 0.25,\n",
       "   'countvectorizer__min_df': 1,\n",
       "   'countvectorizer__ngram_range': (1, 1),\n",
       "   'multinomialnb__alpha': 0.1},\n",
       "  {'countvectorizer__max_df': 0.25,\n",
       "   'countvectorizer__min_df': 1,\n",
       "   'countvectorizer__ngram_range': (1, 1),\n",
       "   'multinomialnb__alpha': 0.01},\n",
       "  {'countvectorizer__max_df': 0.25,\n",
       "   'countvectorizer__min_df': 1,\n",
       "   'countvectorizer__ngram_range': (1, 2),\n",
       "   'multinomialnb__alpha': 1},\n",
       "  {'countvectorizer__max_df': 0.25,\n",
       "   'countvectorizer__min_df': 1,\n",
       "   'countvectorizer__ngram_range': (1, 2),\n",
       "   'multinomialnb__alpha': 0.1},\n",
       "  {'countvectorizer__max_df': 0.25,\n",
       "   'countvectorizer__min_df': 1,\n",
       "   'countvectorizer__ngram_range': (1, 2),\n",
       "   'multinomialnb__alpha': 0.01},\n",
       "  {'countvectorizer__max_df': 0.25,\n",
       "   'countvectorizer__min_df': 1,\n",
       "   'countvectorizer__ngram_range': (2, 2),\n",
       "   'multinomialnb__alpha': 1},\n",
       "  {'countvectorizer__max_df': 0.25,\n",
       "   'countvectorizer__min_df': 1,\n",
       "   'countvectorizer__ngram_range': (2, 2),\n",
       "   'multinomialnb__alpha': 0.1},\n",
       "  {'countvectorizer__max_df': 0.25,\n",
       "   'countvectorizer__min_df': 1,\n",
       "   'countvectorizer__ngram_range': (2, 2),\n",
       "   'multinomialnb__alpha': 0.01},\n",
       "  {'countvectorizer__max_df': 0.25,\n",
       "   'countvectorizer__min_df': 1,\n",
       "   'countvectorizer__ngram_range': (2, 3),\n",
       "   'multinomialnb__alpha': 1},\n",
       "  {'countvectorizer__max_df': 0.25,\n",
       "   'countvectorizer__min_df': 1,\n",
       "   'countvectorizer__ngram_range': (2, 3),\n",
       "   'multinomialnb__alpha': 0.1},\n",
       "  {'countvectorizer__max_df': 0.25,\n",
       "   'countvectorizer__min_df': 1,\n",
       "   'countvectorizer__ngram_range': (2, 3),\n",
       "   'multinomialnb__alpha': 0.01},\n",
       "  {'countvectorizer__max_df': 0.25,\n",
       "   'countvectorizer__min_df': 1,\n",
       "   'countvectorizer__ngram_range': (3, 3),\n",
       "   'multinomialnb__alpha': 1},\n",
       "  {'countvectorizer__max_df': 0.25,\n",
       "   'countvectorizer__min_df': 1,\n",
       "   'countvectorizer__ngram_range': (3, 3),\n",
       "   'multinomialnb__alpha': 0.1},\n",
       "  {'countvectorizer__max_df': 0.25,\n",
       "   'countvectorizer__min_df': 1,\n",
       "   'countvectorizer__ngram_range': (3, 3),\n",
       "   'multinomialnb__alpha': 0.01},\n",
       "  {'countvectorizer__max_df': 0.25,\n",
       "   'countvectorizer__min_df': 2,\n",
       "   'countvectorizer__ngram_range': (1, 1),\n",
       "   'multinomialnb__alpha': 1},\n",
       "  {'countvectorizer__max_df': 0.25,\n",
       "   'countvectorizer__min_df': 2,\n",
       "   'countvectorizer__ngram_range': (1, 1),\n",
       "   'multinomialnb__alpha': 0.1},\n",
       "  {'countvectorizer__max_df': 0.25,\n",
       "   'countvectorizer__min_df': 2,\n",
       "   'countvectorizer__ngram_range': (1, 1),\n",
       "   'multinomialnb__alpha': 0.01},\n",
       "  {'countvectorizer__max_df': 0.25,\n",
       "   'countvectorizer__min_df': 2,\n",
       "   'countvectorizer__ngram_range': (1, 2),\n",
       "   'multinomialnb__alpha': 1},\n",
       "  {'countvectorizer__max_df': 0.25,\n",
       "   'countvectorizer__min_df': 2,\n",
       "   'countvectorizer__ngram_range': (1, 2),\n",
       "   'multinomialnb__alpha': 0.1},\n",
       "  {'countvectorizer__max_df': 0.25,\n",
       "   'countvectorizer__min_df': 2,\n",
       "   'countvectorizer__ngram_range': (1, 2),\n",
       "   'multinomialnb__alpha': 0.01},\n",
       "  {'countvectorizer__max_df': 0.25,\n",
       "   'countvectorizer__min_df': 2,\n",
       "   'countvectorizer__ngram_range': (2, 2),\n",
       "   'multinomialnb__alpha': 1},\n",
       "  {'countvectorizer__max_df': 0.25,\n",
       "   'countvectorizer__min_df': 2,\n",
       "   'countvectorizer__ngram_range': (2, 2),\n",
       "   'multinomialnb__alpha': 0.1},\n",
       "  {'countvectorizer__max_df': 0.25,\n",
       "   'countvectorizer__min_df': 2,\n",
       "   'countvectorizer__ngram_range': (2, 2),\n",
       "   'multinomialnb__alpha': 0.01},\n",
       "  {'countvectorizer__max_df': 0.25,\n",
       "   'countvectorizer__min_df': 2,\n",
       "   'countvectorizer__ngram_range': (2, 3),\n",
       "   'multinomialnb__alpha': 1},\n",
       "  {'countvectorizer__max_df': 0.25,\n",
       "   'countvectorizer__min_df': 2,\n",
       "   'countvectorizer__ngram_range': (2, 3),\n",
       "   'multinomialnb__alpha': 0.1},\n",
       "  {'countvectorizer__max_df': 0.25,\n",
       "   'countvectorizer__min_df': 2,\n",
       "   'countvectorizer__ngram_range': (2, 3),\n",
       "   'multinomialnb__alpha': 0.01},\n",
       "  {'countvectorizer__max_df': 0.25,\n",
       "   'countvectorizer__min_df': 2,\n",
       "   'countvectorizer__ngram_range': (3, 3),\n",
       "   'multinomialnb__alpha': 1},\n",
       "  {'countvectorizer__max_df': 0.25,\n",
       "   'countvectorizer__min_df': 2,\n",
       "   'countvectorizer__ngram_range': (3, 3),\n",
       "   'multinomialnb__alpha': 0.1},\n",
       "  {'countvectorizer__max_df': 0.25,\n",
       "   'countvectorizer__min_df': 2,\n",
       "   'countvectorizer__ngram_range': (3, 3),\n",
       "   'multinomialnb__alpha': 0.01}],\n",
       " 'split0_test_score': array([0.59825431, 0.59754659, 0.58622317, 0.60769049, 0.60580326,\n",
       "        0.59518754, 0.57136117, 0.56546355, 0.56428403, 0.57112527,\n",
       "        0.56381222, 0.56098136, 0.48973815, 0.49020996, 0.48997405,\n",
       "        0.59471573, 0.59518754, 0.58716678, 0.60250059, 0.59754659,\n",
       "        0.59259259, 0.54706299, 0.54588346, 0.54399623, 0.54611937,\n",
       "        0.54895022, 0.54729889, 0.45765511, 0.45954234, 0.45977825,\n",
       "        0.60202878, 0.59966973, 0.58834631, 0.60769049, 0.60627506,\n",
       "        0.59825431, 0.57136117, 0.56546355, 0.56428403, 0.57112527,\n",
       "        0.56381222, 0.56098136, 0.48973815, 0.49020996, 0.48997405,\n",
       "        0.60202878, 0.59518754, 0.58645907, 0.60391602, 0.59943383,\n",
       "        0.59542345, 0.54706299, 0.54588346, 0.54399623, 0.54611937,\n",
       "        0.54895022, 0.54729889, 0.45765511, 0.45954234, 0.45977825]),\n",
       " 'split1_test_score': array([0.60665408, 0.60311468, 0.59768759, 0.62647475, 0.61632846,\n",
       "        0.60641812, 0.57479943, 0.57243983, 0.56748466, 0.57692308,\n",
       "        0.57385559, 0.56748466, 0.49952808, 0.49834828, 0.49905616,\n",
       "        0.59910335, 0.59603587, 0.5910807 , 0.61396885, 0.60877773,\n",
       "        0.60523832, 0.55403492, 0.55309108, 0.55191128, 0.55332704,\n",
       "        0.55450684, 0.55191128, 0.46295422, 0.46271826, 0.46177442,\n",
       "        0.60759792, 0.60924965, 0.60217084, 0.62765455, 0.61939594,\n",
       "        0.60972157, 0.57479943, 0.57243983, 0.56748466, 0.57692308,\n",
       "        0.57385559, 0.56748466, 0.49952808, 0.49834828, 0.49905616,\n",
       "        0.60311468, 0.60169891, 0.59674375, 0.61750826, 0.61137329,\n",
       "        0.60759792, 0.55403492, 0.55309108, 0.55191128, 0.55332704,\n",
       "        0.55450684, 0.55191128, 0.46295422, 0.46271826, 0.46177442]),\n",
       " 'split2_test_score': array([0.61326097, 0.60500236, 0.59768759, 0.62293535, 0.61420481,\n",
       "        0.60122699, 0.56536102, 0.55828221, 0.55710241, 0.56087777,\n",
       "        0.55615857, 0.55427088, 0.49575271, 0.49622463, 0.49551675,\n",
       "        0.60806984, 0.60665408, 0.60099103, 0.61538462, 0.61326097,\n",
       "        0.60500236, 0.54365267, 0.54247286, 0.54270882, 0.54365267,\n",
       "        0.54318075, 0.54412459, 0.46083058, 0.4613025 , 0.4613025 ,\n",
       "        0.61680038, 0.60995753, 0.60051911, 0.62529495, 0.61798018,\n",
       "        0.60122699, 0.56536102, 0.55828221, 0.55710241, 0.56087777,\n",
       "        0.55615857, 0.55427088, 0.49575271, 0.49622463, 0.49551675,\n",
       "        0.61113733, 0.61090137, 0.6047664 , 0.61798018, 0.61444077,\n",
       "        0.60665408, 0.54365267, 0.54247286, 0.54270882, 0.54365267,\n",
       "        0.54318075, 0.54412459, 0.46083058, 0.4613025 , 0.4613025 ]),\n",
       " 'mean_test_score': array([0.60605645, 0.60188788, 0.59386611, 0.61903353, 0.61211218,\n",
       "        0.60094422, 0.57050721, 0.5653952 , 0.56295703, 0.56964204,\n",
       "        0.56460879, 0.5609123 , 0.49500631, 0.49492762, 0.49484899,\n",
       "        0.60062964, 0.5992925 , 0.59307951, 0.61061802, 0.60652843,\n",
       "        0.60094442, 0.54825019, 0.54714914, 0.54620544, 0.54769969,\n",
       "        0.54887927, 0.54777825, 0.46047997, 0.4611877 , 0.46095172,\n",
       "        0.60880903, 0.6062923 , 0.59701209, 0.62021333, 0.6145504 ,\n",
       "        0.60306762, 0.57050721, 0.5653952 , 0.56295703, 0.56964204,\n",
       "        0.56460879, 0.5609123 , 0.49500631, 0.49492762, 0.49484899,\n",
       "        0.60542693, 0.60259594, 0.59598974, 0.61313482, 0.60841596,\n",
       "        0.60322515, 0.54825019, 0.54714914, 0.54620544, 0.54769969,\n",
       "        0.54887927, 0.54777825, 0.46047997, 0.4611877 , 0.46095172]),\n",
       " 'std_test_score': array([0.006141  , 0.00316501, 0.00540438, 0.00814986, 0.00454454,\n",
       "        0.00458922, 0.00390024, 0.00578003, 0.00434116, 0.0066339 ,\n",
       "        0.0072467 , 0.00539472, 0.00403142, 0.00344671, 0.0037377 ,\n",
       "        0.00555759, 0.00521693, 0.00581801, 0.00576892, 0.00660959,\n",
       "        0.00590642, 0.00432087, 0.00442629, 0.00406872, 0.00410459,\n",
       "        0.00462413, 0.00319692, 0.00217751, 0.0012991 , 0.00085184,\n",
       "        0.00609098, 0.00469177, 0.00616462, 0.00890723, 0.00588002,\n",
       "        0.00485904, 0.00390024, 0.00578003, 0.00434116, 0.0066339 ,\n",
       "        0.0072467 , 0.00539472, 0.00403142, 0.00344671, 0.0037377 ,\n",
       "        0.00406213, 0.00644642, 0.00749293, 0.00652152, 0.00647361,\n",
       "        0.00553008, 0.00432087, 0.00442629, 0.00406872, 0.00410459,\n",
       "        0.00462413, 0.00319692, 0.00217751, 0.0012991 , 0.00085184]),\n",
       " 'rank_test_score': array([11, 16, 23,  2,  5, 18, 25, 29, 33, 27, 31, 35, 49, 51, 53, 19, 20,\n",
       "        24,  6,  9, 17, 39, 45, 47, 43, 37, 41, 59, 55, 57,  7, 10, 21,  1,\n",
       "         3, 14, 25, 29, 33, 27, 31, 35, 49, 51, 53, 12, 15, 22,  4,  8, 13,\n",
       "        39, 45, 47, 43, 37, 41, 59, 55, 57], dtype=int32)}"
      ]
     },
     "execution_count": 195,
     "metadata": {},
     "output_type": "execute_result"
    }
   ],
   "source": [
    "gs_nb_cv.cv_results_"
   ]
  },
  {
   "cell_type": "code",
   "execution_count": 196,
   "metadata": {},
   "outputs": [
    {
     "data": {
      "text/plain": [
       "GridSearchCV(cv=3,\n",
       "             estimator=Pipeline(steps=[('countvectorizer', CountVectorizer()),\n",
       "                                       ('multinomialnb', MultinomialNB())]),\n",
       "             param_grid={'countvectorizer__max_df': [0.1, 0.25],\n",
       "                         'countvectorizer__min_df': [1, 2],\n",
       "                         'countvectorizer__ngram_range': [(1, 1), (1, 2),\n",
       "                                                          (2, 2), (2, 3),\n",
       "                                                          (3, 3)],\n",
       "                         'multinomialnb__alpha': [1, 0.1, 0.01]})"
      ]
     },
     "execution_count": 196,
     "metadata": {},
     "output_type": "execute_result"
    }
   ],
   "source": [
    "gs_nb_cv.fit(X_train, y_train)"
   ]
  },
  {
   "cell_type": "code",
   "execution_count": 197,
   "metadata": {},
   "outputs": [
    {
     "data": {
      "text/plain": [
       "0.642073602264685"
      ]
     },
     "execution_count": 197,
     "metadata": {},
     "output_type": "execute_result"
    }
   ],
   "source": [
    "y_pred_nb_cv_test = gs_nb_cv.predict(X_test)\n",
    "accuracy_score(y_test, y_pred_nb_cv_test)"
   ]
  },
  {
   "cell_type": "markdown",
   "metadata": {},
   "source": [
    "### MNB Model Evaluation\n",
    "It reaches the best result of 64.2% accuracy with Count Vectorizer. It identifies positive emotions with 75% of accuracy better than negative with 65% and 50% of neutral emotions.  "
   ]
  },
  {
   "cell_type": "markdown",
   "metadata": {},
   "source": [
    "# Logistic Regression"
   ]
  },
  {
   "cell_type": "markdown",
   "metadata": {},
   "source": [
    "Let's run Logistic Regression \n",
    "\n",
    "We will need to convert our text data. Also, will use Count and TF-IDF vectorizers before running the model."
   ]
  },
  {
   "cell_type": "code",
   "execution_count": 235,
   "metadata": {},
   "outputs": [],
   "source": [
    "# Count Vectorizer ngram range is chosen (1,2) based on \n",
    "# Multinomial NB pipeline best parameters and it shows the best results for Logistic Regression as well \n",
    "\n",
    "cv = CountVectorizer(ngram_range = (1,2))\n",
    "X_t_vec = cv.fit_transform(X_t)\n",
    "X_val_vec = cv.transform(X_val)\n",
    "\n",
    "X_train_vec = cv.fit_transform(X_train)\n",
    "X_test_vec = cv.transform(X_test)"
   ]
  },
  {
   "cell_type": "code",
   "execution_count": 229,
   "metadata": {},
   "outputs": [],
   "source": [
    "# Count Vectorizer performs slightly better than TF-IDF, no need to run this cell\n",
    "\n",
    "tfidf = TfidfVectorizer(ngram_range = (1,2))\n",
    "X_t_vec = tfidf.fit_transform(X_t)\n",
    "X_val_vec = tfidf.transform(X_val)"
   ]
  },
  {
   "cell_type": "code",
   "execution_count": 230,
   "metadata": {},
   "outputs": [],
   "source": [
    "#lr = LogisticRegression(penalty='l2', C=0.1, class_weight='balanced', solver ='lbfgs')\n",
    "#lr.fit(X_t_vec, y_t)"
   ]
  },
  {
   "cell_type": "code",
   "execution_count": 236,
   "metadata": {},
   "outputs": [
    {
     "data": {
      "text/plain": [
       "LogisticRegression(max_iter=1000)"
      ]
     },
     "execution_count": 236,
     "metadata": {},
     "output_type": "execute_result"
    }
   ],
   "source": [
    "lr = LogisticRegression(max_iter=1000)\n",
    "lr.fit(X_t_vec, y_t)"
   ]
  },
  {
   "cell_type": "code",
   "execution_count": 237,
   "metadata": {},
   "outputs": [
    {
     "data": {
      "text/plain": [
       "0.6534560037744751"
      ]
     },
     "execution_count": 237,
     "metadata": {},
     "output_type": "execute_result"
    }
   ],
   "source": [
    "y_pred_lg = lr.predict(X_val_vec)\n",
    "accuracy_score(y_val, y_pred_lg)"
   ]
  },
  {
   "cell_type": "code",
   "execution_count": 238,
   "metadata": {},
   "outputs": [
    {
     "data": {
      "text/plain": [
       "{0.0: 1530, 1.0: 1097, 2.0: 1612}"
      ]
     },
     "execution_count": 238,
     "metadata": {},
     "output_type": "execute_result"
    }
   ],
   "source": [
    "unique, counts = np.unique(y_pred_lg, return_counts=True)\n",
    "dict(zip(unique, counts))"
   ]
  },
  {
   "cell_type": "code",
   "execution_count": 239,
   "metadata": {},
   "outputs": [
    {
     "data": {
      "image/png": "[encoded data removed]",
      "text/plain": [
       "<Figure size 432x288 with 2 Axes>"
      ]
     },
     "metadata": {},
     "output_type": "display_data"
    }
   ],
   "source": [
    "plot_confusion_matrix(y_val,y_pred_lg)"
   ]
  },
  {
   "cell_type": "code",
   "execution_count": 240,
   "metadata": {},
   "outputs": [
    {
     "data": {
      "text/plain": [
       "LogisticRegression(max_iter=1000)"
      ]
     },
     "execution_count": 240,
     "metadata": {},
     "output_type": "execute_result"
    }
   ],
   "source": [
    "# Full train data\n",
    "\n",
    "lr.fit(X_train_vec, y_train)"
   ]
  },
  {
   "cell_type": "code",
   "execution_count": 241,
   "metadata": {},
   "outputs": [
    {
     "data": {
      "text/plain": [
       "0.6597664543524416"
      ]
     },
     "execution_count": 241,
     "metadata": {},
     "output_type": "execute_result"
    }
   ],
   "source": [
    "# Test data\n",
    "\n",
    "y_pred_lg = lr.predict(X_test_vec)\n",
    "accuracy_score(y_test, y_pred_lg)"
   ]
  },
  {
   "cell_type": "code",
   "execution_count": 242,
   "metadata": {},
   "outputs": [
    {
     "data": {
      "image/png": "[encoded data removed]",
      "text/plain": [
       "<Figure size 432x288 with 2 Axes>"
      ]
     },
     "metadata": {},
     "output_type": "display_data"
    }
   ],
   "source": [
    "plot_confusion_matrix(y_test,y_pred_lg, save_path='../../reports/figures/logreg_cfm.png')"
   ]
  },
  {
   "cell_type": "code",
   "execution_count": 17,
   "metadata": {},
   "outputs": [],
   "source": [
    "import pickle \n",
    "  \n",
    "# Save the trained model as a pickle string. \n",
    "with open('../../src/final_model.pkl', 'wb') as f:\n",
    "    pickle.dump(lr, f)\n"
   ]
  },
  {
   "cell_type": "code",
   "execution_count": 207,
   "metadata": {},
   "outputs": [
    {
     "name": "stdout",
     "output_type": "stream",
     "text": [
      "['crash' 'fuck' 'phone' 'battery' 'fix' 'suck' 'impressed' 'charger'\n",
      " 'weak' 'brutality']\n",
      "['skit' 'who go' 'joke' 'patent' 'december' 'aapl' 'funny' 'parody'\n",
      " 'hilarious' 'meme']\n",
      "['ridiculous' 'amazing' 'amaze' 'cant wait' 'congrats' 'cheat' 'tired'\n",
      " 'cheatriots' 'cheater' 'sxsw']\n"
     ]
    }
   ],
   "source": [
    "lr_neg_emotion_sorted = lr.coef_[0, :].argsort()\n",
    "lr_no_emotion_sorted = lr.coef_[1, :].argsort()\n",
    "lr_pos_emotion_sorted = lr.coef_[2, :].argsort()\n",
    "\n",
    "print(np.take(cv.get_feature_names(), lr_neg_emotion_sorted[-10:]))\n",
    "print(np.take(cv.get_feature_names(), lr_no_emotion_sorted[-10:]))\n",
    "print(np.take(cv.get_feature_names(), lr_pos_emotion_sorted[-10:]))"
   ]
  },
  {
   "cell_type": "code",
   "execution_count": 208,
   "metadata": {},
   "outputs": [
    {
     "name": "stdout",
     "output_type": "stream",
     "text": [
      "['aa']\n"
     ]
    }
   ],
   "source": [
    "lr_neg_emotion_sorted = lr.coef_[0, 0].argsort()\n",
    "#lr_no_emotion_sorted = lr.coef_[1, :].argsort()\n",
    "#lr_pos_emotion_sorted = lr.coef_[2, :].argsort()\n",
    "\n",
    "print(np.take(cv.get_feature_names(), lr_neg_emotion_sorted[-10:]))\n",
    "#print(np.take(cv.get_feature_names(), lr_no_emotion_sorted[-10:]))\n",
    "#print(np.take(cv.get_feature_names(), lr_pos_emotion_sorted[-10:]))"
   ]
  },
  {
   "cell_type": "markdown",
   "metadata": {},
   "source": [
    "### Logistic Regression Model Evaluation\n",
    "Logistic Regression performs better that Multinomial NB. It reaches a 66% accuracy with over 59% in each category. It identifies positive emotions the best."
   ]
  },
  {
   "cell_type": "markdown",
   "metadata": {},
   "source": [
    "# Random Forest"
   ]
  },
  {
   "cell_type": "markdown",
   "metadata": {},
   "source": [
    "We use the same vectorized data sets as for logisitic regression. "
   ]
  },
  {
   "cell_type": "code",
   "execution_count": 211,
   "metadata": {},
   "outputs": [
    {
     "data": {
      "text/plain": [
       "Pipeline(steps=[('smote', SMOTE()),\n",
       "                ('randomforestclassifier', RandomForestClassifier())])"
      ]
     },
     "execution_count": 211,
     "metadata": {},
     "output_type": "execute_result"
    }
   ],
   "source": [
    "pipeline = make_pipeline(SMOTE(), RandomForestClassifier())\n",
    "pipeline"
   ]
  },
  {
   "cell_type": "code",
   "execution_count": 212,
   "metadata": {},
   "outputs": [],
   "source": [
    "# Parameters of pipelines can be set using ‘__’ separated parameter names:\n",
    "# Define the parameter grid\n",
    "grid = {\n",
    "    'randomforestclassifier__n_estimators': [100, 200],\n",
    "    'randomforestclassifier__max_features': [\"auto\", \"sqrt\", \"log2\"],\n",
    "    'randomforestclassifier__criterion' : [\"gini\", \"entropy\"]\n",
    "    \n",
    "}"
   ]
  },
  {
   "cell_type": "code",
   "execution_count": 213,
   "metadata": {},
   "outputs": [],
   "source": [
    "# Initialize the gridsearch object with three-fold cross-validation\n",
    "gs = GridSearchCV(pipeline, grid, cv=5)"
   ]
  },
  {
   "cell_type": "code",
   "execution_count": 108,
   "metadata": {},
   "outputs": [
    {
     "data": {
      "text/plain": [
       "GridSearchCV(cv=5,\n",
       "             estimator=Pipeline(steps=[('smote', SMOTE()),\n",
       "                                       ('randomforestclassifier',\n",
       "                                        RandomForestClassifier())]),\n",
       "             param_grid={'randomforestclassifier__criterion': ['gini',\n",
       "                                                               'entropy'],\n",
       "                         'randomforestclassifier__max_features': ['auto',\n",
       "                                                                  'sqrt',\n",
       "                                                                  'log2'],\n",
       "                         'randomforestclassifier__n_estimators': [100, 200]})"
      ]
     },
     "execution_count": 108,
     "metadata": {},
     "output_type": "execute_result"
    }
   ],
   "source": [
    "gs.fit(X_t_vec, y_t)"
   ]
  },
  {
   "cell_type": "code",
   "execution_count": 162,
   "metadata": {},
   "outputs": [
    {
     "ename": "NameError",
     "evalue": "name 'gs' is not defined",
     "output_type": "error",
     "traceback": [
      "\u001b[0;31m---------------------------------------------------------------------------\u001b[0m",
      "\u001b[0;31mNameError\u001b[0m                                 Traceback (most recent call last)",
      "\u001b[0;32m<ipython-input-162-ca04a3705865>\u001b[0m in \u001b[0;36m<module>\u001b[0;34m\u001b[0m\n\u001b[0;32m----> 1\u001b[0;31m \u001b[0mgs\u001b[0m\u001b[0;34m.\u001b[0m\u001b[0mfeature_importances_\u001b[0m\u001b[0;34m\u001b[0m\u001b[0;34m\u001b[0m\u001b[0m\n\u001b[0m",
      "\u001b[0;31mNameError\u001b[0m: name 'gs' is not defined"
     ]
    }
   ],
   "source": [
    "gs.feature_importances_"
   ]
  },
  {
   "cell_type": "code",
   "execution_count": 110,
   "metadata": {},
   "outputs": [
    {
     "data": {
      "text/plain": [
       "{'randomforestclassifier__criterion': 'gini',\n",
       " 'randomforestclassifier__max_features': 'log2',\n",
       " 'randomforestclassifier__n_estimators': 100}"
      ]
     },
     "execution_count": 110,
     "metadata": {},
     "output_type": "execute_result"
    }
   ],
   "source": [
    "gs.best_params_"
   ]
  },
  {
   "cell_type": "code",
   "execution_count": 111,
   "metadata": {},
   "outputs": [
    {
     "data": {
      "text/plain": [
       "Pipeline(steps=[('smote', SMOTE()),\n",
       "                ('randomforestclassifier',\n",
       "                 RandomForestClassifier(max_features='log2'))])"
      ]
     },
     "execution_count": 111,
     "metadata": {},
     "output_type": "execute_result"
    }
   ],
   "source": [
    "gs.best_estimator_"
   ]
  },
  {
   "cell_type": "code",
   "execution_count": 113,
   "metadata": {},
   "outputs": [
    {
     "data": {
      "text/plain": [
       "0.6588818117480538"
      ]
     },
     "execution_count": 113,
     "metadata": {},
     "output_type": "execute_result"
    }
   ],
   "source": [
    "y_pred_rf = gs.predict(X_val_vec)\n",
    "accuracy_score(y_val, y_pred_rf)"
   ]
  },
  {
   "cell_type": "code",
   "execution_count": 114,
   "metadata": {},
   "outputs": [
    {
     "data": {
      "text/plain": [
       "0.6478961856075502"
      ]
     },
     "execution_count": 114,
     "metadata": {},
     "output_type": "execute_result"
    }
   ],
   "source": [
    "gs.best_score_"
   ]
  },
  {
   "cell_type": "code",
   "execution_count": 116,
   "metadata": {},
   "outputs": [
    {
     "data": {
      "text/plain": [
       "0.6588818117480538"
      ]
     },
     "execution_count": 116,
     "metadata": {},
     "output_type": "execute_result"
    }
   ],
   "source": [
    "gs.best_estimator_.score(X_val_vec, y_val)"
   ]
  },
  {
   "cell_type": "code",
   "execution_count": 117,
   "metadata": {
    "collapsed": true,
    "jupyter": {
     "outputs_hidden": true
    }
   },
   "outputs": [
    {
     "data": {
      "text/plain": [
       "{'mean_fit_time': array([24.09810796, 46.98651309, 23.82965741, 46.96558852, 30.54141326,\n",
       "        60.18758368, 24.14386764, 47.78008571, 24.12288399, 47.88034105,\n",
       "        30.74561791, 61.54912977]),\n",
       " 'std_fit_time': array([0.46399792, 0.48555014, 0.30545791, 0.67445474, 0.56218861,\n",
       "        0.69504875, 0.19558013, 0.48453492, 0.24535956, 0.48896532,\n",
       "        0.41670831, 0.8124697 ]),\n",
       " 'mean_score_time': array([0.18688397, 0.38112049, 0.18528314, 0.38103275, 0.39523625,\n",
       "        0.8161778 , 0.19364052, 0.35234818, 0.17629061, 0.36424532,\n",
       "        0.39457669, 0.84372158]),\n",
       " 'std_score_time': array([0.01110443, 0.03167556, 0.00818125, 0.02730902, 0.01148001,\n",
       "        0.03217504, 0.02045851, 0.00933749, 0.00407845, 0.02463659,\n",
       "        0.01190103, 0.04368167]),\n",
       " 'param_randomforestclassifier__criterion': masked_array(data=['gini', 'gini', 'gini', 'gini', 'gini', 'gini',\n",
       "                    'entropy', 'entropy', 'entropy', 'entropy', 'entropy',\n",
       "                    'entropy'],\n",
       "              mask=[False, False, False, False, False, False, False, False,\n",
       "                    False, False, False, False],\n",
       "        fill_value='?',\n",
       "             dtype=object),\n",
       " 'param_randomforestclassifier__max_features': masked_array(data=['auto', 'auto', 'sqrt', 'sqrt', 'log2', 'log2', 'auto',\n",
       "                    'auto', 'sqrt', 'sqrt', 'log2', 'log2'],\n",
       "              mask=[False, False, False, False, False, False, False, False,\n",
       "                    False, False, False, False],\n",
       "        fill_value='?',\n",
       "             dtype=object),\n",
       " 'param_randomforestclassifier__n_estimators': masked_array(data=[100, 200, 100, 200, 100, 200, 100, 200, 100, 200, 100,\n",
       "                    200],\n",
       "              mask=[False, False, False, False, False, False, False, False,\n",
       "                    False, False, False, False],\n",
       "        fill_value='?',\n",
       "             dtype=object),\n",
       " 'params': [{'randomforestclassifier__criterion': 'gini',\n",
       "   'randomforestclassifier__max_features': 'auto',\n",
       "   'randomforestclassifier__n_estimators': 100},\n",
       "  {'randomforestclassifier__criterion': 'gini',\n",
       "   'randomforestclassifier__max_features': 'auto',\n",
       "   'randomforestclassifier__n_estimators': 200},\n",
       "  {'randomforestclassifier__criterion': 'gini',\n",
       "   'randomforestclassifier__max_features': 'sqrt',\n",
       "   'randomforestclassifier__n_estimators': 100},\n",
       "  {'randomforestclassifier__criterion': 'gini',\n",
       "   'randomforestclassifier__max_features': 'sqrt',\n",
       "   'randomforestclassifier__n_estimators': 200},\n",
       "  {'randomforestclassifier__criterion': 'gini',\n",
       "   'randomforestclassifier__max_features': 'log2',\n",
       "   'randomforestclassifier__n_estimators': 100},\n",
       "  {'randomforestclassifier__criterion': 'gini',\n",
       "   'randomforestclassifier__max_features': 'log2',\n",
       "   'randomforestclassifier__n_estimators': 200},\n",
       "  {'randomforestclassifier__criterion': 'entropy',\n",
       "   'randomforestclassifier__max_features': 'auto',\n",
       "   'randomforestclassifier__n_estimators': 100},\n",
       "  {'randomforestclassifier__criterion': 'entropy',\n",
       "   'randomforestclassifier__max_features': 'auto',\n",
       "   'randomforestclassifier__n_estimators': 200},\n",
       "  {'randomforestclassifier__criterion': 'entropy',\n",
       "   'randomforestclassifier__max_features': 'sqrt',\n",
       "   'randomforestclassifier__n_estimators': 100},\n",
       "  {'randomforestclassifier__criterion': 'entropy',\n",
       "   'randomforestclassifier__max_features': 'sqrt',\n",
       "   'randomforestclassifier__n_estimators': 200},\n",
       "  {'randomforestclassifier__criterion': 'entropy',\n",
       "   'randomforestclassifier__max_features': 'log2',\n",
       "   'randomforestclassifier__n_estimators': 100},\n",
       "  {'randomforestclassifier__criterion': 'entropy',\n",
       "   'randomforestclassifier__max_features': 'log2',\n",
       "   'randomforestclassifier__n_estimators': 200}],\n",
       " 'split0_test_score': array([0.63546992, 0.63271726, 0.63114432, 0.62367283, 0.63193079,\n",
       "        0.6287849 , 0.63704286, 0.63389697, 0.6331105 , 0.6287849 ,\n",
       "        0.62524577, 0.62917814]),\n",
       " 'split1_test_score': array([0.6590641 , 0.65709792, 0.64687377, 0.65867086, 0.6633897 ,\n",
       "        0.66889501, 0.65591821, 0.65709792, 0.65552497, 0.65631144,\n",
       "        0.6590641 , 0.66574912]),\n",
       " 'split2_test_score': array([0.62799843, 0.63546992, 0.6331105 , 0.63035785, 0.64058199,\n",
       "        0.63546992, 0.62603225, 0.63782934, 0.63429021, 0.62917814,\n",
       "        0.63546992, 0.62642548]),\n",
       " 'split3_test_score': array([0.6460873 , 0.64883995, 0.64923319, 0.64766024, 0.66024381,\n",
       "        0.65591821, 0.64844672, 0.64097523, 0.64805348, 0.64294141,\n",
       "        0.64962643, 0.65198584]),\n",
       " 'split4_test_score': array([0.63704286, 0.63979552, 0.64018875, 0.64136846, 0.64333464,\n",
       "        0.64648053, 0.64018875, 0.6417617 , 0.63900904, 0.63940228,\n",
       "        0.64687377, 0.64058199]),\n",
       " 'mean_test_score': array([0.64113252, 0.64278411, 0.64011011, 0.64034605, 0.64789619,\n",
       "        0.64710971, 0.64152576, 0.64231223, 0.64199764, 0.63932363,\n",
       "        0.643256  , 0.64278411]),\n",
       " 'std_test_score': array([0.01065257, 0.00900365, 0.00718838, 0.01239437, 0.01201425,\n",
       "        0.01430991, 0.01016833, 0.00789456, 0.00856714, 0.01015555,\n",
       "        0.01173506, 0.01462628]),\n",
       " 'rank_test_score': array([ 9,  5, 11, 10,  1,  2,  8,  6,  7, 12,  3,  4], dtype=int32)}"
      ]
     },
     "execution_count": 117,
     "metadata": {},
     "output_type": "execute_result"
    }
   ],
   "source": [
    "plot_confusion_matrix(y_val,y_pred_rf)"
   ]
  },
  {
   "cell_type": "markdown",
   "metadata": {},
   "source": [
    "Model with the best parameters"
   ]
  },
  {
   "cell_type": "code",
   "execution_count": 209,
   "metadata": {},
   "outputs": [
    {
     "data": {
      "text/plain": [
       "RandomForestClassifier(max_features='log2', n_estimators=1000)"
      ]
     },
     "execution_count": 209,
     "metadata": {},
     "output_type": "execute_result"
    }
   ],
   "source": [
    "rf = RandomForestClassifier(n_estimators=1000, max_features='log2')\n",
    "rf.fit(X_t_vec, y_t)"
   ]
  },
  {
   "cell_type": "code",
   "execution_count": 210,
   "metadata": {},
   "outputs": [
    {
     "data": {
      "text/plain": [
       "0.6444916253833451"
      ]
     },
     "execution_count": 210,
     "metadata": {},
     "output_type": "execute_result"
    }
   ],
   "source": [
    "y_hat = rf.predict(X_val_vec)\n",
    "accuracy_score(y_val, y_hat)"
   ]
  },
  {
   "cell_type": "code",
   "execution_count": 243,
   "metadata": {},
   "outputs": [
    {
     "data": {
      "image/png": "[encoded data removed]",
      "text/plain": [
       "<Figure size 432x288 with 2 Axes>"
      ]
     },
     "metadata": {},
     "output_type": "display_data"
    }
   ],
   "source": [
    "plot_confusion_matrix(y_val, y_hat)"
   ]
  },
  {
   "cell_type": "markdown",
   "metadata": {},
   "source": [
    "### Random Forest Model Evaluation\n",
    "Random Forest performs similar to Multinomial NB with it's best parameters, and worse than Logistic Regression. It reaches a 64.4% accuracy with over 52% in each category. Unlike previous models, it predicted negative emotions better than other two. It runs much slower than other two models, a big con for Random Forest.  "
   ]
  },
  {
   "cell_type": "markdown",
   "metadata": {},
   "source": [
    "# Ensemble Learning"
   ]
  },
  {
   "cell_type": "markdown",
   "metadata": {},
   "source": [
    "Let's run an ensemble model with all 3 classifiers together. "
   ]
  },
  {
   "cell_type": "code",
   "execution_count": 72,
   "metadata": {},
   "outputs": [],
   "source": [
    "clf1 = LogisticRegression(max_iter=1000, random_state=42)\n",
    "clf2 = RandomForestClassifier(random_state=42)\n",
    "clf3 = MultinomialNB()\n",
    "eclf = VotingClassifier(\n",
    "     estimators=[('lr', clf1), ('rf', clf2), ('mnb', clf3)],\n",
    "     voting='soft'\n",
    "     )"
   ]
  },
  {
   "cell_type": "code",
   "execution_count": 73,
   "metadata": {},
   "outputs": [],
   "source": [
    "# Parameters\n",
    "\n",
    "params = {'lr__C': [1.0, 100.0], \n",
    "          'rf__n_estimators': [10, 100],\n",
    "          'mnb__alpha': [1, 0.1, 0.01, 0.001] \n",
    "         }"
   ]
  },
  {
   "cell_type": "code",
   "execution_count": 74,
   "metadata": {},
   "outputs": [],
   "source": [
    "grid = GridSearchCV(estimator=eclf, param_grid=params, cv=3)\n",
    "grid = grid.fit(X_t_vec, y_t)"
   ]
  },
  {
   "cell_type": "code",
   "execution_count": 75,
   "metadata": {},
   "outputs": [
    {
     "data": {
      "text/plain": [
       "0.6676102854446804"
      ]
     },
     "execution_count": 75,
     "metadata": {},
     "output_type": "execute_result"
    }
   ],
   "source": [
    "y_pred_ens = grid.predict(X_val_vec)\n",
    "accuracy_score(y_val, y_pred_ens)"
   ]
  },
  {
   "cell_type": "code",
   "execution_count": 77,
   "metadata": {},
   "outputs": [
    {
     "data": {
      "text/plain": [
       "{'lr__C': 1.0, 'mnb__alpha': 1, 'rf__n_estimators': 100}"
      ]
     },
     "execution_count": 77,
     "metadata": {},
     "output_type": "execute_result"
    }
   ],
   "source": [
    "grid.best_params_"
   ]
  },
  {
   "cell_type": "code",
   "execution_count": 78,
   "metadata": {},
   "outputs": [
    {
     "data": {
      "text/plain": [
       "VotingClassifier(estimators=[('lr',\n",
       "                              LogisticRegression(max_iter=1000,\n",
       "                                                 random_state=42)),\n",
       "                             ('rf', RandomForestClassifier(random_state=42)),\n",
       "                             ('mnb', MultinomialNB(alpha=1))],\n",
       "                 voting='soft')"
      ]
     },
     "execution_count": 78,
     "metadata": {},
     "output_type": "execute_result"
    }
   ],
   "source": [
    "grid.best_estimator_"
   ]
  },
  {
   "cell_type": "markdown",
   "metadata": {},
   "source": [
    "## Ensemble Model Evaluation\n",
    "Ensemble model performed closest to logistic regression, but it was much slower with run time 40 minutes comparing to a few seconds. "
   ]
  },
  {
   "cell_type": "markdown",
   "metadata": {},
   "source": [
    "# Summary:\n",
    "The best performed model is logistic regression using default parameters with Count Vectorizer tokenization in range (1,2) which means using unigrams (a single word) or and bigrams (two adjacent words). Also, logistic regression performs much faster than Multinomial NB and Random Forest, a few seconds compare to several minutes upto 40 minutes.  Our final model is predicting the sentiments of a tweet for a given product with the accuracy of 66.0%, and is particularly good at identifying positive tweets with 72% accuracy. People who will use this model can expect 2 of 3 accuracy predictions."
   ]
  },
  {
   "cell_type": "code",
   "execution_count": null,
   "metadata": {},
   "outputs": [],
   "source": []
  }
 ],
 "metadata": {
  "kernelspec": {
   "display_name": "python(illumidesk)",
   "language": "python",
   "name": "2020-10-illumidesk-env"
  },
  "language_info": {
   "codemirror_mode": {
    "name": "ipython",
    "version": 3
   },
   "file_extension": ".py",
   "mimetype": "text/x-python",
   "name": "python",
   "nbconvert_exporter": "python",
   "pygments_lexer": "ipython3",
   "version": "3.8.5"
  }
 },
 "nbformat": 4,
 "nbformat_minor": 4
}
