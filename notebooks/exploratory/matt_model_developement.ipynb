{
 "cells": [
  {
   "cell_type": "code",
   "execution_count": 1,
   "metadata": {},
   "outputs": [],
   "source": [
    "import sys\n",
    "import pathlib\n",
    "src_path = pathlib.Path().absolute().parent.parent / \"src\"\n",
    "data_path = pathlib.Path().absolute().parent.parent / \"data\"\n",
    "sys.path.append(str(src_path))\n",
    "\n",
    "import data_preprocessing as dp\n",
    "import model_evaluation as me"
   ]
  },
  {
   "cell_type": "code",
   "execution_count": 24,
   "metadata": {},
   "outputs": [],
   "source": [
    "import pandas as pd\n",
    "import numpy as np\n",
    "import random\n",
    "\n",
    "from sklearn.compose import ColumnTransformer\n",
    "from sklearn.feature_extraction.text import CountVectorizer, TfidfVectorizer, TfidfTransformer\n",
    "from sklearn.metrics import accuracy_score, precision_score, confusion_matrix, plot_confusion_matrix\n",
    "from sklearn.model_selection import train_test_split\n",
    "from sklearn.naive_bayes import MultinomialNB\n",
    "from sklearn.pipeline import Pipeline\n",
    "from sklearn.preprocessing import LabelBinarizer, LabelEncoder\n",
    "\n",
    "import re\n",
    "from nltk import pos_tag\n",
    "from nltk.tokenize import regexp_tokenize, word_tokenize, RegexpTokenizer\n",
    "from nltk.corpus import stopwords, wordnet\n",
    "from nltk.stem import WordNetLemmatizer \n",
    "\n",
    "import seaborn as sns\n",
    "import matplotlib.pyplot as plt\n"
   ]
  },
  {
   "cell_type": "code",
   "execution_count": 25,
   "metadata": {},
   "outputs": [],
   "source": [
    "from keras.preprocessing.sequence import pad_sequences\n",
    "from keras.layers import Input, Dense, LSTM, Embedding, Flatten\n",
    "from keras.layers.convolutional import Conv1D, MaxPooling1D\n",
    "from keras.layers import Dropout, Activation, Bidirectional\n",
    "from keras.models import Sequential\n",
    "from keras import initializers, regularizers, constraints, optimizers, layers\n",
    "from keras.preprocessing import text, sequence\n",
    "from keras.wrappers.scikit_learn import KerasClassifier"
   ]
  },
  {
   "cell_type": "code",
   "execution_count": 4,
   "metadata": {},
   "outputs": [],
   "source": [
    "sns.set(context = 'notebook', style = 'whitegrid')"
   ]
  },
  {
   "cell_type": "markdown",
   "metadata": {},
   "source": [
    "# get data using andrew's clean data functions"
   ]
  },
  {
   "cell_type": "code",
   "execution_count": 5,
   "metadata": {},
   "outputs": [],
   "source": [
    "csv_path = data_path / 'combined_no_lem.csv'\n",
    "cleaned_df = pd.read_csv(csv_path)"
   ]
  },
  {
   "cell_type": "code",
   "execution_count": 6,
   "metadata": {},
   "outputs": [],
   "source": [
    "cleaned_df.dropna(inplace=True)"
   ]
  },
  {
   "cell_type": "code",
   "execution_count": 7,
   "metadata": {
    "scrolled": true
   },
   "outputs": [
    {
     "data": {
      "text/html": [
       "<div>\n",
       "<style scoped>\n",
       "    .dataframe tbody tr th:only-of-type {\n",
       "        vertical-align: middle;\n",
       "    }\n",
       "\n",
       "    .dataframe tbody tr th {\n",
       "        vertical-align: top;\n",
       "    }\n",
       "\n",
       "    .dataframe thead th {\n",
       "        text-align: right;\n",
       "    }\n",
       "</style>\n",
       "<table border=\"1\" class=\"dataframe\">\n",
       "  <thead>\n",
       "    <tr style=\"text-align: right;\">\n",
       "      <th></th>\n",
       "      <th>emotion</th>\n",
       "      <th>txt_cleaned</th>\n",
       "    </tr>\n",
       "  </thead>\n",
       "  <tbody>\n",
       "    <tr>\n",
       "      <th>0</th>\n",
       "      <td>0</td>\n",
       "      <td>product_target hrs tweeting riseaustin dead ne...</td>\n",
       "    </tr>\n",
       "    <tr>\n",
       "      <th>1</th>\n",
       "      <td>2</td>\n",
       "      <td>know awesome ipadiphone product_target youll l...</td>\n",
       "    </tr>\n",
       "    <tr>\n",
       "      <th>2</th>\n",
       "      <td>2</td>\n",
       "      <td>wait product_target also sale sxsw</td>\n",
       "    </tr>\n",
       "    <tr>\n",
       "      <th>3</th>\n",
       "      <td>0</td>\n",
       "      <td>hope years festival isnt crashy years iphone p...</td>\n",
       "    </tr>\n",
       "    <tr>\n",
       "      <th>4</th>\n",
       "      <td>2</td>\n",
       "      <td>great stuff fri sxsw marissa mayer product_tar...</td>\n",
       "    </tr>\n",
       "  </tbody>\n",
       "</table>\n",
       "</div>"
      ],
      "text/plain": [
       "   emotion                                        txt_cleaned\n",
       "0        0  product_target hrs tweeting riseaustin dead ne...\n",
       "1        2  know awesome ipadiphone product_target youll l...\n",
       "2        2                 wait product_target also sale sxsw\n",
       "3        0  hope years festival isnt crashy years iphone p...\n",
       "4        2  great stuff fri sxsw marissa mayer product_tar..."
      ]
     },
     "execution_count": 7,
     "metadata": {},
     "output_type": "execute_result"
    }
   ],
   "source": [
    "cleaned_df.head(5)"
   ]
  },
  {
   "cell_type": "code",
   "execution_count": 8,
   "metadata": {
    "scrolled": true
   },
   "outputs": [
    {
     "data": {
      "text/plain": [
       "0        0\n",
       "1        2\n",
       "2        2\n",
       "3        0\n",
       "4        2\n",
       "        ..\n",
       "22631    0\n",
       "22632    0\n",
       "22633    0\n",
       "22634    0\n",
       "22635    0\n",
       "Name: emotion, Length: 22606, dtype: int64"
      ]
     },
     "execution_count": 8,
     "metadata": {},
     "output_type": "execute_result"
    }
   ],
   "source": [
    "y = cleaned_df['emotion']\n",
    "y"
   ]
  },
  {
   "cell_type": "code",
   "execution_count": 9,
   "metadata": {
    "scrolled": true
   },
   "outputs": [
    {
     "data": {
      "text/plain": [
       "0        product_target hrs tweeting riseaustin dead ne...\n",
       "1        know awesome ipadiphone product_target youll l...\n",
       "2                       wait product_target also sale sxsw\n",
       "3        hope years festival isnt crashy years iphone p...\n",
       "4        great stuff fri sxsw marissa mayer product_tar...\n",
       "                               ...                        \n",
       "22631    literally reason want go rest line kind snooze...\n",
       "22632                          anyone else completely sold\n",
       "22633                              recycled fuck coachella\n",
       "22634                    line already fake like every year\n",
       "22635                                        fersure thing\n",
       "Name: txt_cleaned, Length: 22606, dtype: object"
      ]
     },
     "execution_count": 9,
     "metadata": {},
     "output_type": "execute_result"
    }
   ],
   "source": [
    "X = cleaned_df['txt_cleaned']\n",
    "X"
   ]
  },
  {
   "cell_type": "code",
   "execution_count": 10,
   "metadata": {},
   "outputs": [
    {
     "data": {
      "text/plain": [
       "2    8213\n",
       "0    8062\n",
       "1    6331\n",
       "Name: emotion, dtype: int64"
      ]
     },
     "execution_count": 10,
     "metadata": {},
     "output_type": "execute_result"
    }
   ],
   "source": [
    "y.value_counts()"
   ]
  },
  {
   "cell_type": "code",
   "execution_count": 11,
   "metadata": {},
   "outputs": [
    {
     "data": {
      "text/plain": [
       "False    22606\n",
       "Name: txt_cleaned, dtype: int64"
      ]
     },
     "execution_count": 11,
     "metadata": {},
     "output_type": "execute_result"
    }
   ],
   "source": [
    "X.isna().value_counts()"
   ]
  },
  {
   "cell_type": "code",
   "execution_count": 12,
   "metadata": {},
   "outputs": [],
   "source": [
    "X_train, X_test, y_train, y_test = train_test_split(X, y, test_size=.2)\n",
    "X_tr, X_v, y_tr, y_v = train_test_split(X_train, y_train, test_size=.1)"
   ]
  },
  {
   "cell_type": "markdown",
   "metadata": {},
   "source": [
    "# tokenize tweets"
   ]
  },
  {
   "cell_type": "code",
   "execution_count": 13,
   "metadata": {},
   "outputs": [],
   "source": [
    "X_train_list = list(X_train)\n",
    "X_test_list = list(X_test)\n",
    "X_tr_list = list(X_tr)\n",
    "X_v_list = list(X_v)\n",
    "\n",
    "X_train_corpus = []\n",
    "X_tr_corpus = []\n",
    "for tweet in X_train_list:\n",
    "    X_train_corpus.extend(tweet.split(' '))\n",
    "for tweet in X_tr_list:\n",
    "    X_tr_corpus.extend(tweet.split(' '))\n",
    "    \n",
    "X_train_unique = len(set(X_train_corpus))\n",
    "X_tr_unique = len(set(X_tr_corpus))"
   ]
  },
  {
   "cell_type": "code",
   "execution_count": 14,
   "metadata": {
    "scrolled": true
   },
   "outputs": [],
   "source": [
    "sequence_length = 100\n",
    "\n",
    "partial_tokenizer = text.Tokenizer(num_words=X_tr_unique)\n",
    "full_tokenizer = text.Tokenizer(num_words=X_train_unique)\n",
    "\n",
    "partial_tokenizer.fit_on_texts(X_tr_list)\n",
    "full_tokenizer.fit_on_texts(X_train_list)\n",
    "\n",
    "X_tr_tokenized = partial_tokenizer.texts_to_sequences(X_tr_list)\n",
    "X_v_tokenized = partial_tokenizer.texts_to_sequences(X_v_list)\n",
    "X_train_tokenized= full_tokenizer.texts_to_sequences(X_train_list)\n",
    "X_test_tokenized= full_tokenizer.texts_to_sequences(X_test_list)\n",
    "\n",
    "X_tr_tokens = sequence.pad_sequences(X_tr_tokenized, maxlen=sequence_length)\n",
    "X_v_tokens = sequence.pad_sequences(X_v_tokenized, maxlen=sequence_length)\n",
    "X_train_tokens = sequence.pad_sequences(X_train_tokenized, maxlen=sequence_length)\n",
    "X_test_tokens = sequence.pad_sequences(X_test_tokenized, maxlen=sequence_length)"
   ]
  },
  {
   "cell_type": "markdown",
   "metadata": {},
   "source": [
    "#### ^^^ modified for train_test_split variables up to here"
   ]
  },
  {
   "cell_type": "markdown",
   "metadata": {},
   "source": [
    "# construct CNN with embedding layer"
   ]
  },
  {
   "cell_type": "code",
   "execution_count": 15,
   "metadata": {
    "scrolled": true
   },
   "outputs": [],
   "source": [
    "partial_model = Sequential()\n",
    "\n",
    "embedding_size = 64\n",
    "partial_model.add(Embedding(input_dim=len(set(X_tr_corpus)), output_dim=embedding_size, input_length=sequence_length))\n",
    "partial_model.add(Conv1D(filters=64, kernel_size=5, activation='tanh'))\n",
    "partial_model.add(Dropout(0.7))\n",
    "partial_model.add(MaxPooling1D(pool_size=3))\n",
    "partial_model.add(Flatten())\n",
    "partial_model.add(Dense(units=30, activation='tanh'))\n",
    "partial_model.add(Dropout(.5))\n",
    "partial_model.add(Dense(units=10, activation='tanh'))\n",
    "partial_model.add(Dropout(.5))\n",
    "partial_model.add(Dense(units=3, activation='softmax'))\n",
    "partial_model.compile(loss='categorical_crossentropy', optimizer='adam', metrics=['accuracy'])"
   ]
  },
  {
   "cell_type": "markdown",
   "metadata": {},
   "source": [
    "# fit model on tokenized data"
   ]
  },
  {
   "cell_type": "code",
   "execution_count": 16,
   "metadata": {
    "scrolled": false
   },
   "outputs": [
    {
     "name": "stdout",
     "output_type": "stream",
     "text": [
      "Epoch 1/10\n",
      "32/32 [==============================] - 4s 123ms/step - loss: 1.0866 - accuracy: 0.3816 - val_loss: 1.0590 - val_accuracy: 0.4256\n",
      "Epoch 2/10\n",
      "32/32 [==============================] - 4s 132ms/step - loss: 1.0019 - accuracy: 0.4887 - val_loss: 0.9386 - val_accuracy: 0.5688\n",
      "Epoch 3/10\n",
      "32/32 [==============================] - 4s 116ms/step - loss: 0.8869 - accuracy: 0.5975 - val_loss: 0.8763 - val_accuracy: 0.6053\n",
      "Epoch 4/10\n",
      "32/32 [==============================] - 3s 99ms/step - loss: 0.7560 - accuracy: 0.6842 - val_loss: 0.8304 - val_accuracy: 0.6412\n",
      "Epoch 5/10\n",
      "32/32 [==============================] - 3s 98ms/step - loss: 0.6345 - accuracy: 0.7494 - val_loss: 0.8256 - val_accuracy: 0.6457\n",
      "Epoch 6/10\n",
      "32/32 [==============================] - 3s 93ms/step - loss: 0.5270 - accuracy: 0.8038 - val_loss: 0.8620 - val_accuracy: 0.6258\n",
      "Epoch 7/10\n",
      "32/32 [==============================] - 3s 93ms/step - loss: 0.4389 - accuracy: 0.8454 - val_loss: 0.9143 - val_accuracy: 0.6202\n",
      "Epoch 8/10\n",
      "32/32 [==============================] - 4s 125ms/step - loss: 0.3890 - accuracy: 0.8654 - val_loss: 0.9585 - val_accuracy: 0.6346\n",
      "Epoch 9/10\n",
      "32/32 [==============================] - 4s 117ms/step - loss: 0.3424 - accuracy: 0.8833 - val_loss: 1.0184 - val_accuracy: 0.6269\n",
      "Epoch 10/10\n",
      "32/32 [==============================] - 3s 99ms/step - loss: 0.3135 - accuracy: 0.8935 - val_loss: 1.0947 - val_accuracy: 0.6213\n"
     ]
    },
    {
     "data": {
      "text/plain": [
       "<tensorflow.python.keras.callbacks.History at 0x7ff7e8e22d68>"
      ]
     },
     "execution_count": 16,
     "metadata": {},
     "output_type": "execute_result"
    }
   ],
   "source": [
    "partial_model.fit(X_tr_tokens, pd.get_dummies(y_tr), validation_data=(X_v_tokens, pd.get_dummies(y_v)), epochs=10, batch_size=512)"
   ]
  },
  {
   "cell_type": "code",
   "execution_count": 17,
   "metadata": {
    "scrolled": true
   },
   "outputs": [
    {
     "data": {
      "image/png": "[encoded data removed]",
      "text/plain": [
       "<Figure size 432x288 with 2 Axes>"
      ]
     },
     "metadata": {},
     "output_type": "display_data"
    }
   ],
   "source": [
    "me.plot_confusion_matrix(y_v, np.argmax(partial_model.predict(X_v_tokens), axis=1))"
   ]
  },
  {
   "cell_type": "code",
   "execution_count": 18,
   "metadata": {},
   "outputs": [
    {
     "data": {
      "text/plain": [
       "array([[369, 117, 153],\n",
       "       [122, 314, 112],\n",
       "       [104,  77, 441]])"
      ]
     },
     "execution_count": 18,
     "metadata": {},
     "output_type": "execute_result"
    }
   ],
   "source": [
    "confusion_matrix(y_v, np.argmax(partial_model.predict(X_v_tokens), axis=1))"
   ]
  },
  {
   "cell_type": "markdown",
   "metadata": {},
   "source": [
    "# train model on full train split for validation on 'test'"
   ]
  },
  {
   "cell_type": "code",
   "execution_count": 19,
   "metadata": {},
   "outputs": [],
   "source": [
    "def make_CNN():\n",
    "    model = Sequential()\n",
    "\n",
    "    embedding_size = 64\n",
    "    model.add(Embedding(input_dim=len(set(X_train_corpus)), output_dim=embedding_size, input_length=sequence_length))\n",
    "    model.add(Conv1D(filters=64, kernel_size=5, activation='tanh'))\n",
    "    model.add(Dropout(0.7))\n",
    "    model.add(MaxPooling1D(pool_size=3))\n",
    "    model.add(Flatten())\n",
    "    model.add(Dense(units=30, activation='tanh'))\n",
    "    model.add(Dropout(.5))\n",
    "    model.add(Dense(units=10, activation='tanh'))\n",
    "    model.add(Dropout(.5))\n",
    "    model.add(Dense(units=3, activation='softmax'))\n",
    "    model.compile(loss='categorical_crossentropy', optimizer='adam', metrics=['accuracy'])\n",
    "    return model\n",
    "\n",
    "final_model = KerasClassifier(twoLayerFeedForward, epochs=100, batch_size=500, verbose=0)"
   ]
  },
  {
   "cell_type": "code",
   "execution_count": 20,
   "metadata": {},
   "outputs": [
    {
     "name": "stdout",
     "output_type": "stream",
     "text": [
      "Epoch 1/5\n",
      "36/36 [==============================] - 5s 129ms/step - loss: 1.0835 - accuracy: 0.3934 - val_loss: 1.0514 - val_accuracy: 0.4513\n",
      "Epoch 2/5\n",
      "36/36 [==============================] - 4s 101ms/step - loss: 0.9881 - accuracy: 0.5076 - val_loss: 0.9546 - val_accuracy: 0.5436\n",
      "Epoch 3/5\n",
      "36/36 [==============================] - 4s 112ms/step - loss: 0.8697 - accuracy: 0.5985 - val_loss: 0.8808 - val_accuracy: 0.6212\n",
      "Epoch 4/5\n",
      "36/36 [==============================] - 4s 113ms/step - loss: 0.7317 - accuracy: 0.6884 - val_loss: 0.8383 - val_accuracy: 0.6413\n",
      "Epoch 5/5\n",
      "36/36 [==============================] - 4s 102ms/step - loss: 0.6114 - accuracy: 0.7603 - val_loss: 0.8454 - val_accuracy: 0.6402\n"
     ]
    },
    {
     "data": {
      "text/plain": [
       "<tensorflow.python.keras.callbacks.History at 0x7ff7d4be6ac8>"
      ]
     },
     "execution_count": 20,
     "metadata": {},
     "output_type": "execute_result"
    }
   ],
   "source": [
    "final_model.fit(X_train_tokens, pd.get_dummies(y_train), validation_data=(X_test_tokens, pd.get_dummies(y_test)), epochs=5, batch_size=512)"
   ]
  },
  {
   "cell_type": "code",
   "execution_count": null,
   "metadata": {},
   "outputs": [],
   "source": [
    "me.plot_confusion_matrix(y_test, np.argmax(partial_model.predict(X_test_tokens), axis=1))"
   ]
  },
  {
   "cell_type": "code",
   "execution_count": 21,
   "metadata": {},
   "outputs": [
    {
     "data": {
      "image/png": "[encoded data removed]",
      "text/plain": [
       "<Figure size 432x288 with 2 Axes>"
      ]
     },
     "metadata": {},
     "output_type": "display_data"
    }
   ],
   "source": [
    "plot_confusion_matrix(full_model, X_test_tokens, y_test)"
   ]
  },
  {
   "cell_type": "code",
   "execution_count": 22,
   "metadata": {},
   "outputs": [
    {
     "data": {
      "text/plain": [
       "array([[1048,  243,  342],\n",
       "       [ 321,  747,  222],\n",
       "       [ 326,  173, 1100]])"
      ]
     },
     "execution_count": 22,
     "metadata": {},
     "output_type": "execute_result"
    }
   ],
   "source": [
    "confusion_matrix(y_test, np.argmax(full_model.predict(X_test_tokens), axis=1))"
   ]
  },
  {
   "cell_type": "code",
   "execution_count": null,
   "metadata": {},
   "outputs": [],
   "source": [
    "def get_gradient():\n",
    "    '''\n",
    "    given a start and end color, returns a list of color values in a gradient\n",
    "    \n",
    "    Parameter:\n",
    "    --start: a hexidecimal value for the first color\n",
    "    --end: a hexidecimal value for the last color\n",
    "    --resolution: the number of gradient values to return\n",
    "    \n",
    "    Return:\n",
    "    --gradient: a list of strings representing the hexidecimal values of the gradient colors\n",
    "    \n",
    "    '''"
   ]
  },
  {
   "cell_type": "code",
   "execution_count": 26,
   "metadata": {},
   "outputs": [
    {
     "ename": "ModuleNotFoundError",
     "evalue": "No module named 'colour'",
     "output_type": "error",
     "traceback": [
      "\u001b[0;31m---------------------------------------------------------------------------\u001b[0m",
      "\u001b[0;31mModuleNotFoundError\u001b[0m                       Traceback (most recent call last)",
      "\u001b[0;32m<ipython-input-26-5cac5af1f4c0>\u001b[0m in \u001b[0;36m<module>\u001b[0;34m()\u001b[0m\n\u001b[0;32m----> 1\u001b[0;31m \u001b[0;32mfrom\u001b[0m \u001b[0mcolour\u001b[0m \u001b[0;32mimport\u001b[0m \u001b[0mColor\u001b[0m\u001b[0;34m\u001b[0m\u001b[0;34m\u001b[0m\u001b[0m\n\u001b[0m\u001b[1;32m      2\u001b[0m \u001b[0mred\u001b[0m \u001b[0;34m=\u001b[0m \u001b[0mColor\u001b[0m\u001b[0;34m(\u001b[0m\u001b[0;34m\"#212D74\"\u001b[0m\u001b[0;34m)\u001b[0m\u001b[0;34m\u001b[0m\u001b[0;34m\u001b[0m\u001b[0m\n\u001b[1;32m      3\u001b[0m \u001b[0mcolors\u001b[0m \u001b[0;34m=\u001b[0m \u001b[0mlist\u001b[0m\u001b[0;34m(\u001b[0m\u001b[0mred\u001b[0m\u001b[0;34m.\u001b[0m\u001b[0mrange_to\u001b[0m\u001b[0;34m(\u001b[0m\u001b[0mColor\u001b[0m\u001b[0;34m(\u001b[0m\u001b[0;34m\"#7890CD\"\u001b[0m\u001b[0;34m)\u001b[0m\u001b[0;34m,\u001b[0m\u001b[0;36m10\u001b[0m\u001b[0;34m)\u001b[0m\u001b[0;34m)\u001b[0m\u001b[0;34m\u001b[0m\u001b[0;34m\u001b[0m\u001b[0m\n",
      "\u001b[0;31mModuleNotFoundError\u001b[0m: No module named 'colour'"
     ]
    }
   ],
   "source": [
    "from colour import Color\n",
    "red = Color(\"#212D74\")\n",
    "colors = list(red.range_to(Color(\"#7890CD\"),10))"
   ]
  },
  {
   "cell_type": "code",
   "execution_count": null,
   "metadata": {},
   "outputs": [],
   "source": []
  }
 ],
 "metadata": {
  "kernelspec": {
   "display_name": "learn-env",
   "language": "python",
   "name": "learn-env"
  },
  "language_info": {
   "codemirror_mode": {
    "name": "ipython",
    "version": 3
   },
   "file_extension": ".py",
   "mimetype": "text/x-python",
   "name": "python",
   "nbconvert_exporter": "python",
   "pygments_lexer": "ipython3",
   "version": "3.6.9"
  }
 },
 "nbformat": 4,
 "nbformat_minor": 4
}
