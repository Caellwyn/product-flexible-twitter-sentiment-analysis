{
 "cells": [
  {
   "cell_type": "code",
   "execution_count": 1,
   "metadata": {},
   "outputs": [],
   "source": [
    "import sys\n",
    "import pathlib\n",
    "src_path = pathlib.Path().absolute().parent.parent / \"src\"\n",
    "sys.path.append(str(src_path))\n",
    "\n",
    "import data_preprocessing as dp\n",
    "import model_evaluation as me"
   ]
  },
  {
   "cell_type": "code",
   "execution_count": 2,
   "metadata": {},
   "outputs": [],
   "source": [
    "import pandas as pd\n",
    "import numpy as np\n",
    "import random\n",
    "\n",
    "from sklearn.compose import ColumnTransformer\n",
    "from sklearn.feature_extraction.text import CountVectorizer, TfidfVectorizer, TfidfTransformer\n",
    "from sklearn.metrics import accuracy_score, precision_score, confusion_matrix\n",
    "from sklearn.model_selection import train_test_split\n",
    "from sklearn.naive_bayes import MultinomialNB\n",
    "from sklearn.pipeline import Pipeline\n",
    "from sklearn.preprocessing import LabelBinarizer, LabelEncoder\n",
    "\n",
    "import re\n",
    "from nltk import pos_tag\n",
    "from nltk.tokenize import regexp_tokenize, word_tokenize, RegexpTokenizer\n",
    "from nltk.corpus import stopwords, wordnet\n",
    "from nltk.stem import WordNetLemmatizer \n",
    "\n",
    "import seaborn as sns\n",
    "import matplotlib.pyplot as plt\n"
   ]
  },
  {
   "cell_type": "code",
   "execution_count": 3,
   "metadata": {},
   "outputs": [],
   "source": [
    "from keras.preprocessing.sequence import pad_sequences\n",
    "from keras.layers import Input, Dense, LSTM, Embedding, Flatten\n",
    "from keras.layers.convolutional import Conv1D, MaxPooling1D\n",
    "from keras.layers import Dropout, Activation, Bidirectional\n",
    "from keras.models import Sequential\n",
    "from keras import initializers, regularizers, constraints, optimizers, layers\n",
    "from keras.preprocessing import text, sequence"
   ]
  },
  {
   "cell_type": "code",
   "execution_count": 42,
   "metadata": {},
   "outputs": [],
   "source": [
    "# df = pd.read_csv('../../data/judge-1377884607_tweet_product_company.csv', encoding = 'latin1')\n",
    "# df.columns = ['text', 'product', 'emotion']\n",
    "# df = df[df['emotion'] != 'I can\\'t tell']\n",
    "# df['product'].fillna('No Product', inplace = True)\n",
    "# df.dropna(inplace = True)"
   ]
  },
  {
   "cell_type": "markdown",
   "metadata": {},
   "source": [
    "# get data using andrew's clean data functions"
   ]
  },
  {
   "cell_type": "code",
   "execution_count": 6,
   "metadata": {},
   "outputs": [],
   "source": [
    "cleaned_df = dp.df_clean(lem=False)"
   ]
  },
  {
   "cell_type": "code",
   "execution_count": 7,
   "metadata": {},
   "outputs": [
    {
     "data": {
      "text/html": [
       "<div>\n",
       "<style scoped>\n",
       "    .dataframe tbody tr th:only-of-type {\n",
       "        vertical-align: middle;\n",
       "    }\n",
       "\n",
       "    .dataframe tbody tr th {\n",
       "        vertical-align: top;\n",
       "    }\n",
       "\n",
       "    .dataframe thead th {\n",
       "        text-align: right;\n",
       "    }\n",
       "</style>\n",
       "<table border=\"1\" class=\"dataframe\">\n",
       "  <thead>\n",
       "    <tr style=\"text-align: right;\">\n",
       "      <th></th>\n",
       "      <th>emotion</th>\n",
       "      <th>txt_cleaned</th>\n",
       "    </tr>\n",
       "  </thead>\n",
       "  <tbody>\n",
       "    <tr>\n",
       "      <th>0</th>\n",
       "      <td>0</td>\n",
       "      <td>product_target hrs tweeting riseaustin dead ne...</td>\n",
       "    </tr>\n",
       "    <tr>\n",
       "      <th>1</th>\n",
       "      <td>2</td>\n",
       "      <td>know awesome ipadiphone product_target youll l...</td>\n",
       "    </tr>\n",
       "    <tr>\n",
       "      <th>2</th>\n",
       "      <td>2</td>\n",
       "      <td>wait product_target also sale sxsw</td>\n",
       "    </tr>\n",
       "    <tr>\n",
       "      <th>3</th>\n",
       "      <td>0</td>\n",
       "      <td>hope years festival isnt crashy years iphone p...</td>\n",
       "    </tr>\n",
       "    <tr>\n",
       "      <th>4</th>\n",
       "      <td>2</td>\n",
       "      <td>great stuff fri sxsw marissa mayer product_tar...</td>\n",
       "    </tr>\n",
       "  </tbody>\n",
       "</table>\n",
       "</div>"
      ],
      "text/plain": [
       "   emotion                                        txt_cleaned\n",
       "0        0  product_target hrs tweeting riseaustin dead ne...\n",
       "1        2  know awesome ipadiphone product_target youll l...\n",
       "2        2                 wait product_target also sale sxsw\n",
       "3        0  hope years festival isnt crashy years iphone p...\n",
       "4        2  great stuff fri sxsw marissa mayer product_tar..."
      ]
     },
     "execution_count": 7,
     "metadata": {},
     "output_type": "execute_result"
    }
   ],
   "source": [
    "cleaned_df.head(5)"
   ]
  },
  {
   "cell_type": "code",
   "execution_count": 8,
   "metadata": {},
   "outputs": [
    {
     "data": {
      "text/html": [
       "<div>\n",
       "<style scoped>\n",
       "    .dataframe tbody tr th:only-of-type {\n",
       "        vertical-align: middle;\n",
       "    }\n",
       "\n",
       "    .dataframe tbody tr th {\n",
       "        vertical-align: top;\n",
       "    }\n",
       "\n",
       "    .dataframe thead th {\n",
       "        text-align: right;\n",
       "    }\n",
       "</style>\n",
       "<table border=\"1\" class=\"dataframe\">\n",
       "  <thead>\n",
       "    <tr style=\"text-align: right;\">\n",
       "      <th></th>\n",
       "      <th>0</th>\n",
       "      <th>1</th>\n",
       "      <th>2</th>\n",
       "    </tr>\n",
       "  </thead>\n",
       "  <tbody>\n",
       "    <tr>\n",
       "      <th>0</th>\n",
       "      <td>1</td>\n",
       "      <td>0</td>\n",
       "      <td>0</td>\n",
       "    </tr>\n",
       "    <tr>\n",
       "      <th>1</th>\n",
       "      <td>0</td>\n",
       "      <td>0</td>\n",
       "      <td>1</td>\n",
       "    </tr>\n",
       "    <tr>\n",
       "      <th>2</th>\n",
       "      <td>0</td>\n",
       "      <td>0</td>\n",
       "      <td>1</td>\n",
       "    </tr>\n",
       "    <tr>\n",
       "      <th>3</th>\n",
       "      <td>1</td>\n",
       "      <td>0</td>\n",
       "      <td>0</td>\n",
       "    </tr>\n",
       "    <tr>\n",
       "      <th>4</th>\n",
       "      <td>0</td>\n",
       "      <td>0</td>\n",
       "      <td>1</td>\n",
       "    </tr>\n",
       "    <tr>\n",
       "      <th>...</th>\n",
       "      <td>...</td>\n",
       "      <td>...</td>\n",
       "      <td>...</td>\n",
       "    </tr>\n",
       "    <tr>\n",
       "      <th>9077</th>\n",
       "      <td>0</td>\n",
       "      <td>0</td>\n",
       "      <td>1</td>\n",
       "    </tr>\n",
       "    <tr>\n",
       "      <th>9079</th>\n",
       "      <td>0</td>\n",
       "      <td>0</td>\n",
       "      <td>1</td>\n",
       "    </tr>\n",
       "    <tr>\n",
       "      <th>9080</th>\n",
       "      <td>1</td>\n",
       "      <td>0</td>\n",
       "      <td>0</td>\n",
       "    </tr>\n",
       "    <tr>\n",
       "      <th>9085</th>\n",
       "      <td>0</td>\n",
       "      <td>0</td>\n",
       "      <td>1</td>\n",
       "    </tr>\n",
       "    <tr>\n",
       "      <th>9088</th>\n",
       "      <td>0</td>\n",
       "      <td>0</td>\n",
       "      <td>1</td>\n",
       "    </tr>\n",
       "  </tbody>\n",
       "</table>\n",
       "<p>3282 rows × 3 columns</p>\n",
       "</div>"
      ],
      "text/plain": [
       "      0  1  2\n",
       "0     1  0  0\n",
       "1     0  0  1\n",
       "2     0  0  1\n",
       "3     1  0  0\n",
       "4     0  0  1\n",
       "...  .. .. ..\n",
       "9077  0  0  1\n",
       "9079  0  0  1\n",
       "9080  1  0  0\n",
       "9085  0  0  1\n",
       "9088  0  0  1\n",
       "\n",
       "[3282 rows x 3 columns]"
      ]
     },
     "execution_count": 8,
     "metadata": {},
     "output_type": "execute_result"
    }
   ],
   "source": [
    "y = pd.get_dummies(cleaned_df['emotion'])\n",
    "y"
   ]
  },
  {
   "cell_type": "code",
   "execution_count": 10,
   "metadata": {
    "scrolled": true
   },
   "outputs": [
    {
     "data": {
      "text/plain": [
       "0       product_target hrs tweeting riseaustin dead ne...\n",
       "1       know awesome ipadiphone product_target youll l...\n",
       "2                      wait product_target also sale sxsw\n",
       "3       hope years festival isnt crashy years iphone p...\n",
       "4       great stuff fri sxsw marissa mayer product_tar...\n",
       "                              ...                        \n",
       "9077    pr guy convinced switch back product_target gr...\n",
       "9079    quotpapyrussort like ipadquot nice lol sxsw la...\n",
       "9080    diller says google tv quotmight run playstatio...\n",
       "9085    ive always used camera iphone bc image stabili...\n",
       "9088                       product_target everywhere sxsw\n",
       "Name: txt_cleaned, Length: 3282, dtype: object"
      ]
     },
     "execution_count": 10,
     "metadata": {},
     "output_type": "execute_result"
    }
   ],
   "source": [
    "X = cleaned_df['txt_cleaned']\n",
    "X"
   ]
  },
  {
   "cell_type": "code",
   "execution_count": 21,
   "metadata": {},
   "outputs": [],
   "source": [
    "X_train, X_test, y_train, y_test = train_test_split(X, y, test_size=.2)\n",
    "X_tr, X_v, y_tr, y_v = train_test_split(X_train, y_train, test_size=.1)"
   ]
  },
  {
   "cell_type": "markdown",
   "metadata": {},
   "source": [
    "# tokenize tweets"
   ]
  },
  {
   "cell_type": "code",
   "execution_count": 12,
   "metadata": {},
   "outputs": [],
   "source": [
    "X_train_list = list(X_train)\n",
    "X_test_list = list(X_test)\n",
    "X_tr_list = list(X_tr)\n",
    "X_v_list = list(X_v)\n",
    "\n",
    "X_train_corpus = []\n",
    "X_tr_corpus = []\n",
    "for tweet in X_train_list:\n",
    "    X_train_corpus.extend(tweet.split(' '))\n",
    "for tweet in X_tr_list:\n",
    "    X_tr_corpus.extend(tweet.split(' '))\n",
    "    \n",
    "X_train_unique = len(set(X_train_corpus))\n",
    "X_tr_unique = len(set(X_tr_corpus))"
   ]
  },
  {
   "cell_type": "code",
   "execution_count": 20,
   "metadata": {
    "scrolled": true
   },
   "outputs": [],
   "source": [
    "sequence_length = 100\n",
    "\n",
    "partial_tokenizer = text.Tokenizer(num_words=X_tr_unique)\n",
    "full_tokenizer = text.Tokenizer(num_words=X_train_unique)\n",
    "\n",
    "partial_tokenizer.fit_on_texts(X_tr_list)\n",
    "full_tokenizer.fit_on_texts(X_train_list)\n",
    "\n",
    "X_tr_tokenized = partial_tokenizer.texts_to_sequences(X_tr_list)\n",
    "X_v_tokenized = partial_tokenizer.texts_to_sequences(X_v_list)\n",
    "X_train_tokenized= full_tokenizer.texts_to_sequences(X_train_list)\n",
    "X_test_tokenized= full_tokenizer.texts_to_sequences(X_test_list)\n",
    "\n",
    "X_tr_tokens = sequence.pad_sequences(X_tr_tokenized, maxlen=sequence_length)\n",
    "X_v_tokens = sequence.pad_sequences(X_v_tokenized, maxlen=sequence_length)\n",
    "X_train_tokens = sequence.pad_sequences(X_train_tokenized, maxlen=sequence_length)\n",
    "X_test_tokens = sequence.pad_sequences(X_test_tokenized, maxlen=sequence_length)"
   ]
  },
  {
   "cell_type": "markdown",
   "metadata": {},
   "source": [
    "#### ^^^ modified for train_test_split variables up to here"
   ]
  },
  {
   "cell_type": "markdown",
   "metadata": {},
   "source": [
    "# construct CNN with embedding layer"
   ]
  },
  {
   "cell_type": "code",
   "execution_count": 63,
   "metadata": {
    "scrolled": true
   },
   "outputs": [],
   "source": [
    "model = Sequential()\n",
    "\n",
    "embedding_size = 128\n",
    "model.add(Embedding(input_dim=len(set(corpus)), output_dim=embedding_size, input_length=100))\n",
    "model.add(Conv1D(filters=32, kernel_size=4, activation='relu'))\n",
    "model.add(Dropout(0.5))\n",
    "model.add(MaxPooling1D(pool_size=2))\n",
    "model.add(Flatten())\n",
    "model.add(Dense(units=30, activation='tanh'))\n",
    "model.add(Dense(units=3, activation='softmax'))\n",
    "model.compile(loss='categorical_crossentropy', optimizer='adam', metrics=['accuracy'])"
   ]
  },
  {
   "cell_type": "markdown",
   "metadata": {},
   "source": [
    "# fit model on tokenized data"
   ]
  },
  {
   "cell_type": "code",
   "execution_count": 64,
   "metadata": {},
   "outputs": [
    {
     "name": "stdout",
     "output_type": "stream",
     "text": [
      "Epoch 1/7\n",
      "252/252 [==============================] - 9s 35ms/step - loss: 0.8114 - accuracy: 0.6124 - val_loss: 0.7427 - val_accuracy: 0.6387\n",
      "Epoch 2/7\n",
      "252/252 [==============================] - 8s 33ms/step - loss: 0.5957 - accuracy: 0.7457 - val_loss: 0.7099 - val_accuracy: 0.6633\n",
      "Epoch 3/7\n",
      "252/252 [==============================] - 8s 33ms/step - loss: 0.4050 - accuracy: 0.8401 - val_loss: 0.7726 - val_accuracy: 0.6465\n",
      "Epoch 4/7\n",
      "252/252 [==============================] - 9s 34ms/step - loss: 0.3069 - accuracy: 0.8834 - val_loss: 0.8015 - val_accuracy: 0.6622\n",
      "Epoch 5/7\n",
      "252/252 [==============================] - 8s 33ms/step - loss: 0.2518 - accuracy: 0.9021 - val_loss: 0.8266 - val_accuracy: 0.6723\n",
      "Epoch 6/7\n",
      "252/252 [==============================] - 9s 36ms/step - loss: 0.2202 - accuracy: 0.9126 - val_loss: 0.9046 - val_accuracy: 0.6667\n",
      "Epoch 7/7\n",
      "252/252 [==============================] - 9s 34ms/step - loss: 0.2083 - accuracy: 0.9159 - val_loss: 0.9278 - val_accuracy: 0.6566\n"
     ]
    },
    {
     "data": {
      "text/plain": [
       "<tensorflow.python.keras.callbacks.History at 0x7fa08ca5f6d8>"
      ]
     },
     "execution_count": 64,
     "metadata": {},
     "output_type": "execute_result"
    }
   ],
   "source": [
    "model.fit(X_t, y, epochs=7, batch_size=32, validation_split=0.1)"
   ]
  },
  {
   "cell_type": "code",
   "execution_count": null,
   "metadata": {},
   "outputs": [],
   "source": []
  }
 ],
 "metadata": {
  "kernelspec": {
   "display_name": "learn-env",
   "language": "python",
   "name": "learn-env"
  },
  "language_info": {
   "codemirror_mode": {
    "name": "ipython",
    "version": 3
   },
   "file_extension": ".py",
   "mimetype": "text/x-python",
   "name": "python",
   "nbconvert_exporter": "python",
   "pygments_lexer": "ipython3",
   "version": "3.6.9"
  }
 },
 "nbformat": 4,
 "nbformat_minor": 4
}
