{
 "cells": [
  {
   "cell_type": "code",
   "execution_count": 204,
   "metadata": {},
   "outputs": [],
   "source": [
    "import pandas as pd\n",
    "import numpy as np\n",
    "\n",
    "from sklearn.feature_extraction.text import CountVectorizer\n",
    "\n",
    "import re\n",
    "from nltk import pos_tag\n",
    "from nltk.tokenize import regexp_tokenize, word_tokenize, RegexpTokenizer\n",
    "from nltk.corpus import stopwords, wordnet\n",
    "from nltk.stem import WordNetLemmatizer \n",
    "\n",
    "import seaborn as sns\n",
    "import matplotlib.pyplot as plt\n",
    "\n",
    "sns.set(context = 'notebook', style = 'whitegrid')"
   ]
  },
  {
   "cell_type": "code",
   "execution_count": 270,
   "metadata": {},
   "outputs": [],
   "source": [
    "df = pd.read_csv('../../data/judge-1377884607_tweet_product_company.csv', encoding = 'latin1')\n",
    "df.columns = ['text', 'target', 'emotion']\n",
    "\n",
    "df = df[df['emotion'] != 'I can\\'t tell']\n",
    "df['target'].replace(['iPad', 'iPad or iPhone App', 'iPhone', 'Other Apple product or service'], 'Apple', inplace = True)\n",
    "df['target'].replace(['Other Google product or service'], 'Google', inplace = True)\n",
    "df['target'].replace(['Android App'], 'Android', inplace = True)\n",
    "\n",
    "df['target'].fillna('No Target', inplace = True)\n",
    "df.dropna(inplace = True)"
   ]
  },
  {
   "cell_type": "markdown",
   "metadata": {},
   "source": [
    "# Initial EDA"
   ]
  },
  {
   "cell_type": "code",
   "execution_count": 136,
   "metadata": {},
   "outputs": [
    {
     "data": {
      "image/png": "[encoded data removed]",
      "text/plain": [
       "<Figure size 432x288 with 1 Axes>"
      ]
     },
     "metadata": {},
     "output_type": "display_data"
    }
   ],
   "source": [
    "sns.set(context = 'notebook', style = 'whitegrid', font_scale = 1)\n",
    "\n",
    "ax = sns.countplot(x = 'target', data = df, palette = 'flare')"
   ]
  },
  {
   "cell_type": "code",
   "execution_count": 140,
   "metadata": {},
   "outputs": [
    {
     "data": {
      "image/png": "[encoded data removed]",
      "text/plain": [
       "<Figure size 432x288 with 1 Axes>"
      ]
     },
     "metadata": {},
     "output_type": "display_data"
    }
   ],
   "source": [
    "sns.set(context = 'notebook', style = 'whitegrid', font_scale = 1)\n",
    "\n",
    "ax = sns.countplot(x = 'emotion', data = df, palette = 'flare', order = ['Positive emotion', 'Negative emotion', 'No emotion toward brand or product'])\n",
    "ax.set(xlabel = '', xticklabels = ['Positive', 'Negative', 'None'])\n",
    "plt.show()"
   ]
  },
  {
   "cell_type": "code",
   "execution_count": 150,
   "metadata": {},
   "outputs": [
    {
     "data": {
      "text/html": [
       "<div>\n",
       "<style scoped>\n",
       "    .dataframe tbody tr th:only-of-type {\n",
       "        vertical-align: middle;\n",
       "    }\n",
       "\n",
       "    .dataframe tbody tr th {\n",
       "        vertical-align: top;\n",
       "    }\n",
       "\n",
       "    .dataframe thead th {\n",
       "        text-align: right;\n",
       "    }\n",
       "</style>\n",
       "<table border=\"1\" class=\"dataframe\">\n",
       "  <thead>\n",
       "    <tr style=\"text-align: right;\">\n",
       "      <th></th>\n",
       "      <th></th>\n",
       "      <th>text</th>\n",
       "    </tr>\n",
       "    <tr>\n",
       "      <th>target</th>\n",
       "      <th>emotion</th>\n",
       "      <th></th>\n",
       "    </tr>\n",
       "  </thead>\n",
       "  <tbody>\n",
       "    <tr>\n",
       "      <th rowspan=\"3\" valign=\"top\">Android</th>\n",
       "      <th>Negative emotion</th>\n",
       "      <td>16</td>\n",
       "    </tr>\n",
       "    <tr>\n",
       "      <th>No emotion toward brand or product</th>\n",
       "      <td>2</td>\n",
       "    </tr>\n",
       "    <tr>\n",
       "      <th>Positive emotion</th>\n",
       "      <td>141</td>\n",
       "    </tr>\n",
       "    <tr>\n",
       "      <th rowspan=\"3\" valign=\"top\">Apple</th>\n",
       "      <th>Negative emotion</th>\n",
       "      <td>388</td>\n",
       "    </tr>\n",
       "    <tr>\n",
       "      <th>No emotion toward brand or product</th>\n",
       "      <td>65</td>\n",
       "    </tr>\n",
       "    <tr>\n",
       "      <th>Positive emotion</th>\n",
       "      <td>1949</td>\n",
       "    </tr>\n",
       "    <tr>\n",
       "      <th rowspan=\"3\" valign=\"top\">Google</th>\n",
       "      <th>Negative emotion</th>\n",
       "      <td>115</td>\n",
       "    </tr>\n",
       "    <tr>\n",
       "      <th>No emotion toward brand or product</th>\n",
       "      <td>24</td>\n",
       "    </tr>\n",
       "    <tr>\n",
       "      <th>Positive emotion</th>\n",
       "      <td>582</td>\n",
       "    </tr>\n",
       "    <tr>\n",
       "      <th rowspan=\"3\" valign=\"top\">No Target</th>\n",
       "      <th>Negative emotion</th>\n",
       "      <td>51</td>\n",
       "    </tr>\n",
       "    <tr>\n",
       "      <th>No emotion toward brand or product</th>\n",
       "      <td>5297</td>\n",
       "    </tr>\n",
       "    <tr>\n",
       "      <th>Positive emotion</th>\n",
       "      <td>306</td>\n",
       "    </tr>\n",
       "  </tbody>\n",
       "</table>\n",
       "</div>"
      ],
      "text/plain": [
       "                                              text\n",
       "target    emotion                                 \n",
       "Android   Negative emotion                      16\n",
       "          No emotion toward brand or product     2\n",
       "          Positive emotion                     141\n",
       "Apple     Negative emotion                     388\n",
       "          No emotion toward brand or product    65\n",
       "          Positive emotion                    1949\n",
       "Google    Negative emotion                     115\n",
       "          No emotion toward brand or product    24\n",
       "          Positive emotion                     582\n",
       "No Target Negative emotion                      51\n",
       "          No emotion toward brand or product  5297\n",
       "          Positive emotion                     306"
      ]
     },
     "execution_count": 150,
     "metadata": {},
     "output_type": "execute_result"
    }
   ],
   "source": [
    "df.groupby(['target', 'emotion']).count()"
   ]
  },
  {
   "cell_type": "code",
   "execution_count": 154,
   "metadata": {},
   "outputs": [
    {
     "data": {
      "image/png": "[encoded data removed]",
      "text/plain": [
       "<Figure size 2160x360 with 4 Axes>"
      ]
     },
     "metadata": {},
     "output_type": "display_data"
    }
   ],
   "source": [
    "sns.set(context = 'poster', style = 'white', font_scale = 1)\n",
    "xlabel = ''\n",
    "ylabel = ''\n",
    "xticks = ['Positive', 'Negative', 'None']\n",
    "yticks = ''\n",
    "order = ['Positive emotion', 'Negative emotion', 'No emotion toward brand or product']\n",
    "col_order = ['Android','Apple', 'Google', 'No Target']\n",
    "ax = sns.catplot(data = df, x = 'emotion', col = 'target', kind = 'count', palette = 'flare', order = order, col_order = col_order, col_wrap = 4, sharey = False, height = 5, aspect = 1.5, alpha = 0.9)\n",
    "ax.set(xlabel = xlabel, ylabel = ylabel, xticklabels = xticks, yticklabels = yticks, title = 'Tweet Emotion per Target')\n",
    "ax.despine(left = False)\n",
    "ax.set_titles('{col_name}')\n",
    "plt.show()"
   ]
  },
  {
   "cell_type": "markdown",
   "metadata": {},
   "source": [
    "# Text Cleaning"
   ]
  },
  {
   "cell_type": "code",
   "execution_count": 275,
   "metadata": {},
   "outputs": [],
   "source": [
    "sw = stopwords.words('english')\n",
    "sw.extend(['would', 'one', 'say'])\n",
    "punctuation = '!\"$%&\\'()*+,-./:;<=>?[\\\\]^_`{|}~“!'\n",
    "twitter_re = re.compile('[#@][a-zA-Z]*')\n",
    "num_re = re.compile('^\\d{1}$')\n",
    "\n",
    "def get_wordnet_pos(treebank_tag):\n",
    "    if treebank_tag.startswith('J'):\n",
    "        return wordnet.ADJ\n",
    "    elif treebank_tag.startswith('V'):\n",
    "        return wordnet.VERB\n",
    "    elif treebank_tag.startswith('N'):\n",
    "        return wordnet.NOUN\n",
    "    elif treebank_tag.startswith('R'):\n",
    "        return wordnet.ADV\n",
    "    else:\n",
    "        return wordnet.NOUN\n",
    "\n",
    "def txt_clean(txt, stop_words=sw):\n",
    "    t = txt.split(' ')\n",
    "    t = [w.lower() for w in t]\n",
    "    t = [w for w in t if w not in stop_words]\n",
    "    t = [w.translate(w.maketrans('','', punctuation)) for w in t]\n",
    "    t = [w for w in t if not twitter_re.match(w)]\n",
    "    t = [w for w in t if not num_re.match(w)]\n",
    "    t = [w for w in t if w]\n",
    "    t = pos_tag(t)\n",
    "    t = [(w[0], get_wordnet_pos(w[1])) for w in t]\n",
    "    lem = WordNetLemmatizer()\n",
    "    t = [lem.lemmatize(w[0], w[1]) for w in t]\n",
    "    return ' '.join(t)\n",
    "\n",
    "df['txt_cleaned'] = df['text'].map(txt_clean)"
   ]
  },
  {
   "cell_type": "code",
   "execution_count": null,
   "metadata": {},
   "outputs": [],
   "source": []
  }
 ],
 "metadata": {
  "kernelspec": {
   "display_name": "Python 3",
   "language": "python",
   "name": "python3"
  },
  "language_info": {
   "codemirror_mode": {
    "name": "ipython",
    "version": 3
   },
   "file_extension": ".py",
   "mimetype": "text/x-python",
   "name": "python",
   "nbconvert_exporter": "python",
   "pygments_lexer": "ipython3",
   "version": "3.6.9"
  }
 },
 "nbformat": 4,
 "nbformat_minor": 4
}
