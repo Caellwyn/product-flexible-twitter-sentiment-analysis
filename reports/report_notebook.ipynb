{
 "cells": [
  {
   "cell_type": "markdown",
   "metadata": {},
   "source": [
    "# Predicting Sentiments about Brands and Products on Twitter\n",
    "\n",
    "We four intrepid data scientists, as a project for our data science intensive bootcamp through Flatiron school, set out to create a model that could determine how people feel about products or brands through their tweets.  Twitter is gold mine of emotional sentiment, as users impulsively express themselves in short, terse terms.  Tweets about given products are easy to collect as users use hashtags to communicate the topics of their expression.\n",
    "\n",
    "We created a model when given a tweet or series of tweets and a product would determine how the user felt about that product.  This is trivial for a human to accomplish, but our model can do this for thousands or even millions of tweets in a small amount of time.  \n",
    "\n",
    "This is not a trival problem.  Twitterspeak is rife with spelling errors, shortened words, acronyms, hashtags, and very specific words and proper nouns.  These are hard or impossible for a model to learn and are even confusing for humans much of the time.  Emotions are also complicated and a tweet may have a mix of emotions, ambiguous emotions, or conditional emotions.  The spectrum of feeling is much greater than our categories of positive, negative, or neutral.\n",
    "\n",
    "Emotions are also relative.  Consier the phrase, \"iPhones are better than Android phones.\"  Is this a positive or a negative tweet?  It depends!  This is why we chose to give our model a clue to which product we want the emotions to be classified in reference to.  We used the product name supplied in the 'product' column of our table to replace instances of that product in the tweet test with 'targetproduct'.  This helped our model to contextualize emotions and deal with this relativity.  \n",
    "\n",
    "A model only learns as well as it's labels, and our data was labeled by humans.  Each human may have a different interpretation of a tweet.  The data was most likely labeled by different humans, and so there may be different opinions about the emotional context of a tweet expressed by different human labelers.\n",
    "\n",
    "These considerations make this problem particularly sticky, and we are proud of the success that our models had in decifering the tweets.  As is often true with NLP problems, the structure of the model is often less important than how the data is prepared.\n",
    "\n",
    "We tried many different approaches to this problem, from recurrent neural networks to convolutional neural networks, to a simple logistic regression model.  Each used model approached the problem in a different way, but they all were able to classify over 3/5ths of tweets correctly, giving a client a general sense, over a large sampling of tweets, what the sentiment is about their product in the twitterverse."
   ]
  },
  {
   "cell_type": "markdown",
   "metadata": {},
   "source": [
    "Load dependencies"
   ]
  },
  {
   "cell_type": "code",
   "execution_count": 3,
   "metadata": {},
   "outputs": [
    {
     "name": "stderr",
     "output_type": "stream",
     "text": [
      "[nltk_data] Downloading package stopwords to\n",
      "[nltk_data]     C:\\Users\\awyeh\\AppData\\Roaming\\nltk_data...\n",
      "[nltk_data]   Package stopwords is already up-to-date!\n",
      "[nltk_data] Downloading package averaged_perceptron_tagger to\n",
      "[nltk_data]     C:\\Users\\awyeh\\AppData\\Roaming\\nltk_data...\n",
      "[nltk_data]   Package averaged_perceptron_tagger is already up-to-\n",
      "[nltk_data]       date!\n",
      "[nltk_data] Downloading package wordnet to\n",
      "[nltk_data]     C:\\Users\\awyeh\\AppData\\Roaming\\nltk_data...\n",
      "[nltk_data]   Package wordnet is already up-to-date!\n"
     ]
    }
   ],
   "source": [
    "import pandas as pd\n",
    "import numpy as np\n",
    "\n",
    "import keras\n",
    "import tensorflow as tf\n",
    "\n",
    "from keras.preprocessing.sequence import pad_sequences\n",
    "from keras.layers import Dropout, Activation, Bidirectional, GlobalMaxPool1D, \\\n",
    "Input, Dense, LSTM, Embedding, Flatten\n",
    "\n",
    "from keras.layers.convolutional import Conv1D, MaxPooling1D\n",
    "\n",
    "from keras.models import Sequential\n",
    "from keras import initializers, regularizers, optimizers, layers\n",
    "from keras.preprocessing import text, sequence\n",
    "from keras.utils import plot_model\n",
    "import kerastuner as kt\n",
    "\n",
    "from sklearn.linear_model import LogisticRegression\n",
    "from sklearn.feature_extraction.text import CountVectorizer\n",
    "from sklearn.metrics import accuracy_score, confusion_matrix\n",
    "from sklearn.model_selection import train_test_split\n",
    "from sklearn.preprocessing import LabelEncoder\n",
    "\n",
    "import re\n",
    "\n",
    "from nltk import pos_tag\n",
    "from nltk.tokenize import regexp_tokenize, word_tokenize, RegexpTokenizer\n",
    "from nltk.corpus import stopwords, wordnet\n",
    "from nltk.stem import WordNetLemmatizer \n",
    "\n",
    "from gensim.models import word2vec\n",
    "\n",
    "from IPython.display import display \n",
    "\n",
    "import seaborn as sns\n",
    "import matplotlib.pyplot as plt\n",
    "\n",
    "import nltk\n",
    "nltk.download('stopwords')\n",
    "nltk.download('averaged_perceptron_tagger')\n",
    "nltk.download('wordnet')\n",
    "import sys\n",
    "sys.path.append(\"../\")\n",
    "\n",
    "import src.model_evaluation as me\n",
    "from src.data_preprocessing import *\n",
    "\n",
    "sns.set(context = 'notebook', style = 'whitegrid')\n",
    "# CHANGE LATER\n",
    "# pd.set_option('display.max_colwidth', None)\n",
    "pd.set_option('display.max_rows',50)\n",
    "\n",
    "np.random.seed(42)\n",
    "tf.random.set_seed(42)"
   ]
  },
  {
   "cell_type": "markdown",
   "metadata": {},
   "source": [
    "# Data Exploration"
   ]
  },
  {
   "cell_type": "code",
   "execution_count": 43,
   "metadata": {},
   "outputs": [],
   "source": [
    "df = pd.read_csv('../data/judge-1377884607_tweet_product_company.csv', encoding = 'latin1')\n",
    "df.columns = ['text', 'target', 'emotion']\n",
    "df['emotion'] = df['emotion'].replace(to_replace = {'Positive emotion' : 2, 'Negative emotion' : 0, 'No emotion toward brand or product': 1})\n",
    "df = df[df['emotion'] != 'I can\\'t tell']"
   ]
  },
  {
   "cell_type": "code",
   "execution_count": 47,
   "metadata": {},
   "outputs": [
    {
     "data": {
      "text/html": [
       "<div>\n",
       "<style scoped>\n",
       "    .dataframe tbody tr th:only-of-type {\n",
       "        vertical-align: middle;\n",
       "    }\n",
       "\n",
       "    .dataframe tbody tr th {\n",
       "        vertical-align: top;\n",
       "    }\n",
       "\n",
       "    .dataframe thead th {\n",
       "        text-align: right;\n",
       "    }\n",
       "</style>\n",
       "<table border=\"1\" class=\"dataframe\">\n",
       "  <thead>\n",
       "    <tr style=\"text-align: right;\">\n",
       "      <th></th>\n",
       "      <th>text</th>\n",
       "      <th>target</th>\n",
       "      <th>emotion</th>\n",
       "    </tr>\n",
       "  </thead>\n",
       "  <tbody>\n",
       "    <tr>\n",
       "      <th>0</th>\n",
       "      <td>.@wesley83 I have a 3G iPhone. After 3 hrs twe...</td>\n",
       "      <td>iPhone</td>\n",
       "      <td>0</td>\n",
       "    </tr>\n",
       "    <tr>\n",
       "      <th>1</th>\n",
       "      <td>@jessedee Know about @fludapp ? Awesome iPad/i...</td>\n",
       "      <td>iPad or iPhone App</td>\n",
       "      <td>2</td>\n",
       "    </tr>\n",
       "    <tr>\n",
       "      <th>2</th>\n",
       "      <td>@swonderlin Can not wait for #iPad 2 also. The...</td>\n",
       "      <td>iPad</td>\n",
       "      <td>2</td>\n",
       "    </tr>\n",
       "    <tr>\n",
       "      <th>3</th>\n",
       "      <td>@sxsw I hope this year's festival isn't as cra...</td>\n",
       "      <td>iPad or iPhone App</td>\n",
       "      <td>0</td>\n",
       "    </tr>\n",
       "    <tr>\n",
       "      <th>4</th>\n",
       "      <td>@sxtxstate great stuff on Fri #SXSW: Marissa M...</td>\n",
       "      <td>Google</td>\n",
       "      <td>2</td>\n",
       "    </tr>\n",
       "  </tbody>\n",
       "</table>\n",
       "</div>"
      ],
      "text/plain": [
       "                                                text              target  \\\n",
       "0  .@wesley83 I have a 3G iPhone. After 3 hrs twe...              iPhone   \n",
       "1  @jessedee Know about @fludapp ? Awesome iPad/i...  iPad or iPhone App   \n",
       "2  @swonderlin Can not wait for #iPad 2 also. The...                iPad   \n",
       "3  @sxsw I hope this year's festival isn't as cra...  iPad or iPhone App   \n",
       "4  @sxtxstate great stuff on Fri #SXSW: Marissa M...              Google   \n",
       "\n",
       "  emotion  \n",
       "0       0  \n",
       "1       2  \n",
       "2       2  \n",
       "3       0  \n",
       "4       2  "
      ]
     },
     "execution_count": 47,
     "metadata": {},
     "output_type": "execute_result"
    }
   ],
   "source": [
    "df.head()"
   ]
  },
  {
   "cell_type": "markdown",
   "metadata": {},
   "source": [
    "Luckily our dataset is simple to work with.  It has three columns, with every row being a new tweet.  The first column is the text column, which contains all the words in the tweet.  The second column is the target column, which contains the product the tweet is targeted at.  The last column is the emotion column, and this contains the feeling the tweet has towards it's respective target.  The emotion column is our target for our predictive models, and can have three possible values: 0, 1, or 2, or negative, no neutral, and positive respectively."
   ]
  },
  {
   "cell_type": "markdown",
   "metadata": {},
   "source": [
    "To start off, we must check the class imbalance of our targets."
   ]
  },
  {
   "cell_type": "code",
   "execution_count": 44,
   "metadata": {},
   "outputs": [
    {
     "data": {
      "image/png": "[encoded data removed]",
      "text/plain": [
       "<Figure size 432x288 with 1 Axes>"
      ]
     },
     "metadata": {},
     "output_type": "display_data"
    }
   ],
   "source": [
    "# emotion breakdown by target but fancier\n",
    "sns.set(context = 'notebook', style = 'white', font_scale = 1)\n",
    "\n",
    "blue_ppt = ['#212d74', '#3949ab', '#7890cd']\n",
    "red_ppt = ['#9c254d', '#d23369', '#f06292']\n",
    "\n",
    "x1 = df['emotion'].value_counts().keys()\n",
    "y1 = df['emotion'].value_counts().values\n",
    "xlabel = ''\n",
    "ylabel = ''\n",
    "xticks = ['Negative', 'No Emotion', 'Positive']\n",
    "yticks = ''\n",
    "order = [0,1,2]\n",
    "\n",
    "ax = sns.barplot(x = x1, y = y1, alpha = 1, order = order, palette = blue_ppt)\n",
    "ax.set(xlabel = xlabel, ylabel = ylabel, xticklabels = xticks, title = 'Number of Tweets per Emotion')\n",
    "ax.set_ylim(0,9000)\n",
    "sns.despine()"
   ]
  },
  {
   "cell_type": "markdown",
   "metadata": {},
   "source": [
    "As seen above, we have incredibly heavy class imbalance; not only is 'positive' almost just half of 'no emotion', the amount of 'negative' values we have is barely visible.  To deal with this imbalance, we chose to import extra data to make up for it.  The data we need must meet two requirements, which is that it must have a new tweet for each row, have a column dedicated to the tweet text, and lastly have a column dedicated to the tweet emotion.  We found three datasets that meet this requirement, a dataset relating to apple product, a dataset describing tweets about the Deflategate NFL incident, and lastly a dataset containing tweets about the 2015 Coachella.  We took these three datasets, restructured them so that they fit our base data, and then added it to it."
   ]
  },
  {
   "cell_type": "code",
   "execution_count": 45,
   "metadata": {},
   "outputs": [],
   "source": [
    "dv = pd.read_csv('../data/targeted_combined.csv')\n",
    "dv['emotion'] = dv['emotion'].astype(int)"
   ]
  },
  {
   "cell_type": "code",
   "execution_count": 46,
   "metadata": {},
   "outputs": [
    {
     "data": {
      "image/png": "[encoded data removed]",
      "text/plain": [
       "<Figure size 432x288 with 1 Axes>"
      ]
     },
     "metadata": {},
     "output_type": "display_data"
    }
   ],
   "source": [
    "sns.set(context = 'notebook', style = 'white', font_scale = 1)\n",
    "\n",
    "blue_ppt = ['#212d74', '#3949ab', '#7890cd']\n",
    "red_ppt = ['#9c254d', '#d23369', '#f06292']\n",
    "\n",
    "x2 = dv['emotion'].value_counts().keys()\n",
    "y2 = dv['emotion'].value_counts().values\n",
    "xlabel = ''\n",
    "ylabel = ''\n",
    "xticks = ['Negative', 'No Emotion', 'Positive']\n",
    "yticks = ''\n",
    "\n",
    "ax = sns.barplot(x = x2, y = y2, alpha = 1, palette = red_ppt)\n",
    "ax = sns.barplot(x = x1, y = y1, alpha = 1, palette = blue_ppt)\n",
    "\n",
    "\n",
    "ax.set(xlabel = xlabel, ylabel = ylabel, xticklabels = xticks, title = 'Number of Tweets per Emotion')\n",
    "ax.set_ylim(0,9000)\n",
    "sns.despine()\n",
    "# plt.savefig('tweets_per_emotion_after', dpi = 500, bbox_inches = 'tight', transparent = True)"
   ]
  },
  {
   "cell_type": "markdown",
   "metadata": {},
   "source": [
    "The red portions in the above plot symbolize the new data after we imported the extra data.  The disparity between the different emotional targets have now become much more close.  Now both 'positives' and 'negatives' are at a near equal amount, with 'no emotion' being closely behind."
   ]
  },
  {
   "cell_type": "markdown",
   "metadata": {},
   "source": [
    "# Data Preparation and Preprocessing"
   ]
  },
  {
   "cell_type": "markdown",
   "metadata": {},
   "source": [
    "Now that we have our data, our next step is to preproces our data into a format ready for consumption by our predictive models.  As we understand that models work best on clean words with no punctuation, stopwords, word endings, capitalization, etc. we created functions for cleaning every tweet in our dataset."
   ]
  },
  {
   "cell_type": "markdown",
   "metadata": {},
   "source": [
    "While we are cleaning the data, we also decided to undergo another bit of feature engineering.  As we want our model to predict the sentiment on a wide variety of products not just the ones in our base dataset, we decided to make every product that we can find as anonymous as possible.  This is done by filtering the tweet text of their respective target and changing them into one universal term, 'product_target'.  For example, a tweet proclaiming that \"I love my iPhone!\" will become \"I love my product_target!\"  By doing this, our model will be more focused on the context of the tweet rather than basing predictions off of pre-existing sentiments users have towards a product.  It will be more focused on the \"I love me\" portion of the sentence rather than automatically being biased that the tweet is positive since most tweets discussing iPhones in our data ended up being positive."
   ]
  },
  {
   "cell_type": "code",
   "execution_count": 4,
   "metadata": {},
   "outputs": [],
   "source": [
    "def get_wordnet_pos(treebank_tag):\n",
    "    '''\n",
    "    Function takes in a string and assigns it a part of speech tag.\n",
    "    Used for lemmatizing, no need to use elsewhere\n",
    "    '''\n",
    "    if treebank_tag.startswith('J'):\n",
    "        return wordnet.ADJ\n",
    "    elif treebank_tag.startswith('V'):\n",
    "        return wordnet.VERB\n",
    "    elif treebank_tag.startswith('N'):\n",
    "        return wordnet.NOUN\n",
    "    elif treebank_tag.startswith('R'):\n",
    "        return wordnet.ADV\n",
    "    else:\n",
    "        return wordnet.NOUN\n",
    "    \n",
    "def product_target(string):\n",
    "    '''\n",
    "    Description:\n",
    "    - Method used for finding a string that the clean function will replace with 'product_target' if it sees any instances of it.\n",
    "    \n",
    "    Inputs:\n",
    "    - Takes in the data from the product column through the string parameter.\n",
    "    \n",
    "    Steps:\n",
    "    1. sets the target variable to lower case\n",
    "    2. searches what the variable is and return a preset value that we will replace with 'product_target'\n",
    "    \n",
    "    Outputs:\n",
    "    - Returns a string\n",
    "    '''\n",
    "    s = string.lower()\n",
    "    if s == 'no target':\n",
    "        return ''\n",
    "    elif s == 'ipad':\n",
    "        return 'ipad'\n",
    "    elif s == 'apple':\n",
    "        return 'apple'\n",
    "    elif s == 'ipad or iphone app':\n",
    "        return 'app'\n",
    "    elif s == 'iphone':\n",
    "        return 'iphone'\n",
    "    elif s == 'other apple product or service':\n",
    "        return ''\n",
    "    elif s == 'google':\n",
    "        return 'google'\n",
    "    elif s == 'other google product or service':\n",
    "        return ''\n",
    "    elif s == 'android':\n",
    "        return 'android'\n",
    "    elif s == 'android app':\n",
    "        return 'android'\n",
    "    else:\n",
    "        return 'Unknown target'\n",
    "\n",
    "def txt_clean(txt, lem):\n",
    "    '''\n",
    "    Description\n",
    "    - A method we use to clean every inputed string and prepare it for model processing\n",
    "    \n",
    "    Inputs:\n",
    "    - Takes in a string and returns a cleaned up version of it.\n",
    "    - Takes in a  boolean variable to determine whether or not the lemmatizing function will be used.\n",
    "    \n",
    "    Steps:\n",
    "    1. Split the tweet into tokens\n",
    "    2. Convert all capitalized letters into lower-case\n",
    "    3. Remove punctuation\n",
    "    4. Remove twitter jargon such as @ mentions\n",
    "    5. Remove leftover numbers\n",
    "    6. Remove words with accents\n",
    "    7. Remove stop words\n",
    "    8. Replace instances of the target in the text with 'product_target'\n",
    "    9. Remove empty strings\n",
    "    10. Lemmatize the words\n",
    "    11. Rejoin all the tokens into one string\n",
    "    \n",
    "    Outputs:\n",
    "    - A cleaned up string of words ready for model processing.\n",
    "    '''\n",
    "    sw = stopwords.words('english')\n",
    "    sw.extend(['link', 'rt', 'get'])\n",
    "    punctuation = '!\"$%&\\'()*+,-./:;<=>?[\\\\]^_`{|}~“!#'\n",
    "    no_accents_re = re.compile('^[a-z]+$')\n",
    "    accents = ['á', 'â', 'ã', 'à', 'å', 'ª', 'ç', 'è', '¼', '¾', 'î', 'ï', 'ì', 'ó', 'ö', 'ð', 'ü', 'ù', 'û', 'ý']\n",
    "    twitter_re = re.compile('[@][a-zA-Z]*')\n",
    "    num_re = re.compile('^\\d+$')\n",
    "    \n",
    "    # splitting the text up into words\n",
    "    if isinstance(txt, list):\n",
    "        t = txt[0].split(' ')\n",
    "    else:\n",
    "        t = txt.split(' ')\n",
    "    # turning the words lowercase\n",
    "    t = [w.lower() for w in t]\n",
    "    # removing punctuation\n",
    "    t = [w.translate(w.maketrans('','', punctuation)) for w in t]\n",
    "    # removing @'s which are twitter jargon\n",
    "    t = [w for w in t if not twitter_re.match(w)]\n",
    "    # removing leftover numbers\n",
    "    t = [w for w in t if not num_re.match(w)]\n",
    "    # removing words with accents\n",
    "    t = [w for w in t if no_accents_re.match(w)]\n",
    "    # removing stop words and more twitter jargon\n",
    "    t = [w for w in t if w not in sw]\n",
    "    # change targets in string to 'product_target' if a target exists\n",
    "    if isinstance(txt, list):\n",
    "        t = ['product_target' if w in product_target(txt[1]) else w for w in t]\n",
    "        if txt[1].lower() in ['android app', 'ipad or iphone app']:\n",
    "            t = [w for w in t if w is not 'app']\n",
    "    # removing empty strings\n",
    "    t = [w for w in t if w]\n",
    "    # word lemmatizing\n",
    "    if lem: \n",
    "        lemm = WordNetLemmatizer()\n",
    "        t = pos_tag(t)\n",
    "        t = [(w[0], get_wordnet_pos(w[1])) for w in t]\n",
    "        t = [lemm.lemmatize(w[0], w[1]) for w in t]\n",
    "    # joining all the strings together into one\n",
    "    return ' '.join(t)\n",
    "\n",
    "def emotion_label(string):\n",
    "    '''\n",
    "    Description:\n",
    "    - Simple mapping function used to turn our targets from words into a numerical value\n",
    "    \n",
    "    Inputs:\n",
    "    - A string\n",
    "    \n",
    "    Steps:\n",
    "    1. Matches the input string with a preset value, positive is a 2, negative is a 0, and neutral is a 1\n",
    "    \n",
    "    Output:\n",
    "    - The corresponding integer value\n",
    "    '''\n",
    "    s = string\n",
    "    if s == 'Positive emotion':\n",
    "        return 2\n",
    "    elif s == 'No emotion toward brand or product':\n",
    "        return 1\n",
    "    elif s == 'Negative emotion':\n",
    "        return 0\n",
    "    else:\n",
    "        print('Unknown emotion')\n",
    "\n",
    "def df_clean(df = None, lem = True):\n",
    "    '''\n",
    "    Description:\n",
    "    - A function that returns a cleaned up dataframe.\n",
    "    \n",
    "    Inputs:\n",
    "    - It can take a dataframe, if no dataframe is passed through it will use our default one.\n",
    "    - It can also set a boolean value, it is used as a flag to determine if lemmatizing will be used.\n",
    "    \n",
    "    Steps:\n",
    "    1. A dataframe will be either created or brought in from an external source determined by the parameter\n",
    "    2. The dataframe will then be adjusted to make reading easier\n",
    "    3. NaN values and values we don't want will be removed\n",
    "    4. We will use the emotion_label to change our emotion values into numerical\n",
    "    5. We will use the txt_clean function on the tweet text for every row \n",
    "    6. Lastly we will drop unused columns\n",
    "    \n",
    "    Outputs:\n",
    "    - A cleaned dataframe that we will use for our models\n",
    "    '''\n",
    "    if df is None:\n",
    "        df = pd.read_csv('../data/judge-1377884607_tweet_product_company.csv', encoding = 'latin1')\n",
    "    df.columns = ['text', 'product', 'emotion']\n",
    "    df = df[df['emotion'] != 'I can\\'t tell']\n",
    "    df.dropna(inplace = True)\n",
    "    df['text_product'] = df.apply(lambda x: list([x['text'], x['product']]), axis = 1)\n",
    "    df['emotion'] = df['emotion'].map(emotion_label)\n",
    "    df['txt_cleaned'] = df['text_product'].apply(txt_clean, args = (lem,))\n",
    "    df.drop(columns = ['text', 'product', 'text_product'], inplace = True)\n",
    "    return df\n",
    "\n",
    "\n",
    "def external_data(lem = True):\n",
    "    '''\n",
    "    Description:\n",
    "    - A function that gives us the cleaned up dataframes of our three external datasets\n",
    "    - It will be cleaned in a way similar to our base dataset\n",
    "    \n",
    "    Inputs:\n",
    "    - A boolean variable that will determine whether or not a lemmatizer is used or not\n",
    "    \n",
    "    Steps:\n",
    "    1. Reads in the data from our datasets to create three dfs\n",
    "    2. For each df, grab the columns that we care about and rename them to match our base data\n",
    "    3. We then map our emotions column in a way that matches our base data (0, 1, and 2 variables)\n",
    "    4. Use our txt_clean function to clean up the texts in the dataset\n",
    "    5. Drop all unused columns\n",
    "    6. Concat all three together\n",
    "    \n",
    "    Outputs:\n",
    "    - A big dataframe containing cleaned up version of all the tweets from external sources\n",
    "    - Ready to be added directly to the end of our base data\n",
    "    '''\n",
    "\n",
    "    df_1 = pd.read_csv('../data/Apple-Twitter-Sentiment-DFE.csv', encoding = 'latin1')\n",
    "    df_1 = df_1[['sentiment', 'text']]\n",
    "    df_1.columns = ['emotion', 'text']\n",
    "    dic_1 = {'5': 2, '3' : 1, '1': 0}\n",
    "    df_1.replace({'emotion': dic_1}, inplace = True)\n",
    "    df_1['txt_cleaned'] = df_1['text'].apply(txt_clean, args = (lem,))\n",
    "    df_1.drop('text', axis = 1, inplace = True)\n",
    "\n",
    "    df_2 = pd.read_csv('../data/Deflategate-DFE.csv', encoding = 'latin1')\n",
    "    df_2 = df_2[['deflate_sentiment', 'text']]\n",
    "    df_2.columns = ['emotion', 'text']\n",
    "    dic_2 = {'positive': 2, 'slightly positive': 2, ('neutral') : 1, 'negative': 0, 'slightly negative': 0}\n",
    "    df_2.replace({'emotion': dic_2}, inplace = True)\n",
    "    df_2['txt_cleaned'] = df_2['text'].apply(txt_clean, args = (lem,))\n",
    "    df_2.drop('text', axis = 1, inplace = True)\n",
    "\n",
    "    df_3 = pd.read_csv('../data/Coachella-2015-2-DFE.csv', encoding = 'latin1')\n",
    "    df_3 = df_3[['coachella_sentiment', 'text']]\n",
    "    df_3.columns = ['emotion', 'text']\n",
    "    df_3 = df_3[df_3['emotion'] != 'cant tell']\n",
    "    dic_3 = {'positive': 2, 'neutral' : 1, 'negative': 0}\n",
    "    df_3.replace({'emotion': dic_3}, inplace = True)\n",
    "    df_3['txt_cleaned'] = df_3['text'].apply(txt_clean, args = (lem,))\n",
    "    df_3.drop('text', axis = 1, inplace = True)\n",
    "\n",
    "    return pd.concat([df_1, df_2, df_3])"
   ]
  },
  {
   "cell_type": "markdown",
   "metadata": {},
   "source": [
    "Here we use our functions df_clean() and external_data() to create cleaned up datasets ready for use, then we combine them into one using the concat function."
   ]
  },
  {
   "cell_type": "code",
   "execution_count": 5,
   "metadata": {},
   "outputs": [],
   "source": [
    "df_b = df_clean()\n",
    "df_e = external_data()\n",
    "\n",
    "df = pd.concat([df_b, df_e])"
   ]
  },
  {
   "cell_type": "code",
   "execution_count": 8,
   "metadata": {},
   "outputs": [
    {
     "data": {
      "text/html": [
       "<div>\n",
       "<style scoped>\n",
       "    .dataframe tbody tr th:only-of-type {\n",
       "        vertical-align: middle;\n",
       "    }\n",
       "\n",
       "    .dataframe tbody tr th {\n",
       "        vertical-align: top;\n",
       "    }\n",
       "\n",
       "    .dataframe thead th {\n",
       "        text-align: right;\n",
       "    }\n",
       "</style>\n",
       "<table border=\"1\" class=\"dataframe\">\n",
       "  <thead>\n",
       "    <tr style=\"text-align: right;\">\n",
       "      <th></th>\n",
       "      <th>emotion</th>\n",
       "      <th>txt_cleaned</th>\n",
       "    </tr>\n",
       "  </thead>\n",
       "  <tbody>\n",
       "    <tr>\n",
       "      <th>0</th>\n",
       "      <td>0</td>\n",
       "      <td>product_target hr tweet riseaustin dead need u...</td>\n",
       "    </tr>\n",
       "    <tr>\n",
       "      <th>1</th>\n",
       "      <td>2</td>\n",
       "      <td>know awesome ipadiphone product_target youll l...</td>\n",
       "    </tr>\n",
       "    <tr>\n",
       "      <th>2</th>\n",
       "      <td>2</td>\n",
       "      <td>wait product_target also sale sxsw</td>\n",
       "    </tr>\n",
       "    <tr>\n",
       "      <th>3</th>\n",
       "      <td>0</td>\n",
       "      <td>hope year festival isnt crashy year iphone pro...</td>\n",
       "    </tr>\n",
       "    <tr>\n",
       "      <th>4</th>\n",
       "      <td>2</td>\n",
       "      <td>great stuff fri sxsw marissa mayer product_tar...</td>\n",
       "    </tr>\n",
       "  </tbody>\n",
       "</table>\n",
       "</div>"
      ],
      "text/plain": [
       "  emotion                                        txt_cleaned\n",
       "0       0  product_target hr tweet riseaustin dead need u...\n",
       "1       2  know awesome ipadiphone product_target youll l...\n",
       "2       2                 wait product_target also sale sxsw\n",
       "3       0  hope year festival isnt crashy year iphone pro...\n",
       "4       2  great stuff fri sxsw marissa mayer product_tar..."
      ]
     },
     "execution_count": 8,
     "metadata": {},
     "output_type": "execute_result"
    }
   ],
   "source": [
    "df.head()"
   ]
  },
  {
   "cell_type": "code",
   "execution_count": 7,
   "metadata": {},
   "outputs": [
    {
     "data": {
      "text/plain": [
       "(22746, 2)"
      ]
     },
     "execution_count": 7,
     "metadata": {},
     "output_type": "execute_result"
    }
   ],
   "source": [
    "df.shape"
   ]
  },
  {
   "cell_type": "markdown",
   "metadata": {},
   "source": [
    "Now we are ready for modeling!"
   ]
  },
  {
   "cell_type": "code",
   "execution_count": 75,
   "metadata": {},
   "outputs": [],
   "source": [
    "df.dropna(inplace = True)\n",
    "\n",
    "X = df['txt_cleaned']\n",
    "y = df['emotion']\n",
    "\n",
    "#Train test split\n",
    "X_train, X_test, y_train, y_test = train_test_split(X, y, random_state = 42, test_size = 0.25)"
   ]
  },
  {
   "cell_type": "markdown",
   "metadata": {},
   "source": [
    "### Preparing the data for the neural networks\n",
    "A computer model does not do well analyzing actual text, but researchers have developed wonderful ways to turn words into numbers without losing too much of their meaning.  The below code tokenizes each tweet into numeric form ands the resulting sequences to ensure they are all the same length.  They are then fed into the embedding layer of the of both neural networks, which then embeds them into semantically meaningful high dimensional space for the next layers to use to decode and understand the tweets.  "
   ]
  },
  {
   "cell_type": "code",
   "execution_count": 60,
   "metadata": {},
   "outputs": [],
   "source": [
    "\n",
    "embedding_size = 64\n",
    "sequence_len = 128\n",
    "tokenizer = text.Tokenizer()\n",
    "\n",
    "#tokenize full X_train\n",
    "tokenizer.fit_on_texts(list(X_train))\n",
    "\n",
    "dictionary_length = len(tokenizer.word_index.keys())+1\n",
    "\n",
    "list_tokenized_X_train = tokenizer.texts_to_sequences(X_train)\n",
    "X_train_NN = sequence.pad_sequences(list_tokenized_X_train, maxlen=sequence_len)\n",
    "\n",
    "#Tokenize hold out set\n",
    "tokenized_X_test = tokenizer.texts_to_sequences(X_test)\n",
    "X_test_NN = sequence.pad_sequences(tokenized_X_test, maxlen=sequence_len)"
   ]
  },
  {
   "cell_type": "markdown",
   "metadata": {},
   "source": [
    "# CNN Model\n",
    "This model embeds the tokenized data into a high dimensional embedding space and the model trains that layer to position each word into meaningful relationships with each other.  This then informs the convolutional layer.  This convolutional layer looks at parts of the sentence using a 'window' of length 5, processing groups of 5 sequential words in order and passing the resulting values to the dense layers for abstraction.  After many iterations and architectures of CNNs, this was the one that performed the best for us."
   ]
  },
  {
   "cell_type": "code",
   "execution_count": 61,
   "metadata": {},
   "outputs": [],
   "source": [
    "def make_CNN(dictionary_length,sequence_len):\n",
    "    model = Sequential()\n",
    "\n",
    "    # add embedding layer as input\n",
    "    embedding_size = 64\n",
    "    model.add(Embedding(input_dim=dictionary_length, \n",
    "                        output_dim=embedding_size,\n",
    "                        input_length=sequence_len))\n",
    "    # feed embeded features into 1 dimensional convolutional layer\n",
    "    model.add(Conv1D(filters=64, kernel_size=5, activation='tanh'))\n",
    "    # dropout to prevent over-fitting\n",
    "    model.add(Dropout(0.7))\n",
    "    # aggregate function after convolution\n",
    "    model.add(MaxPooling1D(pool_size=3))\n",
    "    model.add(Flatten())\n",
    "    # Adding dense layers with dropout for classification on the features generated by embedding and conv layers\n",
    "    model.add(Dense(units=30, activation='tanh'))\n",
    "    model.add(Dropout(.5))\n",
    "    model.add(Dense(units=10, activation='tanh'))\n",
    "    model.add(Dropout(.5))\n",
    "    model.add(Dense(units=3, activation='softmax'))\n",
    "    # compile for optimizing accuracy\n",
    "    model.compile(loss='categorical_crossentropy', optimizer='adam', metrics=['acc'])\n",
    "    return model"
   ]
  },
  {
   "cell_type": "code",
   "execution_count": 64,
   "metadata": {},
   "outputs": [
    {
     "data": {
      "image/png": "[encoded data removed]",
      "text/plain": [
       "<Figure size 720x360 with 2 Axes>"
      ]
     },
     "metadata": {},
     "output_type": "display_data"
    }
   ],
   "source": [
    "CNN =  make_CNN(dictionary_length,sequence_len)\n",
    "history = CNN.fit(X_train_NN, pd.get_dummies(y_train),\n",
    "                     epochs=3, \n",
    "                     batch_size=128,\n",
    "                     validation_data = (X_test_NN ,pd.get_dummies(y_test)),\n",
    "                     verbose = 0)\n",
    "me.graph_model_history(history)"
   ]
  },
  {
   "cell_type": "code",
   "execution_count": 65,
   "metadata": {},
   "outputs": [
    {
     "name": "stdout",
     "output_type": "stream",
     "text": [
      "Statistics for RNN\n"
     ]
    },
    {
     "data": {
      "image/png": "[encoded data removed]",
      "text/plain": [
       "<Figure size 432x288 with 2 Axes>"
      ]
     },
     "metadata": {},
     "output_type": "display_data"
    },
    {
     "name": "stdout",
     "output_type": "stream",
     "text": [
      "model validation accuracy is: 0.5990799716914367\n"
     ]
    }
   ],
   "source": [
    "y_pred = CNN.predict(X_test_NN)\n",
    "y_pred = np.argmax(y_pred,axis=1)\n",
    "print('Statistics for RNN')\n",
    "me.plot_confusion_matrix(y_test,y_pred,\n",
    "                         #save_path = 'figures/best_CNN_confusion_matrix.png'\n",
    "                        )\n",
    "print(f'model validation accuracy is: {accuracy_score(y_test,y_pred)}')"
   ]
  },
  {
   "cell_type": "markdown",
   "metadata": {},
   "source": [
    "## CNN Evaluation\n",
    "The model does well classifying positive and negative tweets well, getting 2/3rds correct.  However it struggles to classify neutral tweets.  This is the smallest class."
   ]
  },
  {
   "cell_type": "markdown",
   "metadata": {},
   "source": [
    "# RNN Model:\n",
    "The CNN model looks at windows of words, sequential chunks, but we thought a recurrent model would be able to better understand tweets and draw out their emotional sentiment by reading them like a human, in the order they are written.  Further, like a human, we wanted them to be able to retroactively assign context to words.  Because of this we chose a Bidirectional Long-Short Term Memory, or LSTM model.  These models have memory cells that allow them to carry information about previous words forward in order to understand later words in different ways.  The bidirectionality of this model allowed it to do this front to back and back to front simultaneously.  While the CNN can consider groups of 5 words in a row in a non-linear way, the Bi-LSTM can learn to look at non-sequential groups, 'remembering', for instance, the 1st, 5th, and 10th words and relating those.\n",
    "\n",
    "We present here our best RNN model, but it was not the only we tried.  Please refer to josh_LSTM_models.ipynb in the notebooks/exploratory folder to see more models.  These include models with pre-trained embedding layers, deeper models with more neurons, and models tuned with the Keras Tuner package from Tensorflow.  None of these performed as well as the relatively simple model we present below.\n",
    "\n",
    "### The LSTM RNN Model\n",
    "Below, we create the model itself.  It starts with an embedding layer.  This layer is perhaps the most crucial as it embeds each tokenized word into a high dimensional space.  Each dimension of this space represents a relationship between words.  \"Ear\" and \"sound\" might differ along the same dimension as \"eye\" and \"image\".  How the model actually embeds the words is learned by the model itself by looking at how words relate in the text, in this case the 22000 or so tweet we gave it to learn from.\n",
    "\n",
    "The next layer reads the tweets and refers to the values in the embedding layer to make sense of them.  The LSTM layer has a memory, so it can change its understanding of a word based on the words it has read previously.  The bidirectional wrapper for this layer allows it to do this with the tweet both forward and backward.  A given word produces an output based on both the words that come after it, and the words that come before it.  This is similar to how a human makes sense of a text it reads, retroactively contextualizing previously read passages.\n",
    "\n",
    "The dense layer allows the model to abstract what it learns to some degree before selecting a prediction to output."
   ]
  },
  {
   "cell_type": "code",
   "execution_count": 71,
   "metadata": {},
   "outputs": [],
   "source": [
    "def make_RNN(dictionary_length,sequence_len):\n",
    "    embedding_size = 64\n",
    "    model = Sequential()\n",
    "    model.add(Embedding(dictionary_length, sequence_len))\n",
    "    model.add(Bidirectional(LSTM(units=5, \n",
    "                                 return_sequences=True, \n",
    "                                 dropout=0.2,\n",
    "                                 recurrent_regularizer = regularizers.l1_l2(l1=1e-2,l2=1e-2))))\n",
    "    model.add(GlobalMaxPool1D())\n",
    "    model.add(Dense(5, activation='relu',\n",
    "              kernel_regularizer = regularizers.l1_l2(l1=1e-3,l2=1e-3)))\n",
    "    model.add(Dropout(0.2))\n",
    "    model.add(Dense(3, activation='softmax'))\n",
    "\n",
    "    model.compile(optimizer='rmsprop', \n",
    "                  loss='sparse_categorical_crossentropy', \n",
    "                  metrics=['acc'])\n",
    "\n",
    "    return model"
   ]
  },
  {
   "cell_type": "code",
   "execution_count": 72,
   "metadata": {},
   "outputs": [
    {
     "data": {
      "image/png": "[encoded data removed]",
      "text/plain": [
       "<Figure size 720x360 with 2 Axes>"
      ]
     },
     "metadata": {},
     "output_type": "display_data"
    }
   ],
   "source": [
    "RNN =  make_RNN(dictionary_length,sequence_len)\n",
    "history = RNN.fit(X_train_NN, y_train,\n",
    "                     epochs = 5,\n",
    "                     batch_size = 100,\n",
    "                     validation_data = (X_test_NN,y_test),\n",
    "                     verbose = 0)\n",
    "me.graph_model_history(history)"
   ]
  },
  {
   "cell_type": "code",
   "execution_count": 74,
   "metadata": {},
   "outputs": [
    {
     "name": "stdout",
     "output_type": "stream",
     "text": [
      "Statistics for RNN\n"
     ]
    },
    {
     "data": {
      "image/png": "[encoded data removed]",
      "text/plain": [
       "<Figure size 432x288 with 2 Axes>"
      ]
     },
     "metadata": {},
     "output_type": "display_data"
    },
    {
     "name": "stdout",
     "output_type": "stream",
     "text": [
      "model validation accuracy is: 0.6344656758669498\n"
     ]
    }
   ],
   "source": [
    "y_pred = RNN.predict(X_test_NN)\n",
    "y_pred = np.argmax(y_pred,axis=1)\n",
    "print('Statistics for RNN')\n",
    "me.plot_confusion_matrix(y_test,y_pred,\n",
    "                         #save_path = 'figures/best_LSTM_confusion_matrix.png'\n",
    "                        )\n",
    "print(f'model validation accuracy is: {accuracy_score(y_test,y_pred)}')"
   ]
  },
  {
   "cell_type": "markdown",
   "metadata": {},
   "source": [
    "### RNN Evaluation\n",
    "This model successfully classifies tweets about 64% of the time, which is okay, but not great.  Random chance would classify tweets correctly 33% of the time, it is definitely better than that.  It does seem to be better at detecting positive tweets, but scores reasonably evenly across categories without terrible bias, which is good.  With this, we turn to another model architecture."
   ]
  },
  {
   "cell_type": "markdown",
   "metadata": {},
   "source": [
    "# Shallow modeling\n",
    "We tried many shallow models, Random Forests, Gaussian Naive Bayes, and Logistic Regression.  However, the Logistic Regression out performed them all."
   ]
  },
  {
   "cell_type": "markdown",
   "metadata": {},
   "source": [
    "# Best Model: Logistic Regression\n",
    "This model takes another approach to predicting sentiments in tweets.  It will run a count vectorized series of processed tweets through a logitic regression algorithm.  The algorithm will find a best fit line through the data that separates each class using a sigmoid function."
   ]
  },
  {
   "cell_type": "markdown",
   "metadata": {},
   "source": [
    "### Preparing the data for the logistic regression model\n",
    "This model will use a Count Vectorizer to prepare the data for the model, rather than an embedding layer.  This makes a vector of all of the unique words in the entire text, much like the vectorizer we used for the data going into the neural networks.  It encodes tweet with a number for each of the words in the vocabulary.  Most variables will be 0, but the numbers can be any integer that represents the number of times that word appears in the tweet.\n",
    "\n",
    "Count Vectorizer hyperparameters that we will tune are:\n",
    "\n",
    "* n-gram range: (1,1) unigrams (one word), (2,2) bigrams (two adjacent words), (3,3) trigrams (three adjacent words) and their combinations (1,2) and (2,3).\n",
    "* maximum document frequency set to 1%, 5% and 25% that means it will ignore temrs that appear in more than given percentage of the documents.\n",
    "* minimum document frequency set to 1 and 2 that means it will ignore temrs that appear in less than given number of the documents."
   ]
  },
  {
   "cell_type": "code",
   "execution_count": 77,
   "metadata": {},
   "outputs": [],
   "source": [
    "cv = CountVectorizer(ngram_range = (1,2))\n",
    "\n",
    "X_train_vec = cv.fit_transform(X_train)\n",
    "X_test_vec = cv.transform(X_test)"
   ]
  },
  {
   "cell_type": "markdown",
   "metadata": {},
   "source": [
    "### Create and fit the Logistic Regression Model"
   ]
  },
  {
   "cell_type": "code",
   "execution_count": 82,
   "metadata": {},
   "outputs": [
    {
     "data": {
      "image/png": "[encoded data removed]",
      "text/plain": [
       "<Figure size 432x288 with 2 Axes>"
      ]
     },
     "metadata": {},
     "output_type": "display_data"
    },
    {
     "data": {
      "text/plain": [
       "0.6640127388535032"
      ]
     },
     "execution_count": 82,
     "metadata": {},
     "output_type": "execute_result"
    }
   ],
   "source": [
    "lr = LogisticRegression(max_iter=1000)\n",
    "\n",
    "lr.fit(X_train_vec, y_train)\n",
    "y_pred_lg = lr.predict(X_test_vec)\n",
    "me.plot_confusion_matrix(y_test,y_pred_lg, \n",
    "                      #save_path='/figures/logreg_cfm.png'\n",
    "                     )\n",
    "accuracy_score(y_test, y_pred_lg)"
   ]
  },
  {
   "cell_type": "markdown",
   "metadata": {},
   "source": [
    "## Logistic Regression Evaluation\n",
    "This simple model, one of the simplest kinds of predictive modeling has out performed all of our complicated neural networks.  It also fits and predicts much more quickly.  This is clearly the best model we have come up with in every way, though it still struggle a little predicting neutral tweets.  "
   ]
  },
  {
   "cell_type": "markdown",
   "metadata": {},
   "source": [
    "# Summary:\n",
    "We tried embedding our tweet vocabulary in high dimensional space and sending them through a convolutional neural network and a recurrent neural network.  We tried different vectorizing strategies and shallow models and the humble logistic regression model beat them all. This goes to show that natural language processing is more about how you prepare the data then how you process it.  Our model can successfully predict the sentiments of 66% of tweets regarding a specified product, and that's pretty good.  Emotions are hard and labeling emotions is subjective for human labelers.  We are proud of how our model performs and believe that it would be of value to users."
   ]
  },
  {
   "cell_type": "code",
   "execution_count": null,
   "metadata": {},
   "outputs": [],
   "source": []
  }
 ],
 "metadata": {
  "kernelspec": {
   "display_name": "Python 3",
   "language": "python",
   "name": "python3"
  },
  "language_info": {
   "codemirror_mode": {
    "name": "ipython",
    "version": 3
   },
   "file_extension": ".py",
   "mimetype": "text/x-python",
   "name": "python",
   "nbconvert_exporter": "python",
   "pygments_lexer": "ipython3",
   "version": "3.6.9"
  }
 },
 "nbformat": 4,
 "nbformat_minor": 4
}
